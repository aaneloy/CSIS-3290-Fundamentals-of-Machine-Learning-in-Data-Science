{
 "cells": [
  {
   "cell_type": "markdown",
   "metadata": {},
   "source": [
    "# Logistic Regression\n",
    "\n",
    "In this exercise, you will implement logistic regression and apply it to two different datasets. \n",
    "\n",
    "\n",
    "# Outline\n",
    "- [ 1 - Packages ](#1)\n",
    "- [ 2 - Logistic Regression](#2)\n",
    "  - [ 2.1 Problem Statement](#2.1)\n",
    "  - [ 2.2 Loading and visualizing the data](#2.2)\n",
    "  - [ 2.3  Sigmoid function](#2.3)\n",
    "  - [ 2.4 Cost function for logistic regression](#2.4)\n",
    "  - [ 2.5 Gradient for logistic regression](#2.5)\n",
    "  - [ 2.6 Learning parameters using gradient descent ](#2.6)\n",
    "  - [ 2.7 Plotting the decision boundary](#2.7)\n",
    "  - [ 2.8 Evaluating logistic regression](#2.8)\n",
    "- [ 3 - Regularized Logistic Regression](#3)\n",
    "  - [ 3.1 Problem Statement](#3.1)\n",
    "  - [ 3.2 Loading and visualizing the data](#3.2)\n",
    "  - [ 3.3 Feature mapping](#3.3)\n",
    "  - [ 3.4 Cost function for regularized logistic regression](#3.4)\n",
    "  - [ 3.5 Gradient for regularized logistic regression](#3.5)\n",
    "  - [ 3.6 Learning parameters using gradient descent](#3.6)\n",
    "  - [ 3.7 Plotting the decision boundary](#3.7)\n",
    "  - [ 3.8 Evaluating regularized logistic regression model](#3.8)\n"
   ]
  },
  {
   "cell_type": "markdown",
   "metadata": {},
   "source": [
    "<a name=\"1\"></a>\n",
    "## 1 - Packages \n",
    "\n",
    "First, let's run the cell below to import all the packages that you will need during this assignment.\n",
    "- [numpy](www.numpy.org) is the fundamental package for scientific computing with Python.\n",
    "- [matplotlib](http://matplotlib.org) is a famous library to plot graphs in Python.\n",
    "-  ``utils.py`` contains helper functions for this assignment. You do not need to modify code in this file."
   ]
  },
  {
   "cell_type": "code",
   "execution_count": 1,
   "metadata": {},
   "outputs": [],
   "source": [
    "import numpy as np\n",
    "import matplotlib.pyplot as plt\n",
    "from utils_w3 import *\n",
    "import copy\n",
    "import math\n",
    "\n",
    "%matplotlib inline\n",
    "plt.style.use(\"seaborn\")"
   ]
  },
  {
   "cell_type": "markdown",
   "metadata": {},
   "source": [
    "<a name=\"2\"></a>\n",
    "## 2 - Logistic Regression\n",
    "\n",
    "In this part of the exercise, you will build a logistic regression model to predict whether a student gets admitted into a university.\n",
    "\n",
    "<a name=\"2.1\"></a>\n",
    "### 2.1 Problem Statement\n",
    "\n",
    "Suppose that you are the administrator of a university department and you want to determine each applicant’s chance of admission based on their results on two exams. \n",
    "* You have historical data from previous applicants that you can use as a training set for logistic regression. \n",
    "* For each training example, you have the applicant’s scores on two exams and the admissions decision. \n",
    "* Your task is to build a classification model that estimates an applicant’s probability of admission based on the scores from those two exams. \n",
    "\n",
    "<a name=\"2.2\"></a>\n",
    "### 2.2 Loading and visualizing the data\n",
    "\n",
    "You will start by loading the dataset for this task. \n",
    "- The `load_dataset()` function shown below loads the data into variables `X_train` and `y_train`\n",
    "  - `X_train` contains exam scores on two exams for a student\n",
    "  - `y_train` is the admission decision \n",
    "      - `y_train = 1` if the student was admitted \n",
    "      - `y_train = 0` if the student was not admitted \n",
    "  - Both `X_train` and `y_train` are numpy arrays.\n"
   ]
  },
  {
   "cell_type": "code",
   "execution_count": 2,
   "metadata": {},
   "outputs": [],
   "source": [
    "# load dataset\n",
    "X_train, y_train = load_data(\"data/ex2data1_w3.txt\")"
   ]
  },
  {
   "cell_type": "markdown",
   "metadata": {},
   "source": [
    "#### View the variables\n",
    "Let's get more familiar with your dataset.  \n",
    "- A good place to start is to just print out each variable and see what it contains.\n",
    "\n",
    "The code below prints the first five values of `X_train` and the type of the variable."
   ]
  },
  {
   "cell_type": "code",
   "execution_count": 3,
   "metadata": {},
   "outputs": [
    {
     "name": "stdout",
     "output_type": "stream",
     "text": [
      "First five elements in X_train are:\n",
      " [[34.62365962 78.02469282]\n",
      " [30.28671077 43.89499752]\n",
      " [35.84740877 72.90219803]\n",
      " [60.18259939 86.3085521 ]\n",
      " [79.03273605 75.34437644]]\n",
      "Type of X_train: <class 'numpy.ndarray'>\n"
     ]
    }
   ],
   "source": [
    "print(\"First five elements in X_train are:\\n\", X_train[:5])\n",
    "print(\"Type of X_train:\",type(X_train))"
   ]
  },
  {
   "cell_type": "markdown",
   "metadata": {},
   "source": [
    "Now print the first five values of `y_train`"
   ]
  },
  {
   "cell_type": "code",
   "execution_count": 4,
   "metadata": {},
   "outputs": [
    {
     "name": "stdout",
     "output_type": "stream",
     "text": [
      "First five elements in y_train are:\n",
      " [0. 0. 0. 1. 1.]\n",
      "Type of y_train: <class 'numpy.ndarray'>\n"
     ]
    }
   ],
   "source": [
    "print(\"First five elements in y_train are:\\n\", y_train[:5])\n",
    "print(\"Type of y_train:\",type(y_train))"
   ]
  },
  {
   "cell_type": "markdown",
   "metadata": {},
   "source": [
    "#### Check the dimensions of your variables\n",
    "\n",
    "Another useful way to get familiar with your data is to view its dimensions. Let's print the shape of `X_train` and `y_train` and see how many training examples we have in our dataset."
   ]
  },
  {
   "cell_type": "code",
   "execution_count": 5,
   "metadata": {},
   "outputs": [
    {
     "name": "stdout",
     "output_type": "stream",
     "text": [
      "The shape of X_train is: (100, 2)\n",
      "The shape of y_train is: (100,)\n",
      "We have m = 100 training examples\n"
     ]
    }
   ],
   "source": [
    "print ('The shape of X_train is: ' + str(X_train.shape))\n",
    "print ('The shape of y_train is: ' + str(y_train.shape))\n",
    "print ('We have m = %d training examples' % (len(y_train)))"
   ]
  },
  {
   "cell_type": "markdown",
   "metadata": {},
   "source": [
    "#### Visualize your data\n",
    "\n",
    "Before starting to implement any learning algorithm, it is always good to visualize the data if possible.\n",
    "- The code below displays the data on a 2D plot (as shown below), where the axes are the two exam scores, and the positive and negative examples are shown with different markers.\n",
    "- We use a helper function in the ``utils.py`` file to generate this plot. \n",
    "\n",
    "<img src=\"./figure 1.png\" width=\"450\" height=\"450\">\n",
    "\n"
   ]
  },
  {
   "cell_type": "code",
   "execution_count": 6,
   "metadata": {},
   "outputs": [
    {
     "data": {
      "image/png": "[encoded data removed]",
      "image/svg+xml": "<?xml version=\"1.0\" encoding=\"utf-8\" standalone=\"no\"?>\n<!DOCTYPE svg PUBLIC \"-//W3C//DTD SVG 1.1//EN\"\n  \"http://www.w3.org/Graphics/SVG/1.1/DTD/svg11.dtd\">\n<svg xmlns:xlink=\"http://www.w3.org/1999/xlink\" width=\"498.542656pt\" height=\"343.585156pt\" viewBox=\"0 0 498.542656 343.585156\" xmlns=\"http://www.w3.org/2000/svg\" version=\"1.1\">\n <metadata>\n  <rdf:RDF xmlns:dc=\"http://purl.org/dc/elements/1.1/\" xmlns:cc=\"http://creativecommons.org/ns#\" xmlns:rdf=\"http://www.w3.org/1999/02/22-rdf-syntax-ns#\">\n   <cc:Work>\n    <dc:type rdf:resource=\"http://purl.org/dc/dcmitype/StillImage\"/>\n    <dc:date>2022-08-01T08:39:21.982560</dc:date>\n    <dc:format>image/svg+xml</dc:format>\n    <dc:creator>\n     <cc:Agent>\n      <dc:title>Matplotlib v3.5.2, https://matplotlib.org/</dc:title>\n     </cc:Agent>\n    </dc:creator>\n   </cc:Work>\n  </rdf:RDF>\n </metadata>\n <defs>\n  <style type=\"text/css\">*{stroke-linejoin: round; stroke-linecap: butt}</style>\n </defs>\n <g id=\"figure_1\">\n  <g id=\"patch_1\">\n   <path d=\"M 0 343.585156 \nL 498.542656 343.585156 \nL 498.542656 0 \nL 0 0 \nz\n\" style=\"fill: #ffffff\"/>\n  </g>\n  <g id=\"axes_1\">\n   <g id=\"patch_2\">\n    <path d=\"M 44.942656 306.18 \nL 491.342656 306.18 \nL 491.342656 7.2 \nL 44.942656 7.2 \nz\n\" style=\"fill: #eaeaf2\"/>\n   </g>\n   <g id=\"matplotlib.axis_1\">\n    <g id=\"xtick_1\">\n     <g id=\"line2d_1\">\n      <path d=\"M 64.891419 306.18 \nL 64.891419 7.2 \n\" clip-path=\"url(#p42acf8097f)\" style=\"fill: none; stroke: #ffffff; stroke-linecap: round\"/>\n     </g>\n     <g id=\"line2d_2\"/>\n     <g id=\"text_1\">\n      <!-- 30 -->\n      <g style=\"fill: #262626\" transform=\"translate(59.330482 320.337812)scale(0.1 -0.1)\">\n       <defs>\n        <path id=\"ArialMT-33\" d=\"M 269 1209 \nL 831 1284 \nQ 928 806 1161 595 \nQ 1394 384 1728 384 \nQ 2125 384 2398 659 \nQ 2672 934 2672 1341 \nQ 2672 1728 2419 1979 \nQ 2166 2231 1775 2231 \nQ 1616 2231 1378 2169 \nL 1441 2663 \nQ 1497 2656 1531 2656 \nQ 1891 2656 2178 2843 \nQ 2466 3031 2466 3422 \nQ 2466 3731 2256 3934 \nQ 2047 4138 1716 4138 \nQ 1388 4138 1169 3931 \nQ 950 3725 888 3313 \nL 325 3413 \nQ 428 3978 793 4289 \nQ 1159 4600 1703 4600 \nQ 2078 4600 2393 4439 \nQ 2709 4278 2876 4000 \nQ 3044 3722 3044 3409 \nQ 3044 3113 2884 2869 \nQ 2725 2625 2413 2481 \nQ 2819 2388 3044 2092 \nQ 3269 1797 3269 1353 \nQ 3269 753 2831 336 \nQ 2394 -81 1725 -81 \nQ 1122 -81 723 278 \nQ 325 638 269 1209 \nz\n\" transform=\"scale(0.015625)\"/>\n        <path id=\"ArialMT-30\" d=\"M 266 2259 \nQ 266 3072 433 3567 \nQ 600 4063 929 4331 \nQ 1259 4600 1759 4600 \nQ 2128 4600 2406 4451 \nQ 2684 4303 2865 4023 \nQ 3047 3744 3150 3342 \nQ 3253 2941 3253 2259 \nQ 3253 1453 3087 958 \nQ 2922 463 2592 192 \nQ 2263 -78 1759 -78 \nQ 1097 -78 719 397 \nQ 266 969 266 2259 \nz\nM 844 2259 \nQ 844 1131 1108 757 \nQ 1372 384 1759 384 \nQ 2147 384 2411 759 \nQ 2675 1134 2675 2259 \nQ 2675 3391 2411 3762 \nQ 2147 4134 1753 4134 \nQ 1366 4134 1134 3806 \nQ 844 3388 844 2259 \nz\n\" transform=\"scale(0.015625)\"/>\n       </defs>\n       <use xlink:href=\"#ArialMT-33\"/>\n       <use xlink:href=\"#ArialMT-30\" x=\"55.615234\"/>\n      </g>\n     </g>\n    </g>\n    <g id=\"xtick_2\">\n     <g id=\"line2d_3\">\n      <path d=\"M 123.057363 306.18 \nL 123.057363 7.2 \n\" clip-path=\"url(#p42acf8097f)\" style=\"fill: none; stroke: #ffffff; stroke-linecap: round\"/>\n     </g>\n     <g id=\"line2d_4\"/>\n     <g id=\"text_2\">\n      <!-- 40 -->\n      <g style=\"fill: #262626\" transform=\"translate(117.496426 320.337812)scale(0.1 -0.1)\">\n       <defs>\n        <path id=\"ArialMT-34\" d=\"M 2069 0 \nL 2069 1097 \nL 81 1097 \nL 81 1613 \nL 2172 4581 \nL 2631 4581 \nL 2631 1613 \nL 3250 1613 \nL 3250 1097 \nL 2631 1097 \nL 2631 0 \nL 2069 0 \nz\nM 2069 1613 \nL 2069 3678 \nL 634 1613 \nL 2069 1613 \nz\n\" transform=\"scale(0.015625)\"/>\n       </defs>\n       <use xlink:href=\"#ArialMT-34\"/>\n       <use xlink:href=\"#ArialMT-30\" x=\"55.615234\"/>\n      </g>\n     </g>\n    </g>\n    <g id=\"xtick_3\">\n     <g id=\"line2d_5\">\n      <path d=\"M 181.223307 306.18 \nL 181.223307 7.2 \n\" clip-path=\"url(#p42acf8097f)\" style=\"fill: none; stroke: #ffffff; stroke-linecap: round\"/>\n     </g>\n     <g id=\"line2d_6\"/>\n     <g id=\"text_3\">\n      <!-- 50 -->\n      <g style=\"fill: #262626\" transform=\"translate(175.66237 320.337812)scale(0.1 -0.1)\">\n       <defs>\n        <path id=\"ArialMT-35\" d=\"M 266 1200 \nL 856 1250 \nQ 922 819 1161 601 \nQ 1400 384 1738 384 \nQ 2144 384 2425 690 \nQ 2706 997 2706 1503 \nQ 2706 1984 2436 2262 \nQ 2166 2541 1728 2541 \nQ 1456 2541 1237 2417 \nQ 1019 2294 894 2097 \nL 366 2166 \nL 809 4519 \nL 3088 4519 \nL 3088 3981 \nL 1259 3981 \nL 1013 2750 \nQ 1425 3038 1878 3038 \nQ 2478 3038 2890 2622 \nQ 3303 2206 3303 1553 \nQ 3303 931 2941 478 \nQ 2500 -78 1738 -78 \nQ 1113 -78 717 272 \nQ 322 622 266 1200 \nz\n\" transform=\"scale(0.015625)\"/>\n       </defs>\n       <use xlink:href=\"#ArialMT-35\"/>\n       <use xlink:href=\"#ArialMT-30\" x=\"55.615234\"/>\n      </g>\n     </g>\n    </g>\n    <g id=\"xtick_4\">\n     <g id=\"line2d_7\">\n      <path d=\"M 239.389252 306.18 \nL 239.389252 7.2 \n\" clip-path=\"url(#p42acf8097f)\" style=\"fill: none; stroke: #ffffff; stroke-linecap: round\"/>\n     </g>\n     <g id=\"line2d_8\"/>\n     <g id=\"text_4\">\n      <!-- 60 -->\n      <g style=\"fill: #262626\" transform=\"translate(233.828314 320.337812)scale(0.1 -0.1)\">\n       <defs>\n        <path id=\"ArialMT-36\" d=\"M 3184 3459 \nL 2625 3416 \nQ 2550 3747 2413 3897 \nQ 2184 4138 1850 4138 \nQ 1581 4138 1378 3988 \nQ 1113 3794 959 3422 \nQ 806 3050 800 2363 \nQ 1003 2672 1297 2822 \nQ 1591 2972 1913 2972 \nQ 2475 2972 2870 2558 \nQ 3266 2144 3266 1488 \nQ 3266 1056 3080 686 \nQ 2894 316 2569 119 \nQ 2244 -78 1831 -78 \nQ 1128 -78 684 439 \nQ 241 956 241 2144 \nQ 241 3472 731 4075 \nQ 1159 4600 1884 4600 \nQ 2425 4600 2770 4297 \nQ 3116 3994 3184 3459 \nz\nM 888 1484 \nQ 888 1194 1011 928 \nQ 1134 663 1356 523 \nQ 1578 384 1822 384 \nQ 2178 384 2434 671 \nQ 2691 959 2691 1453 \nQ 2691 1928 2437 2201 \nQ 2184 2475 1800 2475 \nQ 1419 2475 1153 2201 \nQ 888 1928 888 1484 \nz\n\" transform=\"scale(0.015625)\"/>\n       </defs>\n       <use xlink:href=\"#ArialMT-36\"/>\n       <use xlink:href=\"#ArialMT-30\" x=\"55.615234\"/>\n      </g>\n     </g>\n    </g>\n    <g id=\"xtick_5\">\n     <g id=\"line2d_9\">\n      <path d=\"M 297.555196 306.18 \nL 297.555196 7.2 \n\" clip-path=\"url(#p42acf8097f)\" style=\"fill: none; stroke: #ffffff; stroke-linecap: round\"/>\n     </g>\n     <g id=\"line2d_10\"/>\n     <g id=\"text_5\">\n      <!-- 70 -->\n      <g style=\"fill: #262626\" transform=\"translate(291.994258 320.337812)scale(0.1 -0.1)\">\n       <defs>\n        <path id=\"ArialMT-37\" d=\"M 303 3981 \nL 303 4522 \nL 3269 4522 \nL 3269 4084 \nQ 2831 3619 2401 2847 \nQ 1972 2075 1738 1259 \nQ 1569 684 1522 0 \nL 944 0 \nQ 953 541 1156 1306 \nQ 1359 2072 1739 2783 \nQ 2119 3494 2547 3981 \nL 303 3981 \nz\n\" transform=\"scale(0.015625)\"/>\n       </defs>\n       <use xlink:href=\"#ArialMT-37\"/>\n       <use xlink:href=\"#ArialMT-30\" x=\"55.615234\"/>\n      </g>\n     </g>\n    </g>\n    <g id=\"xtick_6\">\n     <g id=\"line2d_11\">\n      <path d=\"M 355.72114 306.18 \nL 355.72114 7.2 \n\" clip-path=\"url(#p42acf8097f)\" style=\"fill: none; stroke: #ffffff; stroke-linecap: round\"/>\n     </g>\n     <g id=\"line2d_12\"/>\n     <g id=\"text_6\">\n      <!-- 80 -->\n      <g style=\"fill: #262626\" transform=\"translate(350.160203 320.337812)scale(0.1 -0.1)\">\n       <defs>\n        <path id=\"ArialMT-38\" d=\"M 1131 2484 \nQ 781 2613 612 2850 \nQ 444 3088 444 3419 \nQ 444 3919 803 4259 \nQ 1163 4600 1759 4600 \nQ 2359 4600 2725 4251 \nQ 3091 3903 3091 3403 \nQ 3091 3084 2923 2848 \nQ 2756 2613 2416 2484 \nQ 2838 2347 3058 2040 \nQ 3278 1734 3278 1309 \nQ 3278 722 2862 322 \nQ 2447 -78 1769 -78 \nQ 1091 -78 675 323 \nQ 259 725 259 1325 \nQ 259 1772 486 2073 \nQ 713 2375 1131 2484 \nz\nM 1019 3438 \nQ 1019 3113 1228 2906 \nQ 1438 2700 1772 2700 \nQ 2097 2700 2305 2904 \nQ 2513 3109 2513 3406 \nQ 2513 3716 2298 3927 \nQ 2084 4138 1766 4138 \nQ 1444 4138 1231 3931 \nQ 1019 3725 1019 3438 \nz\nM 838 1322 \nQ 838 1081 952 856 \nQ 1066 631 1291 507 \nQ 1516 384 1775 384 \nQ 2178 384 2440 643 \nQ 2703 903 2703 1303 \nQ 2703 1709 2433 1975 \nQ 2163 2241 1756 2241 \nQ 1359 2241 1098 1978 \nQ 838 1716 838 1322 \nz\n\" transform=\"scale(0.015625)\"/>\n       </defs>\n       <use xlink:href=\"#ArialMT-38\"/>\n       <use xlink:href=\"#ArialMT-30\" x=\"55.615234\"/>\n      </g>\n     </g>\n    </g>\n    <g id=\"xtick_7\">\n     <g id=\"line2d_13\">\n      <path d=\"M 413.887084 306.18 \nL 413.887084 7.2 \n\" clip-path=\"url(#p42acf8097f)\" style=\"fill: none; stroke: #ffffff; stroke-linecap: round\"/>\n     </g>\n     <g id=\"line2d_14\"/>\n     <g id=\"text_7\">\n      <!-- 90 -->\n      <g style=\"fill: #262626\" transform=\"translate(408.326147 320.337812)scale(0.1 -0.1)\">\n       <defs>\n        <path id=\"ArialMT-39\" d=\"M 350 1059 \nL 891 1109 \nQ 959 728 1153 556 \nQ 1347 384 1650 384 \nQ 1909 384 2104 503 \nQ 2300 622 2425 820 \nQ 2550 1019 2634 1356 \nQ 2719 1694 2719 2044 \nQ 2719 2081 2716 2156 \nQ 2547 1888 2255 1720 \nQ 1963 1553 1622 1553 \nQ 1053 1553 659 1965 \nQ 266 2378 266 3053 \nQ 266 3750 677 4175 \nQ 1088 4600 1706 4600 \nQ 2153 4600 2523 4359 \nQ 2894 4119 3086 3673 \nQ 3278 3228 3278 2384 \nQ 3278 1506 3087 986 \nQ 2897 466 2520 194 \nQ 2144 -78 1638 -78 \nQ 1100 -78 759 220 \nQ 419 519 350 1059 \nz\nM 2653 3081 \nQ 2653 3566 2395 3850 \nQ 2138 4134 1775 4134 \nQ 1400 4134 1122 3828 \nQ 844 3522 844 3034 \nQ 844 2597 1108 2323 \nQ 1372 2050 1759 2050 \nQ 2150 2050 2401 2323 \nQ 2653 2597 2653 3081 \nz\n\" transform=\"scale(0.015625)\"/>\n       </defs>\n       <use xlink:href=\"#ArialMT-39\"/>\n       <use xlink:href=\"#ArialMT-30\" x=\"55.615234\"/>\n      </g>\n     </g>\n    </g>\n    <g id=\"xtick_8\">\n     <g id=\"line2d_15\">\n      <path d=\"M 472.053029 306.18 \nL 472.053029 7.2 \n\" clip-path=\"url(#p42acf8097f)\" style=\"fill: none; stroke: #ffffff; stroke-linecap: round\"/>\n     </g>\n     <g id=\"line2d_16\"/>\n     <g id=\"text_8\">\n      <!-- 100 -->\n      <g style=\"fill: #262626\" transform=\"translate(463.711622 320.337812)scale(0.1 -0.1)\">\n       <defs>\n        <path id=\"ArialMT-31\" d=\"M 2384 0 \nL 1822 0 \nL 1822 3584 \nQ 1619 3391 1289 3197 \nQ 959 3003 697 2906 \nL 697 3450 \nQ 1169 3672 1522 3987 \nQ 1875 4303 2022 4600 \nL 2384 4600 \nL 2384 0 \nz\n\" transform=\"scale(0.015625)\"/>\n       </defs>\n       <use xlink:href=\"#ArialMT-31\"/>\n       <use xlink:href=\"#ArialMT-30\" x=\"55.615234\"/>\n       <use xlink:href=\"#ArialMT-30\" x=\"111.230469\"/>\n      </g>\n     </g>\n    </g>\n    <g id=\"text_9\">\n     <!-- Exam 1 score -->\n     <g style=\"fill: #262626\" transform=\"translate(234.521328 334.198906)scale(0.11 -0.11)\">\n      <defs>\n       <path id=\"ArialMT-45\" d=\"M 506 0 \nL 506 4581 \nL 3819 4581 \nL 3819 4041 \nL 1113 4041 \nL 1113 2638 \nL 3647 2638 \nL 3647 2100 \nL 1113 2100 \nL 1113 541 \nL 3925 541 \nL 3925 0 \nL 506 0 \nz\n\" transform=\"scale(0.015625)\"/>\n       <path id=\"ArialMT-78\" d=\"M 47 0 \nL 1259 1725 \nL 138 3319 \nL 841 3319 \nL 1350 2541 \nQ 1494 2319 1581 2169 \nQ 1719 2375 1834 2534 \nL 2394 3319 \nL 3066 3319 \nL 1919 1756 \nL 3153 0 \nL 2463 0 \nL 1781 1031 \nL 1600 1309 \nL 728 0 \nL 47 0 \nz\n\" transform=\"scale(0.015625)\"/>\n       <path id=\"ArialMT-61\" d=\"M 2588 409 \nQ 2275 144 1986 34 \nQ 1697 -75 1366 -75 \nQ 819 -75 525 192 \nQ 231 459 231 875 \nQ 231 1119 342 1320 \nQ 453 1522 633 1644 \nQ 813 1766 1038 1828 \nQ 1203 1872 1538 1913 \nQ 2219 1994 2541 2106 \nQ 2544 2222 2544 2253 \nQ 2544 2597 2384 2738 \nQ 2169 2928 1744 2928 \nQ 1347 2928 1158 2789 \nQ 969 2650 878 2297 \nL 328 2372 \nQ 403 2725 575 2942 \nQ 747 3159 1072 3276 \nQ 1397 3394 1825 3394 \nQ 2250 3394 2515 3294 \nQ 2781 3194 2906 3042 \nQ 3031 2891 3081 2659 \nQ 3109 2516 3109 2141 \nL 3109 1391 \nQ 3109 606 3145 398 \nQ 3181 191 3288 0 \nL 2700 0 \nQ 2613 175 2588 409 \nz\nM 2541 1666 \nQ 2234 1541 1622 1453 \nQ 1275 1403 1131 1340 \nQ 988 1278 909 1158 \nQ 831 1038 831 891 \nQ 831 666 1001 516 \nQ 1172 366 1500 366 \nQ 1825 366 2078 508 \nQ 2331 650 2450 897 \nQ 2541 1088 2541 1459 \nL 2541 1666 \nz\n\" transform=\"scale(0.015625)\"/>\n       <path id=\"ArialMT-6d\" d=\"M 422 0 \nL 422 3319 \nL 925 3319 \nL 925 2853 \nQ 1081 3097 1340 3245 \nQ 1600 3394 1931 3394 \nQ 2300 3394 2536 3241 \nQ 2772 3088 2869 2813 \nQ 3263 3394 3894 3394 \nQ 4388 3394 4653 3120 \nQ 4919 2847 4919 2278 \nL 4919 0 \nL 4359 0 \nL 4359 2091 \nQ 4359 2428 4304 2576 \nQ 4250 2725 4106 2815 \nQ 3963 2906 3769 2906 \nQ 3419 2906 3187 2673 \nQ 2956 2441 2956 1928 \nL 2956 0 \nL 2394 0 \nL 2394 2156 \nQ 2394 2531 2256 2718 \nQ 2119 2906 1806 2906 \nQ 1569 2906 1367 2781 \nQ 1166 2656 1075 2415 \nQ 984 2175 984 1722 \nL 984 0 \nL 422 0 \nz\n\" transform=\"scale(0.015625)\"/>\n       <path id=\"ArialMT-20\" transform=\"scale(0.015625)\"/>\n       <path id=\"ArialMT-73\" d=\"M 197 991 \nL 753 1078 \nQ 800 744 1014 566 \nQ 1228 388 1613 388 \nQ 2000 388 2187 545 \nQ 2375 703 2375 916 \nQ 2375 1106 2209 1216 \nQ 2094 1291 1634 1406 \nQ 1016 1563 777 1677 \nQ 538 1791 414 1992 \nQ 291 2194 291 2438 \nQ 291 2659 392 2848 \nQ 494 3038 669 3163 \nQ 800 3259 1026 3326 \nQ 1253 3394 1513 3394 \nQ 1903 3394 2198 3281 \nQ 2494 3169 2634 2976 \nQ 2775 2784 2828 2463 \nL 2278 2388 \nQ 2241 2644 2061 2787 \nQ 1881 2931 1553 2931 \nQ 1166 2931 1000 2803 \nQ 834 2675 834 2503 \nQ 834 2394 903 2306 \nQ 972 2216 1119 2156 \nQ 1203 2125 1616 2013 \nQ 2213 1853 2448 1751 \nQ 2684 1650 2818 1456 \nQ 2953 1263 2953 975 \nQ 2953 694 2789 445 \nQ 2625 197 2315 61 \nQ 2006 -75 1616 -75 \nQ 969 -75 630 194 \nQ 291 463 197 991 \nz\n\" transform=\"scale(0.015625)\"/>\n       <path id=\"ArialMT-63\" d=\"M 2588 1216 \nL 3141 1144 \nQ 3050 572 2676 248 \nQ 2303 -75 1759 -75 \nQ 1078 -75 664 370 \nQ 250 816 250 1647 \nQ 250 2184 428 2587 \nQ 606 2991 970 3192 \nQ 1334 3394 1763 3394 \nQ 2303 3394 2647 3120 \nQ 2991 2847 3088 2344 \nL 2541 2259 \nQ 2463 2594 2264 2762 \nQ 2066 2931 1784 2931 \nQ 1359 2931 1093 2626 \nQ 828 2322 828 1663 \nQ 828 994 1084 691 \nQ 1341 388 1753 388 \nQ 2084 388 2306 591 \nQ 2528 794 2588 1216 \nz\n\" transform=\"scale(0.015625)\"/>\n       <path id=\"ArialMT-6f\" d=\"M 213 1659 \nQ 213 2581 725 3025 \nQ 1153 3394 1769 3394 \nQ 2453 3394 2887 2945 \nQ 3322 2497 3322 1706 \nQ 3322 1066 3130 698 \nQ 2938 331 2570 128 \nQ 2203 -75 1769 -75 \nQ 1072 -75 642 372 \nQ 213 819 213 1659 \nz\nM 791 1659 \nQ 791 1022 1069 705 \nQ 1347 388 1769 388 \nQ 2188 388 2466 706 \nQ 2744 1025 2744 1678 \nQ 2744 2294 2464 2611 \nQ 2184 2928 1769 2928 \nQ 1347 2928 1069 2612 \nQ 791 2297 791 1659 \nz\n\" transform=\"scale(0.015625)\"/>\n       <path id=\"ArialMT-72\" d=\"M 416 0 \nL 416 3319 \nL 922 3319 \nL 922 2816 \nQ 1116 3169 1280 3281 \nQ 1444 3394 1641 3394 \nQ 1925 3394 2219 3213 \nL 2025 2691 \nQ 1819 2813 1613 2813 \nQ 1428 2813 1281 2702 \nQ 1134 2591 1072 2394 \nQ 978 2094 978 1738 \nL 978 0 \nL 416 0 \nz\n\" transform=\"scale(0.015625)\"/>\n       <path id=\"ArialMT-65\" d=\"M 2694 1069 \nL 3275 997 \nQ 3138 488 2766 206 \nQ 2394 -75 1816 -75 \nQ 1088 -75 661 373 \nQ 234 822 234 1631 \nQ 234 2469 665 2931 \nQ 1097 3394 1784 3394 \nQ 2450 3394 2872 2941 \nQ 3294 2488 3294 1666 \nQ 3294 1616 3291 1516 \nL 816 1516 \nQ 847 969 1125 678 \nQ 1403 388 1819 388 \nQ 2128 388 2347 550 \nQ 2566 713 2694 1069 \nz\nM 847 1978 \nL 2700 1978 \nQ 2663 2397 2488 2606 \nQ 2219 2931 1791 2931 \nQ 1403 2931 1139 2672 \nQ 875 2413 847 1978 \nz\n\" transform=\"scale(0.015625)\"/>\n      </defs>\n      <use xlink:href=\"#ArialMT-45\"/>\n      <use xlink:href=\"#ArialMT-78\" x=\"66.699219\"/>\n      <use xlink:href=\"#ArialMT-61\" x=\"116.699219\"/>\n      <use xlink:href=\"#ArialMT-6d\" x=\"172.314453\"/>\n      <use xlink:href=\"#ArialMT-20\" x=\"255.615234\"/>\n      <use xlink:href=\"#ArialMT-31\" x=\"283.398438\"/>\n      <use xlink:href=\"#ArialMT-20\" x=\"339.013672\"/>\n      <use xlink:href=\"#ArialMT-73\" x=\"366.796875\"/>\n      <use xlink:href=\"#ArialMT-63\" x=\"416.796875\"/>\n      <use xlink:href=\"#ArialMT-6f\" x=\"466.796875\"/>\n      <use xlink:href=\"#ArialMT-72\" x=\"522.412109\"/>\n      <use xlink:href=\"#ArialMT-65\" x=\"555.712891\"/>\n     </g>\n    </g>\n   </g>\n   <g id=\"matplotlib.axis_2\">\n    <g id=\"ytick_1\">\n     <g id=\"line2d_17\">\n      <path d=\"M 44.942656 294.991877 \nL 491.342656 294.991877 \n\" clip-path=\"url(#p42acf8097f)\" style=\"fill: none; stroke: #ffffff; stroke-linecap: round\"/>\n     </g>\n     <g id=\"line2d_18\"/>\n     <g id=\"text_10\">\n      <!-- 30 -->\n      <g style=\"fill: #262626\" transform=\"translate(26.820781 298.570783)scale(0.1 -0.1)\">\n       <use xlink:href=\"#ArialMT-33\"/>\n       <use xlink:href=\"#ArialMT-30\" x=\"55.615234\"/>\n      </g>\n     </g>\n    </g>\n    <g id=\"ytick_2\">\n     <g id=\"line2d_19\">\n      <path d=\"M 44.942656 255.177136 \nL 491.342656 255.177136 \n\" clip-path=\"url(#p42acf8097f)\" style=\"fill: none; stroke: #ffffff; stroke-linecap: round\"/>\n     </g>\n     <g id=\"line2d_20\"/>\n     <g id=\"text_11\">\n      <!-- 40 -->\n      <g style=\"fill: #262626\" transform=\"translate(26.820781 258.756042)scale(0.1 -0.1)\">\n       <use xlink:href=\"#ArialMT-34\"/>\n       <use xlink:href=\"#ArialMT-30\" x=\"55.615234\"/>\n      </g>\n     </g>\n    </g>\n    <g id=\"ytick_3\">\n     <g id=\"line2d_21\">\n      <path d=\"M 44.942656 215.362394 \nL 491.342656 215.362394 \n\" clip-path=\"url(#p42acf8097f)\" style=\"fill: none; stroke: #ffffff; stroke-linecap: round\"/>\n     </g>\n     <g id=\"line2d_22\"/>\n     <g id=\"text_12\">\n      <!-- 50 -->\n      <g style=\"fill: #262626\" transform=\"translate(26.820781 218.941301)scale(0.1 -0.1)\">\n       <use xlink:href=\"#ArialMT-35\"/>\n       <use xlink:href=\"#ArialMT-30\" x=\"55.615234\"/>\n      </g>\n     </g>\n    </g>\n    <g id=\"ytick_4\">\n     <g id=\"line2d_23\">\n      <path d=\"M 44.942656 175.547653 \nL 491.342656 175.547653 \n\" clip-path=\"url(#p42acf8097f)\" style=\"fill: none; stroke: #ffffff; stroke-linecap: round\"/>\n     </g>\n     <g id=\"line2d_24\"/>\n     <g id=\"text_13\">\n      <!-- 60 -->\n      <g style=\"fill: #262626\" transform=\"translate(26.820781 179.126559)scale(0.1 -0.1)\">\n       <use xlink:href=\"#ArialMT-36\"/>\n       <use xlink:href=\"#ArialMT-30\" x=\"55.615234\"/>\n      </g>\n     </g>\n    </g>\n    <g id=\"ytick_5\">\n     <g id=\"line2d_25\">\n      <path d=\"M 44.942656 135.732912 \nL 491.342656 135.732912 \n\" clip-path=\"url(#p42acf8097f)\" style=\"fill: none; stroke: #ffffff; stroke-linecap: round\"/>\n     </g>\n     <g id=\"line2d_26\"/>\n     <g id=\"text_14\">\n      <!-- 70 -->\n      <g style=\"fill: #262626\" transform=\"translate(26.820781 139.311818)scale(0.1 -0.1)\">\n       <use xlink:href=\"#ArialMT-37\"/>\n       <use xlink:href=\"#ArialMT-30\" x=\"55.615234\"/>\n      </g>\n     </g>\n    </g>\n    <g id=\"ytick_6\">\n     <g id=\"line2d_27\">\n      <path d=\"M 44.942656 95.91817 \nL 491.342656 95.91817 \n\" clip-path=\"url(#p42acf8097f)\" style=\"fill: none; stroke: #ffffff; stroke-linecap: round\"/>\n     </g>\n     <g id=\"line2d_28\"/>\n     <g id=\"text_15\">\n      <!-- 80 -->\n      <g style=\"fill: #262626\" transform=\"translate(26.820781 99.497077)scale(0.1 -0.1)\">\n       <use xlink:href=\"#ArialMT-38\"/>\n       <use xlink:href=\"#ArialMT-30\" x=\"55.615234\"/>\n      </g>\n     </g>\n    </g>\n    <g id=\"ytick_7\">\n     <g id=\"line2d_29\">\n      <path d=\"M 44.942656 56.103429 \nL 491.342656 56.103429 \n\" clip-path=\"url(#p42acf8097f)\" style=\"fill: none; stroke: #ffffff; stroke-linecap: round\"/>\n     </g>\n     <g id=\"line2d_30\"/>\n     <g id=\"text_16\">\n      <!-- 90 -->\n      <g style=\"fill: #262626\" transform=\"translate(26.820781 59.682335)scale(0.1 -0.1)\">\n       <use xlink:href=\"#ArialMT-39\"/>\n       <use xlink:href=\"#ArialMT-30\" x=\"55.615234\"/>\n      </g>\n     </g>\n    </g>\n    <g id=\"ytick_8\">\n     <g id=\"line2d_31\">\n      <path d=\"M 44.942656 16.288688 \nL 491.342656 16.288688 \n\" clip-path=\"url(#p42acf8097f)\" style=\"fill: none; stroke: #ffffff; stroke-linecap: round\"/>\n     </g>\n     <g id=\"line2d_32\"/>\n     <g id=\"text_17\">\n      <!-- 100 -->\n      <g style=\"fill: #262626\" transform=\"translate(21.259844 19.867594)scale(0.1 -0.1)\">\n       <use xlink:href=\"#ArialMT-31\"/>\n       <use xlink:href=\"#ArialMT-30\" x=\"55.615234\"/>\n       <use xlink:href=\"#ArialMT-30\" x=\"111.230469\"/>\n      </g>\n     </g>\n    </g>\n    <g id=\"text_18\">\n     <!-- Exam 2 score -->\n     <g style=\"fill: #262626\" transform=\"translate(15.073594 190.311328)rotate(-90)scale(0.11 -0.11)\">\n      <defs>\n       <path id=\"ArialMT-32\" d=\"M 3222 541 \nL 3222 0 \nL 194 0 \nQ 188 203 259 391 \nQ 375 700 629 1000 \nQ 884 1300 1366 1694 \nQ 2113 2306 2375 2664 \nQ 2638 3022 2638 3341 \nQ 2638 3675 2398 3904 \nQ 2159 4134 1775 4134 \nQ 1369 4134 1125 3890 \nQ 881 3647 878 3216 \nL 300 3275 \nQ 359 3922 746 4261 \nQ 1134 4600 1788 4600 \nQ 2447 4600 2831 4234 \nQ 3216 3869 3216 3328 \nQ 3216 3053 3103 2787 \nQ 2991 2522 2730 2228 \nQ 2469 1934 1863 1422 \nQ 1356 997 1212 845 \nQ 1069 694 975 541 \nL 3222 541 \nz\n\" transform=\"scale(0.015625)\"/>\n      </defs>\n      <use xlink:href=\"#ArialMT-45\"/>\n      <use xlink:href=\"#ArialMT-78\" x=\"66.699219\"/>\n      <use xlink:href=\"#ArialMT-61\" x=\"116.699219\"/>\n      <use xlink:href=\"#ArialMT-6d\" x=\"172.314453\"/>\n      <use xlink:href=\"#ArialMT-20\" x=\"255.615234\"/>\n      <use xlink:href=\"#ArialMT-32\" x=\"283.398438\"/>\n      <use xlink:href=\"#ArialMT-20\" x=\"339.013672\"/>\n      <use xlink:href=\"#ArialMT-73\" x=\"366.796875\"/>\n      <use xlink:href=\"#ArialMT-63\" x=\"416.796875\"/>\n      <use xlink:href=\"#ArialMT-6f\" x=\"466.796875\"/>\n      <use xlink:href=\"#ArialMT-72\" x=\"522.412109\"/>\n      <use xlink:href=\"#ArialMT-65\" x=\"555.712891\"/>\n     </g>\n    </g>\n   </g>\n   <g id=\"line2d_33\">\n    <defs>\n     <path id=\"me212456822\" d=\"M -3.5 0 \nL 3.5 0 \nM 0 3.5 \nL 0 -3.5 \n\"/>\n    </defs>\n    <g clip-path=\"url(#p42acf8097f)\">\n     <use xlink:href=\"#me212456822\" x=\"240.451358\" y=\"70.800833\"/>\n     <use xlink:href=\"#me212456822\" x=\"350.094958\" y=\"114.454415\"/>\n     <use xlink:href=\"#me212456822\" x=\"245.82627\" y=\"30.178355\"/>\n     <use xlink:href=\"#me212456822\" x=\"326.782103\" y=\"229.0825\"/>\n     <use xlink:href=\"#me212456822\" x=\"333.029365\" y=\"66.373364\"/>\n     <use xlink:href=\"#me212456822\" x=\"381.505056\" y=\"241.109022\"/>\n     <use xlink:href=\"#me212456822\" x=\"369.140334\" y=\"109.925142\"/>\n     <use xlink:href=\"#me212456822\" x=\"293.859266\" y=\"25.371657\"/>\n     <use xlink:href=\"#me212456822\" x=\"204.321307\" y=\"59.259344\"/>\n     <use xlink:href=\"#me212456822\" x=\"292.146601\" y=\"204.451285\"/>\n     <use xlink:href=\"#me212456822\" x=\"301.402929\" y=\"44.449105\"/>\n     <use xlink:href=\"#me212456822\" x=\"338.14795\" y=\"225.013632\"/>\n     <use xlink:href=\"#me212456822\" x=\"412.00702\" y=\"152.457628\"/>\n     <use xlink:href=\"#me212456822\" x=\"343.646422\" y=\"139.824434\"/>\n     <use xlink:href=\"#me212456822\" x=\"252.598817\" y=\"135.914236\"/>\n     <use xlink:href=\"#me212456822\" x=\"356.827344\" y=\"235.979945\"/>\n     <use xlink:href=\"#me212456822\" x=\"247.412019\" y=\"124.553381\"/>\n     <use xlink:href=\"#me212456822\" x=\"387.157037\" y=\"187.285103\"/>\n     <use xlink:href=\"#me212456822\" x=\"193.120597\" y=\"137.990964\"/>\n     <use xlink:href=\"#me212456822\" x=\"263.685102\" y=\"92.302751\"/>\n     <use xlink:href=\"#me212456822\" x=\"378.419781\" y=\"190.247071\"/>\n     <use xlink:href=\"#me212456822\" x=\"439.732353\" y=\"153.375136\"/>\n     <use xlink:href=\"#me212456822\" x=\"339.394163\" y=\"133.9086\"/>\n     <use xlink:href=\"#me212456822\" x=\"459.091325\" y=\"69.13152\"/>\n     <use xlink:href=\"#me212456822\" x=\"251.447423\" y=\"29.153531\"/>\n     <use xlink:href=\"#me212456822\" x=\"422.989906\" y=\"61.294106\"/>\n     <use xlink:href=\"#me212456822\" x=\"355.400168\" y=\"119.15756\"/>\n     <use xlink:href=\"#me212456822\" x=\"467.821613\" y=\"171.570037\"/>\n     <use xlink:href=\"#me212456822\" x=\"417.067099\" y=\"241.677542\"/>\n     <use xlink:href=\"#me212456822\" x=\"458.358636\" y=\"140.26553\"/>\n     <use xlink:href=\"#me212456822\" x=\"322.26811\" y=\"136.431377\"/>\n     <use xlink:href=\"#me212456822\" x=\"308.004487\" y=\"102.075272\"/>\n     <use xlink:href=\"#me212456822\" x=\"328.939279\" y=\"72.985131\"/>\n     <use xlink:href=\"#me212456822\" x=\"125.718752\" y=\"26.102283\"/>\n     <use xlink:href=\"#me212456822\" x=\"357.347309\" y=\"47.678388\"/>\n     <use xlink:href=\"#me212456822\" x=\"278.632177\" y=\"171.600443\"/>\n     <use xlink:href=\"#me212456822\" x=\"262.88434\" y=\"103.754954\"/>\n     <use xlink:href=\"#me212456822\" x=\"311.203801\" y=\"31.308429\"/>\n     <use xlink:href=\"#me212456822\" x=\"242.052587\" y=\"123.410257\"/>\n     <use xlink:href=\"#me212456822\" x=\"232.647564\" y=\"112.407651\"/>\n     <use xlink:href=\"#me212456822\" x=\"471.051747\" y=\"126.299796\"/>\n     <use xlink:href=\"#me212456822\" x=\"165.31067\" y=\"62.171733\"/>\n     <use xlink:href=\"#me212456822\" x=\"183.888237\" y=\"112.601106\"/>\n     <use xlink:href=\"#me212456822\" x=\"407.56966\" y=\"136.514121\"/>\n     <use xlink:href=\"#me212456822\" x=\"442.007449\" y=\"232.5054\"/>\n     <use xlink:href=\"#me212456822\" x=\"281.962404\" y=\"149.312314\"/>\n     <use xlink:href=\"#me212456822\" x=\"223.327926\" y=\"177.481527\"/>\n     <use xlink:href=\"#me212456822\" x=\"357.854411\" y=\"52.280625\"/>\n     <use xlink:href=\"#me212456822\" x=\"288.647208\" y=\"73.644581\"/>\n     <use xlink:href=\"#me212456822\" x=\"329.416767\" y=\"54.413138\"/>\n     <use xlink:href=\"#me212456822\" x=\"347.783957\" y=\"29.63687\"/>\n     <use xlink:href=\"#me212456822\" x=\"437.702148\" y=\"107.22912\"/>\n     <use xlink:href=\"#me212456822\" x=\"416.496123\" y=\"66.02211\"/>\n     <use xlink:href=\"#me212456822\" x=\"323.687366\" y=\"76.627383\"/>\n     <use xlink:href=\"#me212456822\" x=\"412.990204\" y=\"233.843268\"/>\n     <use xlink:href=\"#me212456822\" x=\"376.016185\" y=\"221.811245\"/>\n     <use xlink:href=\"#me212456822\" x=\"136.21276\" y=\"67.634372\"/>\n     <use xlink:href=\"#me212456822\" x=\"468.068713\" y=\"140.608587\"/>\n     <use xlink:href=\"#me212456822\" x=\"212.284024\" y=\"155.911269\"/>\n     <use xlink:href=\"#me212456822\" x=\"325.334628\" y=\"57.975467\"/>\n    </g>\n   </g>\n   <g id=\"line2d_34\">\n    <defs>\n     <path id=\"m889cfe9ae8\" d=\"M 0 3.5 \nC 0.928211 3.5 1.81853 3.131218 2.474874 2.474874 \nC 3.131218 1.81853 3.5 0.928211 3.5 0 \nC 3.5 -0.928211 3.131218 -1.81853 2.474874 -2.474874 \nC 1.81853 -3.131218 0.928211 -3.5 0 -3.5 \nC -0.928211 -3.5 -1.81853 -3.131218 -2.474874 -2.474874 \nC -3.131218 -1.81853 -3.5 -0.928211 -3.5 0 \nC -3.5 0.928211 -3.131218 1.81853 -2.474874 2.474874 \nC -1.81853 3.131218 -0.928211 3.5 0 3.5 \nz\n\"/>\n    </defs>\n    <g clip-path=\"url(#p42acf8097f)\">\n     <use xlink:href=\"#m889cfe9ae8\" x=\"91.785372\" y=\"103.782805\" style=\"fill: #bfbf00\"/>\n     <use xlink:href=\"#m889cfe9ae8\" x=\"66.559099\" y=\"239.669304\" style=\"fill: #bfbf00\"/>\n     <use xlink:href=\"#m889cfe9ae8\" x=\"98.903424\" y=\"124.177885\" style=\"fill: #bfbf00\"/>\n     <use xlink:href=\"#m889cfe9ae8\" x=\"152.624727\" y=\"190.213923\" style=\"fill: #bfbf00\"/>\n     <use xlink:href=\"#m889cfe9ae8\" x=\"447.981373\" y=\"262.243145\" style=\"fill: #bfbf00\"/>\n     <use xlink:href=\"#m889cfe9ae8\" x=\"326.717613\" y=\"292.59\" style=\"fill: #bfbf00\"/>\n     <use xlink:href=\"#m889cfe9ae8\" x=\"120.372069\" y=\"111.697505\" style=\"fill: #bfbf00\"/>\n     <use xlink:href=\"#m889cfe9ae8\" x=\"285.612887\" y=\"228.586566\" style=\"fill: #bfbf00\"/>\n     <use xlink:href=\"#m889cfe9ae8\" x=\"282.269346\" y=\"243.875967\" style=\"fill: #bfbf00\"/>\n     <use xlink:href=\"#m889cfe9ae8\" x=\"184.333954\" y=\"219.917951\" style=\"fill: #bfbf00\"/>\n     <use xlink:href=\"#m889cfe9ae8\" x=\"89.391269\" y=\"238.417006\" style=\"fill: #bfbf00\"/>\n     <use xlink:href=\"#m889cfe9ae8\" x=\"432.002221\" y=\"259.952236\" style=\"fill: #bfbf00\"/>\n     <use xlink:href=\"#m889cfe9ae8\" x=\"250.034818\" y=\"214.342707\" style=\"fill: #bfbf00\"/>\n     <use xlink:href=\"#m889cfe9ae8\" x=\"115.994876\" y=\"155.657478\" style=\"fill: #bfbf00\"/>\n     <use xlink:href=\"#m889cfe9ae8\" x=\"193.484571\" y=\"163.0951\" style=\"fill: #bfbf00\"/>\n     <use xlink:href=\"#m889cfe9ae8\" x=\"124.435278\" y=\"131.083553\" style=\"fill: #bfbf00\"/>\n     <use xlink:href=\"#m889cfe9ae8\" x=\"208.183837\" y=\"206.547865\" style=\"fill: #bfbf00\"/>\n     <use xlink:href=\"#m889cfe9ae8\" x=\"87.666295\" y=\"20.79\" style=\"fill: #bfbf00\"/>\n     <use xlink:href=\"#m889cfe9ae8\" x=\"325.412338\" y=\"248.912624\" style=\"fill: #bfbf00\"/>\n     <use xlink:href=\"#m889cfe9ae8\" x=\"89.225956\" y=\"114.879064\" style=\"fill: #bfbf00\"/>\n     <use xlink:href=\"#m889cfe9ae8\" x=\"190.225769\" y=\"227.878993\" style=\"fill: #bfbf00\"/>\n     <use xlink:href=\"#m889cfe9ae8\" x=\"369.49922\" y=\"252.715569\" style=\"fill: #bfbf00\"/>\n     <use xlink:href=\"#m889cfe9ae8\" x=\"187.317655\" y=\"231.9942\" style=\"fill: #bfbf00\"/>\n     <use xlink:href=\"#m889cfe9ae8\" x=\"252.317655\" y=\"207.156608\" style=\"fill: #bfbf00\"/>\n     <use xlink:href=\"#m889cfe9ae8\" x=\"91.208681\" y=\"173.969626\" style=\"fill: #bfbf00\"/>\n     <use xlink:href=\"#m889cfe9ae8\" x=\"182.889739\" y=\"216.140618\" style=\"fill: #bfbf00\"/>\n     <use xlink:href=\"#m889cfe9ae8\" x=\"178.819176\" y=\"176.30831\" style=\"fill: #bfbf00\"/>\n     <use xlink:href=\"#m889cfe9ae8\" x=\"79.881947\" y=\"33.812956\" style=\"fill: #bfbf00\"/>\n     <use xlink:href=\"#m889cfe9ae8\" x=\"95.638593\" y=\"227.225141\" style=\"fill: #bfbf00\"/>\n     <use xlink:href=\"#m889cfe9ae8\" x=\"217.599227\" y=\"258.117564\" style=\"fill: #bfbf00\"/>\n     <use xlink:href=\"#m889cfe9ae8\" x=\"65.233565\" y=\"216.982958\" style=\"fill: #bfbf00\"/>\n     <use xlink:href=\"#m889cfe9ae8\" x=\"150.210748\" y=\"149.866802\" style=\"fill: #bfbf00\"/>\n     <use xlink:href=\"#m889cfe9ae8\" x=\"277.551314\" y=\"250.828975\" style=\"fill: #bfbf00\"/>\n     <use xlink:href=\"#m889cfe9ae8\" x=\"175.828784\" y=\"207.864435\" style=\"fill: #bfbf00\"/>\n     <use xlink:href=\"#m889cfe9ae8\" x=\"80.729035\" y=\"242.009712\" style=\"fill: #bfbf00\"/>\n     <use xlink:href=\"#m889cfe9ae8\" x=\"242.039038\" y=\"245.189968\" style=\"fill: #bfbf00\"/>\n     <use xlink:href=\"#m889cfe9ae8\" x=\"368.672727\" y=\"244.34801\" style=\"fill: #bfbf00\"/>\n     <use xlink:href=\"#m889cfe9ae8\" x=\"135.129441\" y=\"100.517625\" style=\"fill: #bfbf00\"/>\n     <use xlink:href=\"#m889cfe9ae8\" x=\"194.880694\" y=\"172.483888\" style=\"fill: #bfbf00\"/>\n     <use xlink:href=\"#m889cfe9ae8\" x=\"213.110815\" y=\"272.812265\" style=\"fill: #bfbf00\"/>\n    </g>\n   </g>\n   <g id=\"patch_3\">\n    <path d=\"M 44.942656 306.18 \nL 44.942656 7.2 \n\" style=\"fill: none\"/>\n   </g>\n   <g id=\"patch_4\">\n    <path d=\"M 491.342656 306.18 \nL 491.342656 7.2 \n\" style=\"fill: none\"/>\n   </g>\n   <g id=\"patch_5\">\n    <path d=\"M 44.942656 306.18 \nL 491.342656 306.18 \n\" style=\"fill: none\"/>\n   </g>\n   <g id=\"patch_6\">\n    <path d=\"M 44.942656 7.2 \nL 491.342656 7.2 \n\" style=\"fill: none\"/>\n   </g>\n   <g id=\"legend_1\">\n    <g id=\"line2d_35\">\n     <g>\n      <use xlink:href=\"#me212456822\" x=\"407.652031\" y=\"19.857812\"/>\n     </g>\n    </g>\n    <g id=\"text_19\">\n     <!-- Admitted -->\n     <g style=\"fill: #262626\" transform=\"translate(425.652031 23.357812)scale(0.1 -0.1)\">\n      <defs>\n       <path id=\"ArialMT-41\" d=\"M -9 0 \nL 1750 4581 \nL 2403 4581 \nL 4278 0 \nL 3588 0 \nL 3053 1388 \nL 1138 1388 \nL 634 0 \nL -9 0 \nz\nM 1313 1881 \nL 2866 1881 \nL 2388 3150 \nQ 2169 3728 2063 4100 \nQ 1975 3659 1816 3225 \nL 1313 1881 \nz\n\" transform=\"scale(0.015625)\"/>\n       <path id=\"ArialMT-64\" d=\"M 2575 0 \nL 2575 419 \nQ 2259 -75 1647 -75 \nQ 1250 -75 917 144 \nQ 584 363 401 755 \nQ 219 1147 219 1656 \nQ 219 2153 384 2558 \nQ 550 2963 881 3178 \nQ 1213 3394 1622 3394 \nQ 1922 3394 2156 3267 \nQ 2391 3141 2538 2938 \nL 2538 4581 \nL 3097 4581 \nL 3097 0 \nL 2575 0 \nz\nM 797 1656 \nQ 797 1019 1065 703 \nQ 1334 388 1700 388 \nQ 2069 388 2326 689 \nQ 2584 991 2584 1609 \nQ 2584 2291 2321 2609 \nQ 2059 2928 1675 2928 \nQ 1300 2928 1048 2622 \nQ 797 2316 797 1656 \nz\n\" transform=\"scale(0.015625)\"/>\n       <path id=\"ArialMT-69\" d=\"M 425 3934 \nL 425 4581 \nL 988 4581 \nL 988 3934 \nL 425 3934 \nz\nM 425 0 \nL 425 3319 \nL 988 3319 \nL 988 0 \nL 425 0 \nz\n\" transform=\"scale(0.015625)\"/>\n       <path id=\"ArialMT-74\" d=\"M 1650 503 \nL 1731 6 \nQ 1494 -44 1306 -44 \nQ 1000 -44 831 53 \nQ 663 150 594 308 \nQ 525 466 525 972 \nL 525 2881 \nL 113 2881 \nL 113 3319 \nL 525 3319 \nL 525 4141 \nL 1084 4478 \nL 1084 3319 \nL 1650 3319 \nL 1650 2881 \nL 1084 2881 \nL 1084 941 \nQ 1084 700 1114 631 \nQ 1144 563 1211 522 \nQ 1278 481 1403 481 \nQ 1497 481 1650 503 \nz\n\" transform=\"scale(0.015625)\"/>\n      </defs>\n      <use xlink:href=\"#ArialMT-41\"/>\n      <use xlink:href=\"#ArialMT-64\" x=\"66.699219\"/>\n      <use xlink:href=\"#ArialMT-6d\" x=\"122.314453\"/>\n      <use xlink:href=\"#ArialMT-69\" x=\"205.615234\"/>\n      <use xlink:href=\"#ArialMT-74\" x=\"227.832031\"/>\n      <use xlink:href=\"#ArialMT-74\" x=\"255.615234\"/>\n      <use xlink:href=\"#ArialMT-65\" x=\"283.398438\"/>\n      <use xlink:href=\"#ArialMT-64\" x=\"339.013672\"/>\n     </g>\n    </g>\n    <g id=\"line2d_36\">\n     <g>\n      <use xlink:href=\"#m889cfe9ae8\" x=\"407.652031\" y=\"34.003125\" style=\"fill: #bfbf00\"/>\n     </g>\n    </g>\n    <g id=\"text_20\">\n     <!-- Not admitted -->\n     <g style=\"fill: #262626\" transform=\"translate(425.652031 37.503125)scale(0.1 -0.1)\">\n      <defs>\n       <path id=\"ArialMT-4e\" d=\"M 488 0 \nL 488 4581 \nL 1109 4581 \nL 3516 984 \nL 3516 4581 \nL 4097 4581 \nL 4097 0 \nL 3475 0 \nL 1069 3600 \nL 1069 0 \nL 488 0 \nz\n\" transform=\"scale(0.015625)\"/>\n      </defs>\n      <use xlink:href=\"#ArialMT-4e\"/>\n      <use xlink:href=\"#ArialMT-6f\" x=\"72.216797\"/>\n      <use xlink:href=\"#ArialMT-74\" x=\"127.832031\"/>\n      <use xlink:href=\"#ArialMT-20\" x=\"155.615234\"/>\n      <use xlink:href=\"#ArialMT-61\" x=\"183.398438\"/>\n      <use xlink:href=\"#ArialMT-64\" x=\"239.013672\"/>\n      <use xlink:href=\"#ArialMT-6d\" x=\"294.628906\"/>\n      <use xlink:href=\"#ArialMT-69\" x=\"377.929688\"/>\n      <use xlink:href=\"#ArialMT-74\" x=\"400.146484\"/>\n      <use xlink:href=\"#ArialMT-74\" x=\"427.929688\"/>\n      <use xlink:href=\"#ArialMT-65\" x=\"455.712891\"/>\n      <use xlink:href=\"#ArialMT-64\" x=\"511.328125\"/>\n     </g>\n    </g>\n   </g>\n  </g>\n </g>\n <defs>\n  <clipPath id=\"p42acf8097f\">\n   <rect x=\"44.942656\" y=\"7.2\" width=\"446.4\" height=\"298.98\"/>\n  </clipPath>\n </defs>\n</svg>\n",
      "text/plain": [
       "<Figure size 576x396 with 1 Axes>"
      ]
     },
     "metadata": {},
     "output_type": "display_data"
    }
   ],
   "source": [
    "# Plot examples\n",
    "plot_data(X_train, y_train[:], pos_label=\"Admitted\", neg_label=\"Not admitted\")\n",
    "\n",
    "# Set the y-axis label\n",
    "plt.ylabel('Exam 2 score') \n",
    "# Set the x-axis label\n",
    "plt.xlabel('Exam 1 score') \n",
    "plt.legend(loc=\"upper right\")\n",
    "plt.show()"
   ]
  },
  {
   "cell_type": "markdown",
   "metadata": {},
   "source": [
    "Your goal is to build a logistic regression model to fit this data.\n",
    "- With this model, you can then predict if a new student will be admitted based on their scores on the two exams."
   ]
  },
  {
   "cell_type": "markdown",
   "metadata": {},
   "source": [
    "<a name=\"2.3\"></a>\n",
    "### 2.3  Sigmoid function\n",
    "\n",
    "Recall that for logistic regression, the model is represented as\n",
    "\n",
    "$$ f_{\\mathbf{w},b}(x) = g(\\mathbf{w}\\cdot \\mathbf{x} + b)$$\n",
    "where function $g$ is the sigmoid function. The sigmoid function is defined as:\n",
    "\n",
    "$$g(z) = \\frac{1}{1+e^{-z}}$$\n",
    "\n",
    "Let's implement the sigmoid function first, so it can be used by the rest of this assignment.\n",
    "\n",
    "<a name='ex-01'></a>\n",
    "### Exercise 1\n",
    "Please complete  the `sigmoid` function to calculate\n",
    "\n",
    "$$g(z) = \\frac{1}{1+e^{-z}}$$\n",
    "\n",
    "Note that \n",
    "- `z` is not always a single number, but can also be an array of numbers. \n",
    "- If the input is an array of numbers, we'd like to apply the sigmoid function to each value in the input array.\n",
    "\n",
    "If you get stuck, you can check out the hints presented after the cell below to help you with the implementation."
   ]
  },
  {
   "cell_type": "code",
   "execution_count": 7,
   "metadata": {},
   "outputs": [],
   "source": [
    "# UNQ_C1\n",
    "# GRADED FUNCTION: sigmoid\n",
    "\n",
    "def sigmoid(z):\n",
    "    \"\"\"\n",
    "    Compute the sigmoid of z\n",
    "\n",
    "    Args:\n",
    "        z (ndarray): A scalar, numpy array of any size.\n",
    "\n",
    "    Returns:\n",
    "        g (ndarray): sigmoid(z), with the same shape as z\n",
    "         \n",
    "    \"\"\"\n",
    "          \n",
    "    ### START CODE HERE ### \n",
    "\n",
    "    ### END SOLUTION ###  \n",
    "    \n",
    "    return g"
   ]
  },
  {
   "cell_type": "markdown",
   "metadata": {},
   "source": [
    "<details>\n",
    "<summary> <font size=\"5\" color=\"#00EEFF\">My code</font> </summary>\n",
    "<pre>\n",
    "    g = 1 / (1 + np.exp(-z))\n",
    "</pre>\n",
    "</details>"
   ]
  },
  {
   "cell_type": "markdown",
   "metadata": {},
   "source": [
    "<details>\n",
    "  <summary><font size=\"3\" color=\"darkgreen\"><b>Click for hints</b></font></summary>\n",
    "       \n",
    "`numpy` has a function called [`np.exp()`](https://numpy.org/doc/stable/reference/generated/numpy.exp.html), which offers a convinient way to calculate the exponential ( $e^{z}$) of all elements in the input array (`z`).\n",
    " \n",
    "<details>\n",
    "          <summary><font size=\"2\" color=\"darkblue\"><b> Click for more hints</b></font></summary>\n",
    "        \n",
    "  - You can translate $e^{-z}$ into code as `np.exp(-z)` \n",
    "    \n",
    "  - You can translate $1/e^{-z}$ into code as `1/np.exp(-z)` \n",
    "    \n",
    "    If you're still stuck, you can check the hints presented below to figure out how to calculate `g` \n",
    "    \n",
    "    <details>\n",
    "          <summary><font size=\"2\" color=\"darkblue\"><b>Hint to calculate g</b></font></summary>\n",
    "        <code>g = 1 / (1 + np.exp(-z))</code>\n",
    "    </details>\n",
    "\n",
    "\n",
    "</details>"
   ]
  },
  {
   "cell_type": "markdown",
   "metadata": {},
   "source": [
    "When you are finished, try testing a few values by calling `sigmoid(x)` in the cell below. \n",
    "- For large positive values of x, the sigmoid should be close to 1, while for large negative values, the sigmoid should be close to 0. \n",
    "- Evaluating `sigmoid(0)` should give you exactly 0.5. \n"
   ]
  },
  {
   "cell_type": "code",
   "execution_count": 8,
   "metadata": {},
   "outputs": [
    {
     "name": "stdout",
     "output_type": "stream",
     "text": [
      "sigmoid(0) = 0.5\n"
     ]
    }
   ],
   "source": [
    "print (\"sigmoid(0) = \" + str(sigmoid(0)))"
   ]
  },
  {
   "cell_type": "markdown",
   "metadata": {},
   "source": [
    "**Expected Output**:\n",
    "<table>\n",
    "  <tr>\n",
    "    <td> <b>sigmoid(0)<b></td>\n",
    "    <td> 0.5 </td> \n",
    "  </tr>\n",
    "</table>\n",
    "    \n",
    "- As mentioned before, your code should also work with vectors and matrices. For a matrix, your function should perform the sigmoid function on every element."
   ]
  },
  {
   "cell_type": "code",
   "execution_count": 9,
   "metadata": {},
   "outputs": [
    {
     "name": "stdout",
     "output_type": "stream",
     "text": [
      "sigmoid([ -1, 0, 1, 2]) = [0.26894142 0.5        0.73105858 0.88079708]\n",
      "\u001b[92mAll tests passed!\n"
     ]
    }
   ],
   "source": [
    "print (\"sigmoid([ -1, 0, 1, 2]) = \" + str(sigmoid(np.array([-1, 0, 1, 2]))))\n",
    "\n",
    "# UNIT TESTS\n",
    "from public_tests_w3 import *\n",
    "sigmoid_test(sigmoid)"
   ]
  },
  {
   "cell_type": "markdown",
   "metadata": {},
   "source": [
    "**Expected Output**:\n",
    "<table>\n",
    "  <tr>\n",
    "    <td><b>sigmoid([-1, 0, 1, 2])<b></td> \n",
    "    <td>[0.26894142        0.5           0.73105858        0.88079708]</td> \n",
    "  </tr>    \n",
    "  \n",
    "</table>"
   ]
  },
  {
   "cell_type": "markdown",
   "metadata": {},
   "source": [
    "<a name=\"2.4\"></a>\n",
    "### 2.4 Cost function for logistic regression\n",
    "\n",
    "In this section, you will implement the cost function for logistic regression.\n",
    "\n",
    "<a name='ex-02'></a>\n",
    "### Exercise 2\n",
    "\n",
    "Please complete the `compute_cost` function using the equations below.\n",
    "\n",
    "Recall that for logistic regression, the cost function is of the form \n",
    "\n",
    "$$ J(\\mathbf{w},b) = \\frac{1}{m}\\sum_{i=0}^{m-1} \\left[ loss(f_{\\mathbf{w},b}(\\mathbf{x}^{(i)}), y^{(i)}) \\right] \\tag{1}$$\n",
    "\n",
    "where\n",
    "* m is the number of training examples in the dataset\n",
    "\n",
    "\n",
    "* $loss(f_{\\mathbf{w},b}(\\mathbf{x}^{(i)}), y^{(i)})$ is the cost for a single data point, which is - \n",
    "\n",
    "    $$loss(f_{\\mathbf{w},b}(\\mathbf{x}^{(i)}), y^{(i)}) = (-y^{(i)} \\log\\left(f_{\\mathbf{w},b}\\left( \\mathbf{x}^{(i)} \\right) \\right) - \\left( 1 - y^{(i)}\\right) \\log \\left( 1 - f_{\\mathbf{w},b}\\left( \\mathbf{x}^{(i)} \\right) \\right) \\tag{2}$$\n",
    "    \n",
    "    \n",
    "*  $f_{\\mathbf{w},b}(\\mathbf{x}^{(i)})$ is the model's prediction, while $y^{(i)}$, which is the actual label\n",
    "\n",
    "*  $f_{\\mathbf{w},b}(\\mathbf{x}^{(i)}) = g(\\mathbf{w} \\cdot \\mathbf{x^{(i)}} + b)$ where function $g$ is the sigmoid function.\n",
    "    * It might be helpful to first calculate an intermediate variable $z_{\\mathbf{w},b}(\\mathbf{x}^{(i)}) = \\mathbf{w} \\cdot \\mathbf{x^{(i)}} + b = w_0x^{(i)}_0 + ... + w_{n-1}x^{(i)}_{n-1} + b$ where $n$ is the number of features, before calculating $f_{\\mathbf{w},b}(\\mathbf{x}^{(i)}) = g(z_{\\mathbf{w},b}(\\mathbf{x}^{(i)}))$\n",
    "\n",
    "Note:\n",
    "* As you are doing this, remember that the variables `X_train` and `y_train` are not scalar values but matrices of shape ($m, n$) and ($𝑚$,1) respectively, where  $𝑛$ is the number of features and $𝑚$ is the number of training examples.\n",
    "* You can use the sigmoid function that you implemented above for this part.\n",
    "\n",
    "If you get stuck, you can check out the hints presented after the cell below to help you with the implementation."
   ]
  },
  {
   "cell_type": "code",
   "execution_count": 10,
   "metadata": {},
   "outputs": [],
   "source": [
    "# UNQ_C2\n",
    "# GRADED FUNCTION: compute_cost\n",
    "def compute_cost(X, y, w, b, lambda_= 1):\n",
    "    \"\"\"\n",
    "    Computes the cost over all examples\n",
    "    Args:\n",
    "      X : (ndarray Shape (m,n)) data, m examples by n features\n",
    "      y : (array_like Shape (m,)) target value \n",
    "      w : (array_like Shape (n,)) Values of parameters of the model      \n",
    "      b : scalar Values of bias parameter of the model\n",
    "      lambda_: unused placeholder\n",
    "    Returns:\n",
    "      total_cost: (scalar)         cost \n",
    "    \"\"\"\n",
    "\n",
    "    m, n = X.shape\n",
    "    \n",
    "    ### START CODE HERE ###\n",
    "\n",
    "    ### END CODE HERE ### \n",
    "\n",
    "    return total_cost"
   ]
  },
  {
   "cell_type": "markdown",
   "metadata": {},
   "source": [
    "<details>\n",
    "<summary> <font size=\"5\" color=\"#00EEFF\">My code</font> </summary>\n",
    "<pre>\n",
    "    cost = 0\n",
    "    for i in range(m):\n",
    "        z = (X[i] @ w) + b\n",
    "        f_wb = sigmoid(z)\n",
    "        loss = - y[i]*np.log(f_wb) - (1 - y[i])*np.log(1 - f_wb)\n",
    "        cost += loss   \n",
    "    total_cost = cost / m\n",
    "</pre>\n",
    "</details>"
   ]
  },
  {
   "cell_type": "markdown",
   "metadata": {},
   "source": [
    "<details>\n",
    "  <summary><font size=\"3\" color=\"darkgreen\"><b>Click for hints</b></font></summary>\n",
    "    \n",
    "    \n",
    "   * You can represent a summation operator eg: $h = \\sum\\limits_{i = 0}^{m-1} 2i$ in code as follows:\n",
    "    ```python \n",
    "        h = 0\n",
    "        for i in range(m):\n",
    "            h = h + 2*i\n",
    "    ```\n",
    "  \n",
    "   * In this case, you can iterate over all the examples in `X` using a for loop and add the `loss` from each iteration to a variable (`loss_sum`) initialized outside the loop.\n",
    "\n",
    "   * Then, you can return the `total_cost` as `loss_sum` divided by `m`.\n",
    "     \n",
    "    <details>\n",
    "          <summary><font size=\"2\" color=\"darkblue\"><b> Click for more hints</b></font></summary>\n",
    "        \n",
    "    * Here's how you can structure the overall implementation for this function\n",
    "    ```python \n",
    "    def compute_cost(X, y, w, b, lambda_= 1):\n",
    "        m, n = X.shape\n",
    "    \n",
    "        ### START CODE HERE ###\n",
    "        loss_sum = 0 \n",
    "        \n",
    "        # Loop over each training example\n",
    "        for i in range(m): \n",
    "            \n",
    "            # First calculate z_wb = w[0]*X[i][0]+...+w[n-1]*X[i][n-1]+b\n",
    "            z_wb = 0 \n",
    "            # Loop over each feature\n",
    "            for j in range(n): \n",
    "                # Add the corresponding term to z_wb\n",
    "                z_wb_ij = # Your code here to calculate w[j] * X[i][j]\n",
    "                z_wb += z_wb_ij # equivalent to z_wb = z_wb + z_wb_ij\n",
    "            # Add the bias term to z_wb\n",
    "            z_wb += b # equivalent to z_wb = z_wb + b\n",
    "        \n",
    "            f_wb = # Your code here to calculate prediction f_wb for a training example\n",
    "            loss =  # Your code here to calculate loss for a training example\n",
    "            \n",
    "            loss_sum += loss # equivalent to loss_sum = loss_sum + loss\n",
    "        \n",
    "        total_cost = (1 / m) * loss_sum  \n",
    "        ### END CODE HERE ### \n",
    "        \n",
    "        return total_cost\n",
    "    ```\n",
    "    \n",
    "    If you're still stuck, you can check the hints presented below to figure out how to calculate `z_wb_ij`, `f_wb` and `cost`.\n",
    "    <details>\n",
    "          <summary><font size=\"2\" color=\"darkblue\"><b>Hint to calculate z_wb_ij</b></font></summary>\n",
    "           &emsp; &emsp; <code>z_wb_ij = w[j]*X[i][j] </code>\n",
    "    </details>\n",
    "        \n",
    "    <details>\n",
    "          <summary><font size=\"2\" color=\"darkblue\"><b>Hint to calculate f_wb</b></font></summary>\n",
    "           &emsp; &emsp; $f_{\\mathbf{w},b}(\\mathbf{x}^{(i)}) = g(z_{\\mathbf{w},b}(\\mathbf{x}^{(i)}))$ where $g$ is the sigmoid function. You can simply call the `sigmoid` function implemented above.\n",
    "          <details>\n",
    "              <summary><font size=\"2\" color=\"blue\"><b>&emsp; &emsp; More hints to calculate f</b></font></summary>\n",
    "               &emsp; &emsp; You can compute f_wb as <code>f_wb = sigmoid(z_wb) </code>\n",
    "           </details>\n",
    "    </details>\n",
    "\n",
    "     <details>\n",
    "          <summary><font size=\"2\" color=\"darkblue\"><b>Hint to calculate loss</b></font></summary>\n",
    "          &emsp; &emsp; You can use the <a href=\"https://numpy.org/doc/stable/reference/generated/numpy.log.html\">np.log</a> function to calculate the log\n",
    "          <details>\n",
    "              <summary><font size=\"2\" color=\"blue\"><b>&emsp; &emsp; More hints to calculate loss</b></font></summary>\n",
    "              &emsp; &emsp; You can compute loss as <code>loss =  -y[i] * np.log(f_wb) - (1 - y[i]) * np.log(1 - f_wb)</code>\n",
    "          </details>\n",
    "    </details>\n",
    "        \n",
    "    </details>\n",
    "\n",
    "</details>"
   ]
  },
  {
   "cell_type": "markdown",
   "metadata": {},
   "source": [
    "Run the cells below to check your implementation of the `compute_cost` function with two different initializations of the parameters $w$"
   ]
  },
  {
   "cell_type": "code",
   "execution_count": 11,
   "metadata": {},
   "outputs": [
    {
     "name": "stdout",
     "output_type": "stream",
     "text": [
      "Cost at initial w (zeros): 0.693\n"
     ]
    }
   ],
   "source": [
    "m, n = X_train.shape\n",
    "\n",
    "# Compute and display cost with w initialized to zeroes\n",
    "initial_w = np.zeros(n)\n",
    "initial_b = 0.\n",
    "cost = compute_cost(X_train, y_train, initial_w, initial_b)\n",
    "print('Cost at initial w (zeros): {:.3f}'.format(cost))"
   ]
  },
  {
   "cell_type": "markdown",
   "metadata": {},
   "source": [
    "**Expected Output**:\n",
    "<table>\n",
    "  <tr>\n",
    "    <td> <b>Cost at initial w (zeros)<b></td>\n",
    "    <td> 0.693 </td> \n",
    "  </tr>\n",
    "</table>"
   ]
  },
  {
   "cell_type": "code",
   "execution_count": 12,
   "metadata": {},
   "outputs": [
    {
     "name": "stdout",
     "output_type": "stream",
     "text": [
      "Cost at test w,b: 0.218\n",
      "\u001b[92mAll tests passed!\n"
     ]
    }
   ],
   "source": [
    "# Compute and display cost with non-zero w\n",
    "test_w = np.array([0.2, 0.2])\n",
    "test_b = -24.\n",
    "cost = compute_cost(X_train, y_train, test_w, test_b)\n",
    "\n",
    "print('Cost at test w,b: {:.3f}'.format(cost))\n",
    "\n",
    "\n",
    "# UNIT TESTS\n",
    "compute_cost_test(compute_cost)\n"
   ]
  },
  {
   "cell_type": "markdown",
   "metadata": {},
   "source": [
    "**Expected Output**:\n",
    "<table>\n",
    "  <tr>\n",
    "    <td> <b>Cost at test w,b<b></td>\n",
    "    <td> 0.218 </td> \n",
    "  </tr>\n",
    "</table>"
   ]
  },
  {
   "cell_type": "markdown",
   "metadata": {},
   "source": [
    "<a name=\"2.5\"></a>\n",
    "### 2.5 Gradient for logistic regression\n",
    "\n",
    "In this section, you will implement the gradient for logistic regression.\n",
    "\n",
    "Recall that the gradient descent algorithm is:\n",
    "\n",
    "$$\\begin{align*}& \\text{repeat until convergence:} \\; \\lbrace \\newline \\; & b := b -  \\alpha \\frac{\\partial J(\\mathbf{w},b)}{\\partial b} \\newline       \\; & w_j := w_j -  \\alpha \\frac{\\partial J(\\mathbf{w},b)}{\\partial w_j} \\tag{1}  \\; & \\text{for j := 0..n-1}\\newline & \\rbrace\\end{align*}$$\n",
    "\n",
    "where, parameters $b$, $w_j$ are all updated simultaniously"
   ]
  },
  {
   "cell_type": "markdown",
   "metadata": {},
   "source": [
    "\n",
    "<a name='ex-03'></a>\n",
    "### Exercise 3\n",
    "\n",
    "Please complete the `compute_gradient` function to compute $\\frac{\\partial J(\\mathbf{w},b)}{\\partial w}$, $\\frac{\\partial J(\\mathbf{w},b)}{\\partial b}$ from equations (2) and (3) below.\n",
    "\n",
    "$$\n",
    "\\frac{\\partial J(\\mathbf{w},b)}{\\partial b}  = \\frac{1}{m} \\sum\\limits_{i = 0}^{m-1} (f_{\\mathbf{w},b}(\\mathbf{x}^{(i)}) - \\mathbf{y}^{(i)}) \\tag{2}\n",
    "$$\n",
    "$$\n",
    "\\frac{\\partial J(\\mathbf{w},b)}{\\partial w_j}  = \\frac{1}{m} \\sum\\limits_{i = 0}^{m-1} (f_{\\mathbf{w},b}(\\mathbf{x}^{(i)}) - \\mathbf{y}^{(i)})x_{j}^{(i)} \\tag{3}\n",
    "$$\n",
    "* m is the number of training examples in the dataset\n",
    "\n",
    "    \n",
    "*  $f_{\\mathbf{w},b}(x^{(i)})$ is the model's prediction, while $y^{(i)}$ is the actual label\n",
    "\n",
    "\n",
    "- **Note**: While this gradient looks identical to the linear regression gradient, the formula is actually different because linear and logistic regression have different definitions of $f_{\\mathbf{w},b}(x)$.\n",
    "\n",
    "As before, you can use the sigmoid function that you implemented above and if you get stuck, you can check out the hints presented after the cell below to help you with the implementation."
   ]
  },
  {
   "cell_type": "code",
   "execution_count": 13,
   "metadata": {},
   "outputs": [],
   "source": [
    "# UNQ_C3\n",
    "# GRADED FUNCTION: compute_gradient\n",
    "def compute_gradient(X, y, w, b, lambda_=None): \n",
    "    \"\"\"\n",
    "    Computes the gradient for logistic regression \n",
    " \n",
    "    Args:\n",
    "      X : (ndarray Shape (m,n)) variable such as house size \n",
    "      y : (array_like Shape (m,1)) actual value \n",
    "      w : (array_like Shape (n,1)) values of parameters of the model      \n",
    "      b : (scalar)                 value of parameter of the model \n",
    "      lambda_: unused placeholder.\n",
    "    Returns\n",
    "      dj_dw: (array_like Shape (n,1)) The gradient of the cost w.r.t. the parameters w. \n",
    "      dj_db: (scalar)                The gradient of the cost w.r.t. the parameter b. \n",
    "    \"\"\"\n",
    "    m, n = X.shape\n",
    "    dj_dw = np.zeros(w.shape)\n",
    "    dj_db = 0.\n",
    "\n",
    "    ### START CODE HERE ### \n",
    "\n",
    "    ### END CODE HERE ###\n",
    "\n",
    "        \n",
    "    return dj_db, dj_dw"
   ]
  },
  {
   "cell_type": "markdown",
   "metadata": {},
   "source": [
    "<details>\n",
    "<summary> <font size=\"5\" color=\"#00EEFF\">My code</font> </summary>\n",
    "<pre>\n",
    "    for i in range(m):\n",
    "        z = (X[i] @ w) + b\n",
    "        f_wb = sigmoid(z)\n",
    "        dj_db_i = f_wb - y[i]\n",
    "        dj_db += dj_db_i\n",
    "        for j in range(n):\n",
    "            dj_dw[j] += dj_db_i * X[i ,j]     \n",
    "    dj_dw /= m\n",
    "    dj_db /= m\n",
    "</pre>\n",
    "</details>"
   ]
  },
  {
   "cell_type": "markdown",
   "metadata": {},
   "source": [
    " <details>\n",
    "  <summary><font size=\"3\" color=\"darkgreen\"><b>Click for hints</b></font></summary>\n",
    "    \n",
    "    \n",
    "* Here's how you can structure the overall implementation for this function\n",
    "    ```python \n",
    "       def compute_gradient(X, y, w, b, lambda_=None): \n",
    "            m, n = X.shape\n",
    "            dj_dw = np.zeros(w.shape)\n",
    "            dj_db = 0.\n",
    "        \n",
    "            ### START CODE HERE ### \n",
    "            for i in range(m):\n",
    "                # Calculate f_wb (exactly as you did in the compute_cost function above)\n",
    "                f_wb = \n",
    "        \n",
    "                # Calculate the  gradient for b from this example\n",
    "                dj_db_i = # Your code here to calculate the error\n",
    "        \n",
    "                # add that to dj_db\n",
    "                dj_db += dj_db_i\n",
    "        \n",
    "                # get dj_dw for each attribute\n",
    "                for j in range(n):\n",
    "                    # You code here to calculate the gradient from the i-th example for j-th attribute\n",
    "                    dj_dw_ij =  \n",
    "                    dj_dw[j] += dj_dw_ij\n",
    "        \n",
    "            # divide dj_db and dj_dw by total number of examples\n",
    "            dj_dw = dj_dw / m\n",
    "            dj_db = dj_db / m\n",
    "            ### END CODE HERE ###\n",
    "       \n",
    "            return dj_db, dj_dw\n",
    "    ```\n",
    "  \n",
    "    If you're still stuck, you can check the hints presented below to figure out how to calculate `f_wb`, `dj_db_i` and `dj_dw_ij` \n",
    "    \n",
    "    <details>\n",
    "          <summary><font size=\"2\" color=\"darkblue\"><b>Hint to calculate f_wb</b></font></summary>\n",
    "           &emsp; &emsp; Recall that you calculated f_wb in <code>compute_cost</code> above — for detailed hints on how to calculate each intermediate term, check out the hints section below that exercise\n",
    "           <details>\n",
    "              <summary><font size=\"2\" color=\"blue\"><b>&emsp; &emsp; More hints to calculate f_wb</b></font></summary>\n",
    "              &emsp; &emsp; You can calculate f_wb as\n",
    "               <pre>\n",
    "               for i in range(m):   \n",
    "                   # Calculate f_wb (exactly how you did it in the compute_cost function above)\n",
    "                   z_wb = 0\n",
    "                   # Loop over each feature\n",
    "                   for j in range(n): \n",
    "                       # Add the corresponding term to z_wb\n",
    "                       z_wb_ij = X[i, j] * w[j]\n",
    "                       z_wb += z_wb_ij\n",
    "            \n",
    "                   # Add bias term \n",
    "                   z_wb += b\n",
    "        \n",
    "                   # Calculate the prediction from the model\n",
    "                   f_wb = sigmoid(z_wb)\n",
    "    </details>\n",
    "        \n",
    "    </details>\n",
    "    <details>\n",
    "          <summary><font size=\"2\" color=\"darkblue\"><b>Hint to calculate dj_db_i</b></font></summary>\n",
    "           &emsp; &emsp; You can calculate dj_db_i as <code>dj_db_i = f_wb - y[i]</code>\n",
    "    </details>\n",
    "        \n",
    "    <details>\n",
    "          <summary><font size=\"2\" color=\"darkblue\"><b>Hint to calculate dj_dw_ij</b></font></summary>\n",
    "        &emsp; &emsp; You can calculate dj_dw_ij as <code>dj_dw_ij = (f_wb - y[i])* X[i][j]</code>\n",
    "    </details>\n",
    "\n",
    "</details>"
   ]
  },
  {
   "cell_type": "markdown",
   "metadata": {},
   "source": [
    "Run the cells below to check your implementation of the `compute_gradient` function with two different initializations of the parameters $w$"
   ]
  },
  {
   "cell_type": "code",
   "execution_count": 14,
   "metadata": {},
   "outputs": [
    {
     "name": "stdout",
     "output_type": "stream",
     "text": [
      "dj_db at initial w (zeros):-0.1\n",
      "dj_dw at initial w (zeros):[-12.00921658929115, -11.262842205513591]\n"
     ]
    }
   ],
   "source": [
    "# Compute and display gradient with w initialized to zeroes\n",
    "initial_w = np.zeros(n)\n",
    "initial_b = 0.\n",
    "\n",
    "dj_db, dj_dw = compute_gradient(X_train, y_train, initial_w, initial_b)\n",
    "print(f'dj_db at initial w (zeros):{dj_db}' )\n",
    "print(f'dj_dw at initial w (zeros):{dj_dw.tolist()}' )"
   ]
  },
  {
   "cell_type": "markdown",
   "metadata": {},
   "source": [
    "**Expected Output**:\n",
    "<table>\n",
    "  <tr>\n",
    "    <td> <b>dj_db at initial w (zeros)<b></td>\n",
    "    <td> -0.1 </td> \n",
    "  </tr>\n",
    "  <tr>\n",
    "    <td> <b>ddj_dw at initial w (zeros):<b></td>\n",
    "    <td> [-12.00921658929115, -11.262842205513591] </td> \n",
    "  </tr>\n",
    "</table>"
   ]
  },
  {
   "cell_type": "code",
   "execution_count": 15,
   "metadata": {},
   "outputs": [
    {
     "name": "stdout",
     "output_type": "stream",
     "text": [
      "dj_db at test_w: -0.5999999999991071\n",
      "dj_dw at test_w: [-44.831353617873795, -44.37384124953978]\n",
      "\u001b[92mAll tests passed!\n"
     ]
    }
   ],
   "source": [
    "# Compute and display cost and gradient with non-zero w\n",
    "test_w = np.array([ 0.2, -0.5])\n",
    "test_b = -24\n",
    "dj_db, dj_dw  = compute_gradient(X_train, y_train, test_w, test_b)\n",
    "\n",
    "print('dj_db at test_w:', dj_db)\n",
    "print('dj_dw at test_w:', dj_dw.tolist())\n",
    "\n",
    "# UNIT TESTS    \n",
    "compute_gradient_test(compute_gradient)\n"
   ]
  },
  {
   "cell_type": "markdown",
   "metadata": {},
   "source": [
    "**Expected Output**:\n",
    "<table>\n",
    "  <tr>\n",
    "    <td> <b>dj_db at initial w (zeros)<b></td>\n",
    "    <td> -0.5999999999991071 </td> \n",
    "  </tr>\n",
    "  <tr>\n",
    "    <td> <b>ddj_dw at initial w (zeros):<b></td>\n",
    "    <td>  [-44.8313536178737957, -44.37384124953978] </td> \n",
    "  </tr>\n",
    "</table>"
   ]
  },
  {
   "cell_type": "markdown",
   "metadata": {},
   "source": [
    "<a name=\"2.6\"></a>\n",
    "### 2.6 Learning parameters using gradient descent \n",
    "\n",
    "Similar to the previous assignment, you will now find the optimal parameters of a logistic regression model by using gradient descent. \n",
    "- You don't need to implement anything for this part. Simply run the cells below. \n",
    "\n",
    "- A good way to verify that gradient descent is working correctly is to look\n",
    "at the value of $J(\\mathbf{w},b)$ and check that it is decreasing with each step. \n",
    "\n",
    "- Assuming you have implemented the gradient and computed the cost correctly, your value of $J(\\mathbf{w},b)$ should never increase, and should converge to a steady value by the end of the algorithm."
   ]
  },
  {
   "cell_type": "code",
   "execution_count": 16,
   "metadata": {},
   "outputs": [],
   "source": [
    "def gradient_descent(X, y, w_in, b_in, cost_function, gradient_function, alpha, num_iters, lambda_): \n",
    "    \"\"\"\n",
    "    Performs batch gradient descent to learn theta. Updates theta by taking \n",
    "    num_iters gradient steps with learning rate alpha\n",
    "    \n",
    "    Args:\n",
    "      X :    (array_like Shape (m, n)\n",
    "      y :    (array_like Shape (m,))\n",
    "      w_in : (array_like Shape (n,))  Initial values of parameters of the model\n",
    "      b_in : (scalar)                 Initial value of parameter of the model\n",
    "      cost_function:                  function to compute cost\n",
    "      alpha : (float)                 Learning rate\n",
    "      num_iters : (int)               number of iterations to run gradient descent\n",
    "      lambda_ (scalar, float)         regularization constant\n",
    "      \n",
    "    Returns:\n",
    "      w : (array_like Shape (n,)) Updated values of parameters of the model after\n",
    "          running gradient descent\n",
    "      b : (scalar)                Updated value of parameter of the model after\n",
    "          running gradient descent\n",
    "    \"\"\"\n",
    "    \n",
    "    # number of training examples\n",
    "    m = len(X)\n",
    "    \n",
    "    # An array to store cost J and w's at each iteration primarily for graphing later\n",
    "    J_history = []\n",
    "    w_history = []\n",
    "    \n",
    "    for i in range(num_iters):\n",
    "\n",
    "        # Calculate the gradient and update the parameters\n",
    "        dj_db, dj_dw = gradient_function(X, y, w_in, b_in, lambda_)   \n",
    "\n",
    "        # Update Parameters using w, b, alpha and gradient\n",
    "        w_in = w_in - alpha * dj_dw               \n",
    "        b_in = b_in - alpha * dj_db              \n",
    "       \n",
    "        # Save cost J at each iteration\n",
    "        if i<100000:      # prevent resource exhaustion \n",
    "            cost =  cost_function(X, y, w_in, b_in, lambda_)\n",
    "            J_history.append(cost)\n",
    "\n",
    "        # Print cost every at intervals 10 times or as many iterations if < 10\n",
    "        if i% math.ceil(num_iters/10) == 0 or i == (num_iters-1):\n",
    "            w_history.append(w_in)\n",
    "            print(f\"Iteration {i:4}: Cost {float(J_history[-1]):8.2f}   \")\n",
    "        \n",
    "    return w_in, b_in, J_history, w_history #return w and J,w history for graphing"
   ]
  },
  {
   "cell_type": "markdown",
   "metadata": {},
   "source": [
    "Now let's run the gradient descent algorithm above to learn the parameters for our dataset.\n",
    "\n",
    "**Note**\n",
    "\n",
    "The code block below takes a couple of minutes to run, especially with a non-vectorized version. You can reduce the `iterations` to test your implementation and iterate faster. If you have time, try running 100,000 iterations for better results."
   ]
  },
  {
   "cell_type": "code",
   "execution_count": 17,
   "metadata": {},
   "outputs": [
    {
     "name": "stdout",
     "output_type": "stream",
     "text": [
      "Iteration    0: Cost     1.01   \n",
      "Iteration 1000: Cost     0.31   \n",
      "Iteration 2000: Cost     0.30   \n",
      "Iteration 3000: Cost     0.30   \n",
      "Iteration 4000: Cost     0.30   \n",
      "Iteration 5000: Cost     0.30   \n",
      "Iteration 6000: Cost     0.30   \n",
      "Iteration 7000: Cost     0.30   \n",
      "Iteration 8000: Cost     0.30   \n",
      "Iteration 9000: Cost     0.30   \n",
      "Iteration 9999: Cost     0.30   \n"
     ]
    }
   ],
   "source": [
    "np.random.seed(1)\n",
    "intial_w = 0.01 * (np.random.rand(2).reshape(-1,1) - 0.5)\n",
    "initial_b = -8\n",
    "\n",
    "\n",
    "# Some gradient descent settings\n",
    "iterations = 10000\n",
    "alpha = 0.001\n",
    "\n",
    "w,b, J_history,_ = gradient_descent(X_train ,y_train, initial_w, initial_b, \n",
    "                                   compute_cost, compute_gradient, alpha, iterations, 0)"
   ]
  },
  {
   "cell_type": "markdown",
   "metadata": {},
   "source": [
    "<details>\n",
    "<summary>\n",
    "    <b>Expected Output: Cost     0.30, (Click to see details):</b>\n",
    "</summary>\n",
    "\n",
    "    # With the following settings\n",
    "    np.random.seed(1)\n",
    "    intial_w = 0.01 * (np.random.rand(2).reshape(-1,1) - 0.5)\n",
    "    initial_b = -8\n",
    "    iterations = 10000\n",
    "    alpha = 0.001\n",
    "    #\n",
    "\n",
    "```\n",
    "Iteration    0: Cost     1.01   \n",
    "Iteration 1000: Cost     0.31   \n",
    "Iteration 2000: Cost     0.30   \n",
    "Iteration 3000: Cost     0.30   \n",
    "Iteration 4000: Cost     0.30   \n",
    "Iteration 5000: Cost     0.30   \n",
    "Iteration 6000: Cost     0.30   \n",
    "Iteration 7000: Cost     0.30   \n",
    "Iteration 8000: Cost     0.30   \n",
    "Iteration 9000: Cost     0.30   \n",
    "Iteration 9999: Cost     0.30   \n",
    "```"
   ]
  },
  {
   "cell_type": "markdown",
   "metadata": {},
   "source": [
    "<a name=\"2.7\"></a>\n",
    "### 2.7 Plotting the decision boundary\n",
    "\n",
    "We will now use the final parameters from gradient descent to plot the linear fit. If you implemented the previous parts correctly, you should see the following plot:   \n",
    "<img src=\"./figure 2.png\"  width=\"450\" height=\"450\">\n",
    "\n",
    "We will use a helper function in the `utils.py` file to create this plot."
   ]
  },
  {
   "cell_type": "code",
   "execution_count": 18,
   "metadata": {},
   "outputs": [
    {
     "data": {
      "image/png": "[encoded data removed]",
      "image/svg+xml": "<?xml version=\"1.0\" encoding=\"utf-8\" standalone=\"no\"?>\n<!DOCTYPE svg PUBLIC \"-//W3C//DTD SVG 1.1//EN\"\n  \"http://www.w3.org/Graphics/SVG/1.1/DTD/svg11.dtd\">\n<svg xmlns:xlink=\"http://www.w3.org/1999/xlink\" width=\"484.482813pt\" height=\"329.525312pt\" viewBox=\"0 0 484.482813 329.525312\" xmlns=\"http://www.w3.org/2000/svg\" version=\"1.1\">\n <metadata>\n  <rdf:RDF xmlns:dc=\"http://purl.org/dc/elements/1.1/\" xmlns:cc=\"http://creativecommons.org/ns#\" xmlns:rdf=\"http://www.w3.org/1999/02/22-rdf-syntax-ns#\">\n   <cc:Work>\n    <dc:type rdf:resource=\"http://purl.org/dc/dcmitype/StillImage\"/>\n    <dc:date>2022-08-01T08:39:48.185139</dc:date>\n    <dc:format>image/svg+xml</dc:format>\n    <dc:creator>\n     <cc:Agent>\n      <dc:title>Matplotlib v3.5.2, https://matplotlib.org/</dc:title>\n     </cc:Agent>\n    </dc:creator>\n   </cc:Work>\n  </rdf:RDF>\n </metadata>\n <defs>\n  <style type=\"text/css\">*{stroke-linejoin: round; stroke-linecap: butt}</style>\n </defs>\n <g id=\"figure_1\">\n  <g id=\"patch_1\">\n   <path d=\"M 0 329.525312 \nL 484.482813 329.525312 \nL 484.482813 0 \nL 0 0 \nz\n\" style=\"fill: #ffffff\"/>\n  </g>\n  <g id=\"axes_1\">\n   <g id=\"patch_2\">\n    <path d=\"M 30.882812 306.18 \nL 477.282812 306.18 \nL 477.282812 7.2 \nL 30.882812 7.2 \nz\n\" style=\"fill: #eaeaf2\"/>\n   </g>\n   <g id=\"matplotlib.axis_1\">\n    <g id=\"xtick_1\">\n     <g id=\"line2d_1\">\n      <path d=\"M 50.831575 306.18 \nL 50.831575 7.2 \n\" clip-path=\"url(#p577e9f3f20)\" style=\"fill: none; stroke: #ffffff; stroke-linecap: round\"/>\n     </g>\n     <g id=\"line2d_2\"/>\n     <g id=\"text_1\">\n      <!-- 30 -->\n      <g style=\"fill: #262626\" transform=\"translate(45.270638 320.337812)scale(0.1 -0.1)\">\n       <defs>\n        <path id=\"ArialMT-33\" d=\"M 269 1209 \nL 831 1284 \nQ 928 806 1161 595 \nQ 1394 384 1728 384 \nQ 2125 384 2398 659 \nQ 2672 934 2672 1341 \nQ 2672 1728 2419 1979 \nQ 2166 2231 1775 2231 \nQ 1616 2231 1378 2169 \nL 1441 2663 \nQ 1497 2656 1531 2656 \nQ 1891 2656 2178 2843 \nQ 2466 3031 2466 3422 \nQ 2466 3731 2256 3934 \nQ 2047 4138 1716 4138 \nQ 1388 4138 1169 3931 \nQ 950 3725 888 3313 \nL 325 3413 \nQ 428 3978 793 4289 \nQ 1159 4600 1703 4600 \nQ 2078 4600 2393 4439 \nQ 2709 4278 2876 4000 \nQ 3044 3722 3044 3409 \nQ 3044 3113 2884 2869 \nQ 2725 2625 2413 2481 \nQ 2819 2388 3044 2092 \nQ 3269 1797 3269 1353 \nQ 3269 753 2831 336 \nQ 2394 -81 1725 -81 \nQ 1122 -81 723 278 \nQ 325 638 269 1209 \nz\n\" transform=\"scale(0.015625)\"/>\n        <path id=\"ArialMT-30\" d=\"M 266 2259 \nQ 266 3072 433 3567 \nQ 600 4063 929 4331 \nQ 1259 4600 1759 4600 \nQ 2128 4600 2406 4451 \nQ 2684 4303 2865 4023 \nQ 3047 3744 3150 3342 \nQ 3253 2941 3253 2259 \nQ 3253 1453 3087 958 \nQ 2922 463 2592 192 \nQ 2263 -78 1759 -78 \nQ 1097 -78 719 397 \nQ 266 969 266 2259 \nz\nM 844 2259 \nQ 844 1131 1108 757 \nQ 1372 384 1759 384 \nQ 2147 384 2411 759 \nQ 2675 1134 2675 2259 \nQ 2675 3391 2411 3762 \nQ 2147 4134 1753 4134 \nQ 1366 4134 1134 3806 \nQ 844 3388 844 2259 \nz\n\" transform=\"scale(0.015625)\"/>\n       </defs>\n       <use xlink:href=\"#ArialMT-33\"/>\n       <use xlink:href=\"#ArialMT-30\" x=\"55.615234\"/>\n      </g>\n     </g>\n    </g>\n    <g id=\"xtick_2\">\n     <g id=\"line2d_3\">\n      <path d=\"M 108.997519 306.18 \nL 108.997519 7.2 \n\" clip-path=\"url(#p577e9f3f20)\" style=\"fill: none; stroke: #ffffff; stroke-linecap: round\"/>\n     </g>\n     <g id=\"line2d_4\"/>\n     <g id=\"text_2\">\n      <!-- 40 -->\n      <g style=\"fill: #262626\" transform=\"translate(103.436582 320.337812)scale(0.1 -0.1)\">\n       <defs>\n        <path id=\"ArialMT-34\" d=\"M 2069 0 \nL 2069 1097 \nL 81 1097 \nL 81 1613 \nL 2172 4581 \nL 2631 4581 \nL 2631 1613 \nL 3250 1613 \nL 3250 1097 \nL 2631 1097 \nL 2631 0 \nL 2069 0 \nz\nM 2069 1613 \nL 2069 3678 \nL 634 1613 \nL 2069 1613 \nz\n\" transform=\"scale(0.015625)\"/>\n       </defs>\n       <use xlink:href=\"#ArialMT-34\"/>\n       <use xlink:href=\"#ArialMT-30\" x=\"55.615234\"/>\n      </g>\n     </g>\n    </g>\n    <g id=\"xtick_3\">\n     <g id=\"line2d_5\">\n      <path d=\"M 167.163464 306.18 \nL 167.163464 7.2 \n\" clip-path=\"url(#p577e9f3f20)\" style=\"fill: none; stroke: #ffffff; stroke-linecap: round\"/>\n     </g>\n     <g id=\"line2d_6\"/>\n     <g id=\"text_3\">\n      <!-- 50 -->\n      <g style=\"fill: #262626\" transform=\"translate(161.602526 320.337812)scale(0.1 -0.1)\">\n       <defs>\n        <path id=\"ArialMT-35\" d=\"M 266 1200 \nL 856 1250 \nQ 922 819 1161 601 \nQ 1400 384 1738 384 \nQ 2144 384 2425 690 \nQ 2706 997 2706 1503 \nQ 2706 1984 2436 2262 \nQ 2166 2541 1728 2541 \nQ 1456 2541 1237 2417 \nQ 1019 2294 894 2097 \nL 366 2166 \nL 809 4519 \nL 3088 4519 \nL 3088 3981 \nL 1259 3981 \nL 1013 2750 \nQ 1425 3038 1878 3038 \nQ 2478 3038 2890 2622 \nQ 3303 2206 3303 1553 \nQ 3303 931 2941 478 \nQ 2500 -78 1738 -78 \nQ 1113 -78 717 272 \nQ 322 622 266 1200 \nz\n\" transform=\"scale(0.015625)\"/>\n       </defs>\n       <use xlink:href=\"#ArialMT-35\"/>\n       <use xlink:href=\"#ArialMT-30\" x=\"55.615234\"/>\n      </g>\n     </g>\n    </g>\n    <g id=\"xtick_4\">\n     <g id=\"line2d_7\">\n      <path d=\"M 225.329408 306.18 \nL 225.329408 7.2 \n\" clip-path=\"url(#p577e9f3f20)\" style=\"fill: none; stroke: #ffffff; stroke-linecap: round\"/>\n     </g>\n     <g id=\"line2d_8\"/>\n     <g id=\"text_4\">\n      <!-- 60 -->\n      <g style=\"fill: #262626\" transform=\"translate(219.76847 320.337812)scale(0.1 -0.1)\">\n       <defs>\n        <path id=\"ArialMT-36\" d=\"M 3184 3459 \nL 2625 3416 \nQ 2550 3747 2413 3897 \nQ 2184 4138 1850 4138 \nQ 1581 4138 1378 3988 \nQ 1113 3794 959 3422 \nQ 806 3050 800 2363 \nQ 1003 2672 1297 2822 \nQ 1591 2972 1913 2972 \nQ 2475 2972 2870 2558 \nQ 3266 2144 3266 1488 \nQ 3266 1056 3080 686 \nQ 2894 316 2569 119 \nQ 2244 -78 1831 -78 \nQ 1128 -78 684 439 \nQ 241 956 241 2144 \nQ 241 3472 731 4075 \nQ 1159 4600 1884 4600 \nQ 2425 4600 2770 4297 \nQ 3116 3994 3184 3459 \nz\nM 888 1484 \nQ 888 1194 1011 928 \nQ 1134 663 1356 523 \nQ 1578 384 1822 384 \nQ 2178 384 2434 671 \nQ 2691 959 2691 1453 \nQ 2691 1928 2437 2201 \nQ 2184 2475 1800 2475 \nQ 1419 2475 1153 2201 \nQ 888 1928 888 1484 \nz\n\" transform=\"scale(0.015625)\"/>\n       </defs>\n       <use xlink:href=\"#ArialMT-36\"/>\n       <use xlink:href=\"#ArialMT-30\" x=\"55.615234\"/>\n      </g>\n     </g>\n    </g>\n    <g id=\"xtick_5\">\n     <g id=\"line2d_9\">\n      <path d=\"M 283.495352 306.18 \nL 283.495352 7.2 \n\" clip-path=\"url(#p577e9f3f20)\" style=\"fill: none; stroke: #ffffff; stroke-linecap: round\"/>\n     </g>\n     <g id=\"line2d_10\"/>\n     <g id=\"text_5\">\n      <!-- 70 -->\n      <g style=\"fill: #262626\" transform=\"translate(277.934415 320.337812)scale(0.1 -0.1)\">\n       <defs>\n        <path id=\"ArialMT-37\" d=\"M 303 3981 \nL 303 4522 \nL 3269 4522 \nL 3269 4084 \nQ 2831 3619 2401 2847 \nQ 1972 2075 1738 1259 \nQ 1569 684 1522 0 \nL 944 0 \nQ 953 541 1156 1306 \nQ 1359 2072 1739 2783 \nQ 2119 3494 2547 3981 \nL 303 3981 \nz\n\" transform=\"scale(0.015625)\"/>\n       </defs>\n       <use xlink:href=\"#ArialMT-37\"/>\n       <use xlink:href=\"#ArialMT-30\" x=\"55.615234\"/>\n      </g>\n     </g>\n    </g>\n    <g id=\"xtick_6\">\n     <g id=\"line2d_11\">\n      <path d=\"M 341.661296 306.18 \nL 341.661296 7.2 \n\" clip-path=\"url(#p577e9f3f20)\" style=\"fill: none; stroke: #ffffff; stroke-linecap: round\"/>\n     </g>\n     <g id=\"line2d_12\"/>\n     <g id=\"text_6\">\n      <!-- 80 -->\n      <g style=\"fill: #262626\" transform=\"translate(336.100359 320.337812)scale(0.1 -0.1)\">\n       <defs>\n        <path id=\"ArialMT-38\" d=\"M 1131 2484 \nQ 781 2613 612 2850 \nQ 444 3088 444 3419 \nQ 444 3919 803 4259 \nQ 1163 4600 1759 4600 \nQ 2359 4600 2725 4251 \nQ 3091 3903 3091 3403 \nQ 3091 3084 2923 2848 \nQ 2756 2613 2416 2484 \nQ 2838 2347 3058 2040 \nQ 3278 1734 3278 1309 \nQ 3278 722 2862 322 \nQ 2447 -78 1769 -78 \nQ 1091 -78 675 323 \nQ 259 725 259 1325 \nQ 259 1772 486 2073 \nQ 713 2375 1131 2484 \nz\nM 1019 3438 \nQ 1019 3113 1228 2906 \nQ 1438 2700 1772 2700 \nQ 2097 2700 2305 2904 \nQ 2513 3109 2513 3406 \nQ 2513 3716 2298 3927 \nQ 2084 4138 1766 4138 \nQ 1444 4138 1231 3931 \nQ 1019 3725 1019 3438 \nz\nM 838 1322 \nQ 838 1081 952 856 \nQ 1066 631 1291 507 \nQ 1516 384 1775 384 \nQ 2178 384 2440 643 \nQ 2703 903 2703 1303 \nQ 2703 1709 2433 1975 \nQ 2163 2241 1756 2241 \nQ 1359 2241 1098 1978 \nQ 838 1716 838 1322 \nz\n\" transform=\"scale(0.015625)\"/>\n       </defs>\n       <use xlink:href=\"#ArialMT-38\"/>\n       <use xlink:href=\"#ArialMT-30\" x=\"55.615234\"/>\n      </g>\n     </g>\n    </g>\n    <g id=\"xtick_7\">\n     <g id=\"line2d_13\">\n      <path d=\"M 399.827241 306.18 \nL 399.827241 7.2 \n\" clip-path=\"url(#p577e9f3f20)\" style=\"fill: none; stroke: #ffffff; stroke-linecap: round\"/>\n     </g>\n     <g id=\"line2d_14\"/>\n     <g id=\"text_7\">\n      <!-- 90 -->\n      <g style=\"fill: #262626\" transform=\"translate(394.266303 320.337812)scale(0.1 -0.1)\">\n       <defs>\n        <path id=\"ArialMT-39\" d=\"M 350 1059 \nL 891 1109 \nQ 959 728 1153 556 \nQ 1347 384 1650 384 \nQ 1909 384 2104 503 \nQ 2300 622 2425 820 \nQ 2550 1019 2634 1356 \nQ 2719 1694 2719 2044 \nQ 2719 2081 2716 2156 \nQ 2547 1888 2255 1720 \nQ 1963 1553 1622 1553 \nQ 1053 1553 659 1965 \nQ 266 2378 266 3053 \nQ 266 3750 677 4175 \nQ 1088 4600 1706 4600 \nQ 2153 4600 2523 4359 \nQ 2894 4119 3086 3673 \nQ 3278 3228 3278 2384 \nQ 3278 1506 3087 986 \nQ 2897 466 2520 194 \nQ 2144 -78 1638 -78 \nQ 1100 -78 759 220 \nQ 419 519 350 1059 \nz\nM 2653 3081 \nQ 2653 3566 2395 3850 \nQ 2138 4134 1775 4134 \nQ 1400 4134 1122 3828 \nQ 844 3522 844 3034 \nQ 844 2597 1108 2323 \nQ 1372 2050 1759 2050 \nQ 2150 2050 2401 2323 \nQ 2653 2597 2653 3081 \nz\n\" transform=\"scale(0.015625)\"/>\n       </defs>\n       <use xlink:href=\"#ArialMT-39\"/>\n       <use xlink:href=\"#ArialMT-30\" x=\"55.615234\"/>\n      </g>\n     </g>\n    </g>\n    <g id=\"xtick_8\">\n     <g id=\"line2d_15\">\n      <path d=\"M 457.993185 306.18 \nL 457.993185 7.2 \n\" clip-path=\"url(#p577e9f3f20)\" style=\"fill: none; stroke: #ffffff; stroke-linecap: round\"/>\n     </g>\n     <g id=\"line2d_16\"/>\n     <g id=\"text_8\">\n      <!-- 100 -->\n      <g style=\"fill: #262626\" transform=\"translate(449.651779 320.337812)scale(0.1 -0.1)\">\n       <defs>\n        <path id=\"ArialMT-31\" d=\"M 2384 0 \nL 1822 0 \nL 1822 3584 \nQ 1619 3391 1289 3197 \nQ 959 3003 697 2906 \nL 697 3450 \nQ 1169 3672 1522 3987 \nQ 1875 4303 2022 4600 \nL 2384 4600 \nL 2384 0 \nz\n\" transform=\"scale(0.015625)\"/>\n       </defs>\n       <use xlink:href=\"#ArialMT-31\"/>\n       <use xlink:href=\"#ArialMT-30\" x=\"55.615234\"/>\n       <use xlink:href=\"#ArialMT-30\" x=\"111.230469\"/>\n      </g>\n     </g>\n    </g>\n   </g>\n   <g id=\"matplotlib.axis_2\">\n    <g id=\"ytick_1\">\n     <g id=\"line2d_17\">\n      <path d=\"M 30.882812 281.326546 \nL 477.282812 281.326546 \n\" clip-path=\"url(#p577e9f3f20)\" style=\"fill: none; stroke: #ffffff; stroke-linecap: round\"/>\n     </g>\n     <g id=\"line2d_18\"/>\n     <g id=\"text_9\">\n      <!-- 20 -->\n      <g style=\"fill: #262626\" transform=\"translate(12.760937 284.905452)scale(0.1 -0.1)\">\n       <defs>\n        <path id=\"ArialMT-32\" d=\"M 3222 541 \nL 3222 0 \nL 194 0 \nQ 188 203 259 391 \nQ 375 700 629 1000 \nQ 884 1300 1366 1694 \nQ 2113 2306 2375 2664 \nQ 2638 3022 2638 3341 \nQ 2638 3675 2398 3904 \nQ 2159 4134 1775 4134 \nQ 1369 4134 1125 3890 \nQ 881 3647 878 3216 \nL 300 3275 \nQ 359 3922 746 4261 \nQ 1134 4600 1788 4600 \nQ 2447 4600 2831 4234 \nQ 3216 3869 3216 3328 \nQ 3216 3053 3103 2787 \nQ 2991 2522 2730 2228 \nQ 2469 1934 1863 1422 \nQ 1356 997 1212 845 \nQ 1069 694 975 541 \nL 3222 541 \nz\n\" transform=\"scale(0.015625)\"/>\n       </defs>\n       <use xlink:href=\"#ArialMT-32\"/>\n       <use xlink:href=\"#ArialMT-30\" x=\"55.615234\"/>\n      </g>\n     </g>\n    </g>\n    <g id=\"ytick_2\">\n     <g id=\"line2d_19\">\n      <path d=\"M 30.882812 215.258735 \nL 477.282812 215.258735 \n\" clip-path=\"url(#p577e9f3f20)\" style=\"fill: none; stroke: #ffffff; stroke-linecap: round\"/>\n     </g>\n     <g id=\"line2d_20\"/>\n     <g id=\"text_10\">\n      <!-- 40 -->\n      <g style=\"fill: #262626\" transform=\"translate(12.760937 218.837642)scale(0.1 -0.1)\">\n       <use xlink:href=\"#ArialMT-34\"/>\n       <use xlink:href=\"#ArialMT-30\" x=\"55.615234\"/>\n      </g>\n     </g>\n    </g>\n    <g id=\"ytick_3\">\n     <g id=\"line2d_21\">\n      <path d=\"M 30.882812 149.190925 \nL 477.282812 149.190925 \n\" clip-path=\"url(#p577e9f3f20)\" style=\"fill: none; stroke: #ffffff; stroke-linecap: round\"/>\n     </g>\n     <g id=\"line2d_22\"/>\n     <g id=\"text_11\">\n      <!-- 60 -->\n      <g style=\"fill: #262626\" transform=\"translate(12.760937 152.769831)scale(0.1 -0.1)\">\n       <use xlink:href=\"#ArialMT-36\"/>\n       <use xlink:href=\"#ArialMT-30\" x=\"55.615234\"/>\n      </g>\n     </g>\n    </g>\n    <g id=\"ytick_4\">\n     <g id=\"line2d_23\">\n      <path d=\"M 30.882812 83.123115 \nL 477.282812 83.123115 \n\" clip-path=\"url(#p577e9f3f20)\" style=\"fill: none; stroke: #ffffff; stroke-linecap: round\"/>\n     </g>\n     <g id=\"line2d_24\"/>\n     <g id=\"text_12\">\n      <!-- 80 -->\n      <g style=\"fill: #262626\" transform=\"translate(12.760937 86.702021)scale(0.1 -0.1)\">\n       <use xlink:href=\"#ArialMT-38\"/>\n       <use xlink:href=\"#ArialMT-30\" x=\"55.615234\"/>\n      </g>\n     </g>\n    </g>\n    <g id=\"ytick_5\">\n     <g id=\"line2d_25\">\n      <path d=\"M 30.882812 17.055305 \nL 477.282812 17.055305 \n\" clip-path=\"url(#p577e9f3f20)\" style=\"fill: none; stroke: #ffffff; stroke-linecap: round\"/>\n     </g>\n     <g id=\"line2d_26\"/>\n     <g id=\"text_13\">\n      <!-- 100 -->\n      <g style=\"fill: #262626\" transform=\"translate(7.2 20.634211)scale(0.1 -0.1)\">\n       <use xlink:href=\"#ArialMT-31\"/>\n       <use xlink:href=\"#ArialMT-30\" x=\"55.615234\"/>\n       <use xlink:href=\"#ArialMT-30\" x=\"111.230469\"/>\n      </g>\n     </g>\n    </g>\n   </g>\n   <g id=\"line2d_27\">\n    <defs>\n     <path id=\"m981599802e\" d=\"M -3.5 0 \nL 3.5 0 \nM 0 3.5 \nL 0 -3.5 \n\"/>\n    </defs>\n    <g clip-path=\"url(#p577e9f3f20)\">\n     <use xlink:href=\"#m981599802e\" x=\"226.391514\" y=\"62.283504\"/>\n     <use xlink:href=\"#m981599802e\" x=\"336.035114\" y=\"98.502458\"/>\n     <use xlink:href=\"#m981599802e\" x=\"231.766427\" y=\"28.579427\"/>\n     <use xlink:href=\"#m981599802e\" x=\"312.722259\" y=\"193.608269\"/>\n     <use xlink:href=\"#m981599802e\" x=\"318.969521\" y=\"58.610075\"/>\n     <use xlink:href=\"#m981599802e\" x=\"367.445212\" y=\"203.586558\"/>\n     <use xlink:href=\"#m981599802e\" x=\"355.08049\" y=\"94.744564\"/>\n     <use xlink:href=\"#m981599802e\" x=\"279.799423\" y=\"24.591356\"/>\n     <use xlink:href=\"#m981599802e\" x=\"190.261463\" y=\"52.707642\"/>\n     <use xlink:href=\"#m981599802e\" x=\"278.086757\" y=\"173.171989\"/>\n     <use xlink:href=\"#m981599802e\" x=\"287.343085\" y=\"40.41973\"/>\n     <use xlink:href=\"#m981599802e\" x=\"324.088107\" y=\"190.232369\"/>\n     <use xlink:href=\"#m981599802e\" x=\"397.947176\" y=\"130.033355\"/>\n     <use xlink:href=\"#m981599802e\" x=\"329.586578\" y=\"119.551716\"/>\n     <use xlink:href=\"#m981599802e\" x=\"238.538973\" y=\"116.307463\"/>\n     <use xlink:href=\"#m981599802e\" x=\"342.767501\" y=\"199.331012\"/>\n     <use xlink:href=\"#m981599802e\" x=\"233.352175\" y=\"106.881472\"/>\n     <use xlink:href=\"#m981599802e\" x=\"373.097194\" y=\"158.929373\"/>\n     <use xlink:href=\"#m981599802e\" x=\"179.060754\" y=\"118.030505\"/>\n     <use xlink:href=\"#m981599802e\" x=\"249.625258\" y=\"80.123436\"/>\n     <use xlink:href=\"#m981599802e\" x=\"364.359938\" y=\"161.38689\"/>\n     <use xlink:href=\"#m981599802e\" x=\"425.672509\" y=\"130.794602\"/>\n     <use xlink:href=\"#m981599802e\" x=\"325.334319\" y=\"114.643407\"/>\n     <use xlink:href=\"#m981599802e\" x=\"445.031482\" y=\"60.898491\"/>\n     <use xlink:href=\"#m981599802e\" x=\"237.387579\" y=\"27.72914\"/>\n     <use xlink:href=\"#m981599802e\" x=\"408.930063\" y=\"54.395865\"/>\n     <use xlink:href=\"#m981599802e\" x=\"341.340325\" y=\"102.404611\"/>\n     <use xlink:href=\"#m981599802e\" x=\"453.761769\" y=\"145.890736\"/>\n     <use xlink:href=\"#m981599802e\" x=\"403.007255\" y=\"204.058254\"/>\n     <use xlink:href=\"#m981599802e\" x=\"444.298792\" y=\"119.91769\"/>\n     <use xlink:href=\"#m981599802e\" x=\"308.208267\" y=\"116.73653\"/>\n     <use xlink:href=\"#m981599802e\" x=\"293.944643\" y=\"88.231603\"/>\n     <use xlink:href=\"#m981599802e\" x=\"314.879436\" y=\"64.095795\"/>\n     <use xlink:href=\"#m981599802e\" x=\"111.658908\" y=\"25.19755\"/>\n     <use xlink:href=\"#m981599802e\" x=\"343.287465\" y=\"43.099035\"/>\n     <use xlink:href=\"#m981599802e\" x=\"264.572334\" y=\"145.915964\"/>\n     <use xlink:href=\"#m981599802e\" x=\"248.824497\" y=\"89.625218\"/>\n     <use xlink:href=\"#m981599802e\" x=\"297.143957\" y=\"29.517038\"/>\n     <use xlink:href=\"#m981599802e\" x=\"227.992744\" y=\"105.933033\"/>\n     <use xlink:href=\"#m981599802e\" x=\"218.58772\" y=\"96.804278\"/>\n     <use xlink:href=\"#m981599802e\" x=\"456.991903\" y=\"108.330456\"/>\n     <use xlink:href=\"#m981599802e\" x=\"151.250827\" y=\"55.124023\"/>\n     <use xlink:href=\"#m981599802e\" x=\"169.828393\" y=\"96.964785\"/>\n     <use xlink:href=\"#m981599802e\" x=\"393.509817\" y=\"116.805182\"/>\n     <use xlink:href=\"#m981599802e\" x=\"427.947605\" y=\"196.448216\"/>\n     <use xlink:href=\"#m981599802e\" x=\"267.90256\" y=\"127.423718\"/>\n     <use xlink:href=\"#m981599802e\" x=\"209.268082\" y=\"150.795442\"/>\n     <use xlink:href=\"#m981599802e\" x=\"343.794567\" y=\"46.917466\"/>\n     <use xlink:href=\"#m981599802e\" x=\"274.587365\" y=\"64.642934\"/>\n     <use xlink:href=\"#m981599802e\" x=\"315.356923\" y=\"48.686792\"/>\n     <use xlink:href=\"#m981599802e\" x=\"333.724113\" y=\"28.130162\"/>\n     <use xlink:href=\"#m981599802e\" x=\"423.642304\" y=\"92.5077\"/>\n     <use xlink:href=\"#m981599802e\" x=\"402.43628\" y=\"58.318644\"/>\n     <use xlink:href=\"#m981599802e\" x=\"309.627522\" y=\"67.117736\"/>\n     <use xlink:href=\"#m981599802e\" x=\"398.930361\" y=\"197.558232\"/>\n     <use xlink:href=\"#m981599802e\" x=\"361.956341\" y=\"187.575379\"/>\n     <use xlink:href=\"#m981599802e\" x=\"122.152916\" y=\"59.656321\"/>\n     <use xlink:href=\"#m981599802e\" x=\"454.008869\" y=\"120.202321\"/>\n     <use xlink:href=\"#m981599802e\" x=\"198.22418\" y=\"132.898808\"/>\n     <use xlink:href=\"#m981599802e\" x=\"311.274785\" y=\"51.642421\"/>\n    </g>\n   </g>\n   <g id=\"line2d_28\">\n    <defs>\n     <path id=\"mcd2fdddd2a\" d=\"M 0 3.5 \nC 0.928211 3.5 1.81853 3.131218 2.474874 2.474874 \nC 3.131218 1.81853 3.5 0.928211 3.5 0 \nC 3.5 -0.928211 3.131218 -1.81853 2.474874 -2.474874 \nC 1.81853 -3.131218 0.928211 -3.5 0 -3.5 \nC -0.928211 -3.5 -1.81853 -3.131218 -2.474874 -2.474874 \nC -3.131218 -1.81853 -3.5 -0.928211 -3.5 0 \nC -3.5 0.928211 -3.131218 1.81853 -2.474874 2.474874 \nC -1.81853 3.131218 -0.928211 3.5 0 3.5 \nz\n\"/>\n    </defs>\n    <g clip-path=\"url(#p577e9f3f20)\">\n     <use xlink:href=\"#mcd2fdddd2a\" x=\"77.725528\" y=\"89.648326\" style=\"fill: #bfbf00\"/>\n     <use xlink:href=\"#mcd2fdddd2a\" x=\"52.499256\" y=\"202.392038\" style=\"fill: #bfbf00\"/>\n     <use xlink:href=\"#mcd2fdddd2a\" x=\"84.843581\" y=\"106.569927\" style=\"fill: #bfbf00\"/>\n     <use xlink:href=\"#mcd2fdddd2a\" x=\"138.564883\" y=\"161.359388\" style=\"fill: #bfbf00\"/>\n     <use xlink:href=\"#mcd2fdddd2a\" x=\"433.921529\" y=\"221.121335\" style=\"fill: #bfbf00\"/>\n     <use xlink:href=\"#mcd2fdddd2a\" x=\"312.65777\" y=\"246.299827\" style=\"fill: #bfbf00\"/>\n     <use xlink:href=\"#mcd2fdddd2a\" x=\"106.312226\" y=\"96.215076\" style=\"fill: #bfbf00\"/>\n     <use xlink:href=\"#mcd2fdddd2a\" x=\"271.553043\" y=\"193.196797\" style=\"fill: #bfbf00\"/>\n     <use xlink:href=\"#mcd2fdddd2a\" x=\"268.209502\" y=\"205.882265\" style=\"fill: #bfbf00\"/>\n     <use xlink:href=\"#mcd2fdddd2a\" x=\"170.27411\" y=\"186.004532\" style=\"fill: #bfbf00\"/>\n     <use xlink:href=\"#mcd2fdddd2a\" x=\"75.331426\" y=\"201.353019\" style=\"fill: #bfbf00\"/>\n     <use xlink:href=\"#mcd2fdddd2a\" x=\"417.942377\" y=\"219.22059\" style=\"fill: #bfbf00\"/>\n     <use xlink:href=\"#mcd2fdddd2a\" x=\"235.974974\" y=\"181.378806\" style=\"fill: #bfbf00\"/>\n     <use xlink:href=\"#mcd2fdddd2a\" x=\"101.935033\" y=\"132.68824\" style=\"fill: #bfbf00\"/>\n     <use xlink:href=\"#mcd2fdddd2a\" x=\"179.424727\" y=\"138.859163\" style=\"fill: #bfbf00\"/>\n     <use xlink:href=\"#mcd2fdddd2a\" x=\"110.375434\" y=\"112.299492\" style=\"fill: #bfbf00\"/>\n     <use xlink:href=\"#mcd2fdddd2a\" x=\"194.123993\" y=\"174.911501\" style=\"fill: #bfbf00\"/>\n     <use xlink:href=\"#mcd2fdddd2a\" x=\"73.606451\" y=\"20.79\" style=\"fill: #bfbf00\"/>\n     <use xlink:href=\"#mcd2fdddd2a\" x=\"311.352494\" y=\"210.061131\" style=\"fill: #bfbf00\"/>\n     <use xlink:href=\"#mcd2fdddd2a\" x=\"75.166113\" y=\"98.854784\" style=\"fill: #bfbf00\"/>\n     <use xlink:href=\"#mcd2fdddd2a\" x=\"176.165925\" y=\"192.609731\" style=\"fill: #bfbf00\"/>\n     <use xlink:href=\"#mcd2fdddd2a\" x=\"355.439376\" y=\"213.216397\" style=\"fill: #bfbf00\"/>\n     <use xlink:href=\"#mcd2fdddd2a\" x=\"173.257811\" y=\"196.024079\" style=\"fill: #bfbf00\"/>\n     <use xlink:href=\"#mcd2fdddd2a\" x=\"238.257811\" y=\"175.416569\" style=\"fill: #bfbf00\"/>\n     <use xlink:href=\"#mcd2fdddd2a\" x=\"77.148837\" y=\"147.881651\" style=\"fill: #bfbf00\"/>\n     <use xlink:href=\"#mcd2fdddd2a\" x=\"168.829895\" y=\"182.870515\" style=\"fill: #bfbf00\"/>\n     <use xlink:href=\"#mcd2fdddd2a\" x=\"164.759333\" y=\"149.822035\" style=\"fill: #bfbf00\"/>\n     <use xlink:href=\"#mcd2fdddd2a\" x=\"65.822103\" y=\"31.595021\" style=\"fill: #bfbf00\"/>\n     <use xlink:href=\"#mcd2fdddd2a\" x=\"81.57875\" y=\"192.067236\" style=\"fill: #bfbf00\"/>\n     <use xlink:href=\"#mcd2fdddd2a\" x=\"203.539384\" y=\"217.69838\" style=\"fill: #bfbf00\"/>\n     <use xlink:href=\"#mcd2fdddd2a\" x=\"51.173722\" y=\"183.569397\" style=\"fill: #bfbf00\"/>\n     <use xlink:href=\"#mcd2fdddd2a\" x=\"136.150905\" y=\"127.883772\" style=\"fill: #bfbf00\"/>\n     <use xlink:href=\"#mcd2fdddd2a\" x=\"263.49147\" y=\"211.651109\" style=\"fill: #bfbf00\"/>\n     <use xlink:href=\"#mcd2fdddd2a\" x=\"161.76894\" y=\"176.003846\" style=\"fill: #bfbf00\"/>\n     <use xlink:href=\"#mcd2fdddd2a\" x=\"66.669191\" y=\"204.333851\" style=\"fill: #bfbf00\"/>\n     <use xlink:href=\"#mcd2fdddd2a\" x=\"227.979194\" y=\"206.97248\" style=\"fill: #bfbf00\"/>\n     <use xlink:href=\"#mcd2fdddd2a\" x=\"354.612884\" y=\"206.273914\" style=\"fill: #bfbf00\"/>\n     <use xlink:href=\"#mcd2fdddd2a\" x=\"121.069597\" y=\"86.939238\" style=\"fill: #bfbf00\"/>\n     <use xlink:href=\"#mcd2fdddd2a\" x=\"180.820851\" y=\"146.648949\" style=\"fill: #bfbf00\"/>\n     <use xlink:href=\"#mcd2fdddd2a\" x=\"199.050972\" y=\"229.890432\" style=\"fill: #bfbf00\"/>\n    </g>\n   </g>\n   <g id=\"line2d_29\">\n    <path d=\"M 51.173722 39.275121 \nL 456.991903 292.59 \n\" clip-path=\"url(#p577e9f3f20)\" style=\"fill: none; stroke: #0000ff; stroke-width: 1.75; stroke-linecap: round\"/>\n   </g>\n   <g id=\"patch_3\">\n    <path d=\"M 30.882812 306.18 \nL 30.882812 7.2 \n\" style=\"fill: none\"/>\n   </g>\n   <g id=\"patch_4\">\n    <path d=\"M 477.282812 306.18 \nL 477.282812 7.2 \n\" style=\"fill: none\"/>\n   </g>\n   <g id=\"patch_5\">\n    <path d=\"M 30.882813 306.18 \nL 477.282813 306.18 \n\" style=\"fill: none\"/>\n   </g>\n   <g id=\"patch_6\">\n    <path d=\"M 30.882813 7.2 \nL 477.282813 7.2 \n\" style=\"fill: none\"/>\n   </g>\n  </g>\n </g>\n <defs>\n  <clipPath id=\"p577e9f3f20\">\n   <rect x=\"30.882812\" y=\"7.2\" width=\"446.4\" height=\"298.98\"/>\n  </clipPath>\n </defs>\n</svg>\n",
      "text/plain": [
       "<Figure size 576x396 with 1 Axes>"
      ]
     },
     "metadata": {},
     "output_type": "display_data"
    }
   ],
   "source": [
    "plot_decision_boundary(w, b, X_train, y_train)"
   ]
  },
  {
   "cell_type": "markdown",
   "metadata": {},
   "source": [
    "<a name=\"2.8\"></a>\n",
    "### 2.8 Evaluating logistic regression\n",
    "\n",
    "We can evaluate the quality of the parameters we have found by seeing how well the learned model predicts on our training set. \n",
    "\n",
    "You will implement the `predict` function below to do this.\n"
   ]
  },
  {
   "cell_type": "markdown",
   "metadata": {},
   "source": [
    "<a name='ex-04'></a>\n",
    "### Exercise 4\n",
    "\n",
    "Please complete the `predict` function to produce `1` or `0` predictions given a dataset and a learned parameter vector $w$ and $b$.\n",
    "- First you need to compute the prediction from the model $f(x^{(i)}) = g(w \\cdot x^{(i)})$ for every example \n",
    "    - You've implemented this before in the parts above\n",
    "- We interpret the output of the model ($f(x^{(i)})$) as the probability that $y^{(i)}=1$ given $x^{(i)}$ and parameterized by $w$.\n",
    "- Therefore, to get a final prediction ($y^{(i)}=0$ or $y^{(i)}=1$) from the logistic regression model, you can use the following heuristic -\n",
    "\n",
    "  if $f(x^{(i)}) >= 0.5$, predict $y^{(i)}=1$\n",
    "  \n",
    "  if $f(x^{(i)}) < 0.5$, predict $y^{(i)}=0$\n",
    "    \n",
    "If you get stuck, you can check out the hints presented after the cell below to help you with the implementation."
   ]
  },
  {
   "cell_type": "code",
   "execution_count": 19,
   "metadata": {},
   "outputs": [],
   "source": [
    "# UNQ_C4\n",
    "# GRADED FUNCTION: predict\n",
    "\n",
    "def predict(X, w, b): \n",
    "    \"\"\"\n",
    "    Predict whether the label is 0 or 1 using learned logistic\n",
    "    regression parameters w\n",
    "    \n",
    "    Args:\n",
    "    X : (ndarray Shape (m, n))\n",
    "    w : (array_like Shape (n,))      Parameters of the model\n",
    "    b : (scalar, float)              Parameter of the model\n",
    "\n",
    "    Returns:\n",
    "    p: (ndarray (m,1))\n",
    "        The predictions for X using a threshold at 0.5\n",
    "    \"\"\"\n",
    "    # number of training examples\n",
    "    m, n = X.shape   \n",
    "    p = np.zeros(m)\n",
    "   \n",
    "    ### START CODE HERE ### \n",
    "    # Loop over each example\n",
    "        \n",
    "    ### END CODE HERE ### \n",
    "    return p"
   ]
  },
  {
   "cell_type": "markdown",
   "metadata": {},
   "source": [
    "<details>\n",
    "<summary> <font size=\"5\" color=\"#00EEFF\">My code</font> </summary>\n",
    "<pre>\n",
    "    for i in range(m):   \n",
    "        z = (X[i] @ w) + b        \n",
    "        # Calculate the prediction for this example\n",
    "        f_wb = sigmoid(z)\n",
    "        # Apply the threshold\n",
    "        p[i] = 1 if f_wb >= 0.5 else 0\n",
    "</pre>\n",
    "</details>"
   ]
  },
  {
   "cell_type": "markdown",
   "metadata": {},
   "source": [
    "<details>\n",
    "  <summary><font size=\"3\" color=\"darkgreen\"><b>Click for hints</b></font></summary>\n",
    "    \n",
    "    \n",
    "* Here's how you can structure the overall implementation for this function\n",
    "    ```python \n",
    "       def predict(X, w, b): \n",
    "            # number of training examples\n",
    "            m, n = X.shape   \n",
    "            p = np.zeros(m)\n",
    "   \n",
    "            ### START CODE HERE ### \n",
    "            # Loop over each example\n",
    "            for i in range(m):   \n",
    "                \n",
    "                # Calculate f_wb (exactly how you did it in the compute_cost function above) \n",
    "                # using a couple of lines of code\n",
    "                f_wb = \n",
    "\n",
    "                # Calculate the prediction for that training example \n",
    "                p[i] = # Your code here to calculate the prediction based on f_wb\n",
    "        \n",
    "            ### END CODE HERE ### \n",
    "            return p\n",
    "    ```\n",
    "  \n",
    "    If you're still stuck, you can check the hints presented below to figure out how to calculate `f_wb` and `p[i]` \n",
    "    \n",
    "    <details>\n",
    "          <summary><font size=\"2\" color=\"darkblue\"><b>Hint to calculate f_wb</b></font></summary>\n",
    "           &emsp; &emsp; Recall that you calculated f_wb in <code>compute_cost</code> above — for detailed hints on how to calculate each intermediate term, check out the hints section below that exercise\n",
    "           <details>\n",
    "              <summary><font size=\"2\" color=\"blue\"><b>&emsp; &emsp; More hints to calculate f_wb</b></font></summary>\n",
    "              &emsp; &emsp; You can calculate f_wb as\n",
    "               <pre>\n",
    "               for i in range(m):   \n",
    "                   # Calculate f_wb (exactly how you did it in the compute_cost function above)\n",
    "                   z_wb = 0\n",
    "                   # Loop over each feature\n",
    "                   for j in range(n): \n",
    "                       # Add the corresponding term to z_wb\n",
    "                       z_wb_ij = X[i, j] * w[j]\n",
    "                       z_wb += z_wb_ij\n",
    "            \n",
    "                   # Add bias term \n",
    "                   z_wb += b\n",
    "        \n",
    "                   # Calculate the prediction from the model\n",
    "                   f_wb = sigmoid(z_wb)\n",
    "    </details>\n",
    "        \n",
    "    </details>\n",
    "    <details>\n",
    "          <summary><font size=\"2\" color=\"darkblue\"><b>Hint to calculate p[i]</b></font></summary>\n",
    "           &emsp; &emsp; As an example, if you'd like to say x = 1 if y is less than 3 and 0 otherwise, you can express it in code as <code>x = y < 3 </code>. Now do the same for p[i] = 1 if f_wb >= 0.5 and 0 otherwise. \n",
    "           <details>\n",
    "              <summary><font size=\"2\" color=\"blue\"><b>&emsp; &emsp; More hints to calculate p[i]</b></font></summary>\n",
    "              &emsp; &emsp; You can compute p[i] as <code>p[i] = f_wb >= 0.5</code>\n",
    "          </details>\n",
    "    </details>\n",
    "\n",
    "</details>"
   ]
  },
  {
   "cell_type": "markdown",
   "metadata": {},
   "source": [
    "Once you have completed the function `predict`, let's run the code below to report the training accuracy of your classifier by computing the percentage of examples it got correct."
   ]
  },
  {
   "cell_type": "code",
   "execution_count": 20,
   "metadata": {},
   "outputs": [
    {
     "name": "stdout",
     "output_type": "stream",
     "text": [
      "Output of predict: shape (4,), value [0. 1. 1. 1.]\n",
      "\u001b[92mAll tests passed!\n"
     ]
    }
   ],
   "source": [
    "# Test your predict code\n",
    "np.random.seed(1)\n",
    "tmp_w = np.random.randn(2)\n",
    "tmp_b = 0.3    \n",
    "tmp_X = np.random.randn(4, 2) - 0.5\n",
    "\n",
    "tmp_p = predict(tmp_X, tmp_w, tmp_b)\n",
    "print(f'Output of predict: shape {tmp_p.shape}, value {tmp_p}')\n",
    "\n",
    "# UNIT TESTS        \n",
    "predict_test(predict)"
   ]
  },
  {
   "cell_type": "markdown",
   "metadata": {},
   "source": [
    "**Expected output** \n",
    "\n",
    "<table>\n",
    "  <tr>\n",
    "    <td> <b>Output of predict: shape (4,),value [0. 1. 1. 1.]<b></td>\n",
    "  </tr>\n",
    "</table>"
   ]
  },
  {
   "cell_type": "markdown",
   "metadata": {},
   "source": [
    "Now let's use this to compute the accuracy on the training set"
   ]
  },
  {
   "cell_type": "code",
   "execution_count": 21,
   "metadata": {},
   "outputs": [
    {
     "name": "stdout",
     "output_type": "stream",
     "text": [
      "Train Accuracy: 92.000000\n"
     ]
    }
   ],
   "source": [
    "#Compute accuracy on our training set\n",
    "p = predict(X_train, w,b)\n",
    "print('Train Accuracy: %f'%(np.mean(p == y_train) * 100))"
   ]
  },
  {
   "cell_type": "markdown",
   "metadata": {},
   "source": [
    "<table>\n",
    "  <tr>\n",
    "    <td> <b>Train Accuracy (approx):<b></td>\n",
    "    <td> 92.00 </td> \n",
    "  </tr>\n",
    "</table>"
   ]
  },
  {
   "cell_type": "markdown",
   "metadata": {},
   "source": [
    "<a name=\"3\"></a>\n",
    "## 3 - Regularized Logistic Regression\n",
    "\n",
    "In this part of the exercise, you will implement regularized logistic regression to predict whether microchips from a fabrication plant passes quality assurance (QA). During QA, each microchip goes through various tests to ensure it is functioning correctly. \n",
    "\n",
    "<a name=\"3.1\"></a>\n",
    "### 3.1 Problem Statement\n",
    "\n",
    "Suppose you are the product manager of the factory and you have the test results for some microchips on two different tests. \n",
    "- From these two tests, you would like to determine whether the microchips should be accepted or rejected. \n",
    "- To help you make the decision, you have a dataset of test results on past microchips, from which you can build a logistic regression model.\n",
    "\n",
    "<a name=\"3.2\"></a>\n",
    "### 3.2 Loading and visualizing the data\n",
    "\n",
    "Similar to previous parts of this exercise, let's start by loading the dataset for this task and visualizing it. \n",
    "\n",
    "- The `load_dataset()` function shown below loads the data into variables `X_train` and `y_train`\n",
    "  - `X_train` contains the test results for the microchips from two tests\n",
    "  - `y_train` contains the results of the QA  \n",
    "      - `y_train = 1` if the microchip was accepted \n",
    "      - `y_train = 0` if the microchip was rejected \n",
    "  - Both `X_train` and `y_train` are numpy arrays."
   ]
  },
  {
   "cell_type": "code",
   "execution_count": 22,
   "metadata": {},
   "outputs": [],
   "source": [
    "# load dataset\n",
    "X_train, y_train = load_data(\"data/ex2data2_w3.txt\")"
   ]
  },
  {
   "cell_type": "markdown",
   "metadata": {},
   "source": [
    "#### View the variables\n",
    "\n",
    "The code below prints the first five values of `X_train` and `y_train` and the type of the variables.\n"
   ]
  },
  {
   "cell_type": "code",
   "execution_count": 23,
   "metadata": {},
   "outputs": [
    {
     "name": "stdout",
     "output_type": "stream",
     "text": [
      "X_train: [[ 0.051267  0.69956 ]\n",
      " [-0.092742  0.68494 ]\n",
      " [-0.21371   0.69225 ]\n",
      " [-0.375     0.50219 ]\n",
      " [-0.51325   0.46564 ]]\n",
      "Type of X_train: <class 'numpy.ndarray'>\n",
      "y_train: [1. 1. 1. 1. 1.]\n",
      "Type of y_train: <class 'numpy.ndarray'>\n"
     ]
    }
   ],
   "source": [
    "# print X_train\n",
    "print(\"X_train:\", X_train[:5])\n",
    "print(\"Type of X_train:\",type(X_train))\n",
    "\n",
    "# print y_train\n",
    "print(\"y_train:\", y_train[:5])\n",
    "print(\"Type of y_train:\",type(y_train))"
   ]
  },
  {
   "cell_type": "markdown",
   "metadata": {},
   "source": [
    "#### Check the dimensions of your variables\n",
    "\n",
    "Another useful way to get familiar with your data is to view its dimensions. Let's print the shape of `X_train` and `y_train` and see how many training examples we have in our dataset."
   ]
  },
  {
   "cell_type": "code",
   "execution_count": 24,
   "metadata": {},
   "outputs": [
    {
     "name": "stdout",
     "output_type": "stream",
     "text": [
      "The shape of X_train is: (118, 2)\n",
      "The shape of y_train is: (118,)\n",
      "We have m = 118 training examples\n"
     ]
    }
   ],
   "source": [
    "print ('The shape of X_train is: ' + str(X_train.shape))\n",
    "print ('The shape of y_train is: ' + str(y_train.shape))\n",
    "print ('We have m = %d training examples' % (len(y_train)))"
   ]
  },
  {
   "cell_type": "markdown",
   "metadata": {},
   "source": [
    "#### Visualize your data\n",
    "\n",
    "The helper function `plot_data` (from `utils.py`) is used to generate a figure like Figure 3, where the axes are the two test scores, and the positive (y = 1, accepted) and negative (y = 0, rejected) examples are shown with different markers.\n",
    "\n",
    "<img src=\"./figure 3.png\"  width=\"450\" height=\"450\">"
   ]
  },
  {
   "cell_type": "code",
   "execution_count": 25,
   "metadata": {},
   "outputs": [
    {
     "data": {
      "image/png": "[encoded data removed]",
      "image/svg+xml": "<?xml version=\"1.0\" encoding=\"utf-8\" standalone=\"no\"?>\n<!DOCTYPE svg PUBLIC \"-//W3C//DTD SVG 1.1//EN\"\n  \"http://www.w3.org/Graphics/SVG/1.1/DTD/svg11.dtd\">\n<svg xmlns:xlink=\"http://www.w3.org/1999/xlink\" width=\"507.194062pt\" height=\"343.617812pt\" viewBox=\"0 0 507.194062 343.617812\" xmlns=\"http://www.w3.org/2000/svg\" version=\"1.1\">\n <metadata>\n  <rdf:RDF xmlns:dc=\"http://purl.org/dc/elements/1.1/\" xmlns:cc=\"http://creativecommons.org/ns#\" xmlns:rdf=\"http://www.w3.org/1999/02/22-rdf-syntax-ns#\">\n   <cc:Work>\n    <dc:type rdf:resource=\"http://purl.org/dc/dcmitype/StillImage\"/>\n    <dc:date>2022-08-01T08:40:08.156632</dc:date>\n    <dc:format>image/svg+xml</dc:format>\n    <dc:creator>\n     <cc:Agent>\n      <dc:title>Matplotlib v3.5.2, https://matplotlib.org/</dc:title>\n     </cc:Agent>\n    </dc:creator>\n   </cc:Work>\n  </rdf:RDF>\n </metadata>\n <defs>\n  <style type=\"text/css\">*{stroke-linejoin: round; stroke-linecap: butt}</style>\n </defs>\n <g id=\"figure_1\">\n  <g id=\"patch_1\">\n   <path d=\"M 0 343.617812 \nL 507.194062 343.617812 \nL 507.194062 0 \nL 0 0 \nz\n\" style=\"fill: #ffffff\"/>\n  </g>\n  <g id=\"axes_1\">\n   <g id=\"patch_2\">\n    <path d=\"M 53.594063 306.18 \nL 499.994062 306.18 \nL 499.994062 7.2 \nL 53.594063 7.2 \nz\n\" style=\"fill: #eaeaf2\"/>\n   </g>\n   <g id=\"matplotlib.axis_1\">\n    <g id=\"xtick_1\">\n     <g id=\"line2d_1\">\n      <path d=\"M 90.978278 306.18 \nL 90.978278 7.2 \n\" clip-path=\"url(#p94b523e17a)\" style=\"fill: none; stroke: #ffffff; stroke-linecap: round\"/>\n     </g>\n     <g id=\"line2d_2\"/>\n     <g id=\"text_1\">\n      <!-- −0.75 -->\n      <g style=\"fill: #262626\" transform=\"translate(78.327496 320.337812)scale(0.1 -0.1)\">\n       <defs>\n        <path id=\"ArialMT-2212\" d=\"M 3381 1997 \nL 356 1997 \nL 356 2522 \nL 3381 2522 \nL 3381 1997 \nz\n\" transform=\"scale(0.015625)\"/>\n        <path id=\"ArialMT-30\" d=\"M 266 2259 \nQ 266 3072 433 3567 \nQ 600 4063 929 4331 \nQ 1259 4600 1759 4600 \nQ 2128 4600 2406 4451 \nQ 2684 4303 2865 4023 \nQ 3047 3744 3150 3342 \nQ 3253 2941 3253 2259 \nQ 3253 1453 3087 958 \nQ 2922 463 2592 192 \nQ 2263 -78 1759 -78 \nQ 1097 -78 719 397 \nQ 266 969 266 2259 \nz\nM 844 2259 \nQ 844 1131 1108 757 \nQ 1372 384 1759 384 \nQ 2147 384 2411 759 \nQ 2675 1134 2675 2259 \nQ 2675 3391 2411 3762 \nQ 2147 4134 1753 4134 \nQ 1366 4134 1134 3806 \nQ 844 3388 844 2259 \nz\n\" transform=\"scale(0.015625)\"/>\n        <path id=\"ArialMT-2e\" d=\"M 581 0 \nL 581 641 \nL 1222 641 \nL 1222 0 \nL 581 0 \nz\n\" transform=\"scale(0.015625)\"/>\n        <path id=\"ArialMT-37\" d=\"M 303 3981 \nL 303 4522 \nL 3269 4522 \nL 3269 4084 \nQ 2831 3619 2401 2847 \nQ 1972 2075 1738 1259 \nQ 1569 684 1522 0 \nL 944 0 \nQ 953 541 1156 1306 \nQ 1359 2072 1739 2783 \nQ 2119 3494 2547 3981 \nL 303 3981 \nz\n\" transform=\"scale(0.015625)\"/>\n        <path id=\"ArialMT-35\" d=\"M 266 1200 \nL 856 1250 \nQ 922 819 1161 601 \nQ 1400 384 1738 384 \nQ 2144 384 2425 690 \nQ 2706 997 2706 1503 \nQ 2706 1984 2436 2262 \nQ 2166 2541 1728 2541 \nQ 1456 2541 1237 2417 \nQ 1019 2294 894 2097 \nL 366 2166 \nL 809 4519 \nL 3088 4519 \nL 3088 3981 \nL 1259 3981 \nL 1013 2750 \nQ 1425 3038 1878 3038 \nQ 2478 3038 2890 2622 \nQ 3303 2206 3303 1553 \nQ 3303 931 2941 478 \nQ 2500 -78 1738 -78 \nQ 1113 -78 717 272 \nQ 322 622 266 1200 \nz\n\" transform=\"scale(0.015625)\"/>\n       </defs>\n       <use xlink:href=\"#ArialMT-2212\"/>\n       <use xlink:href=\"#ArialMT-30\" x=\"58.398438\"/>\n       <use xlink:href=\"#ArialMT-2e\" x=\"114.013672\"/>\n       <use xlink:href=\"#ArialMT-37\" x=\"141.796875\"/>\n       <use xlink:href=\"#ArialMT-35\" x=\"197.412109\"/>\n      </g>\n     </g>\n    </g>\n    <g id=\"xtick_2\">\n     <g id=\"line2d_3\">\n      <path d=\"M 144.34816 306.18 \nL 144.34816 7.2 \n\" clip-path=\"url(#p94b523e17a)\" style=\"fill: none; stroke: #ffffff; stroke-linecap: round\"/>\n     </g>\n     <g id=\"line2d_4\"/>\n     <g id=\"text_2\">\n      <!-- −0.50 -->\n      <g style=\"fill: #262626\" transform=\"translate(131.697379 320.337812)scale(0.1 -0.1)\">\n       <use xlink:href=\"#ArialMT-2212\"/>\n       <use xlink:href=\"#ArialMT-30\" x=\"58.398438\"/>\n       <use xlink:href=\"#ArialMT-2e\" x=\"114.013672\"/>\n       <use xlink:href=\"#ArialMT-35\" x=\"141.796875\"/>\n       <use xlink:href=\"#ArialMT-30\" x=\"197.412109\"/>\n      </g>\n     </g>\n    </g>\n    <g id=\"xtick_3\">\n     <g id=\"line2d_5\">\n      <path d=\"M 197.718042 306.18 \nL 197.718042 7.2 \n\" clip-path=\"url(#p94b523e17a)\" style=\"fill: none; stroke: #ffffff; stroke-linecap: round\"/>\n     </g>\n     <g id=\"line2d_6\"/>\n     <g id=\"text_3\">\n      <!-- −0.25 -->\n      <g style=\"fill: #262626\" transform=\"translate(185.067261 320.337812)scale(0.1 -0.1)\">\n       <defs>\n        <path id=\"ArialMT-32\" d=\"M 3222 541 \nL 3222 0 \nL 194 0 \nQ 188 203 259 391 \nQ 375 700 629 1000 \nQ 884 1300 1366 1694 \nQ 2113 2306 2375 2664 \nQ 2638 3022 2638 3341 \nQ 2638 3675 2398 3904 \nQ 2159 4134 1775 4134 \nQ 1369 4134 1125 3890 \nQ 881 3647 878 3216 \nL 300 3275 \nQ 359 3922 746 4261 \nQ 1134 4600 1788 4600 \nQ 2447 4600 2831 4234 \nQ 3216 3869 3216 3328 \nQ 3216 3053 3103 2787 \nQ 2991 2522 2730 2228 \nQ 2469 1934 1863 1422 \nQ 1356 997 1212 845 \nQ 1069 694 975 541 \nL 3222 541 \nz\n\" transform=\"scale(0.015625)\"/>\n       </defs>\n       <use xlink:href=\"#ArialMT-2212\"/>\n       <use xlink:href=\"#ArialMT-30\" x=\"58.398438\"/>\n       <use xlink:href=\"#ArialMT-2e\" x=\"114.013672\"/>\n       <use xlink:href=\"#ArialMT-32\" x=\"141.796875\"/>\n       <use xlink:href=\"#ArialMT-35\" x=\"197.412109\"/>\n      </g>\n     </g>\n    </g>\n    <g id=\"xtick_4\">\n     <g id=\"line2d_7\">\n      <path d=\"M 251.087925 306.18 \nL 251.087925 7.2 \n\" clip-path=\"url(#p94b523e17a)\" style=\"fill: none; stroke: #ffffff; stroke-linecap: round\"/>\n     </g>\n     <g id=\"line2d_8\"/>\n     <g id=\"text_4\">\n      <!-- 0.00 -->\n      <g style=\"fill: #262626\" transform=\"translate(241.357456 320.337812)scale(0.1 -0.1)\">\n       <use xlink:href=\"#ArialMT-30\"/>\n       <use xlink:href=\"#ArialMT-2e\" x=\"55.615234\"/>\n       <use xlink:href=\"#ArialMT-30\" x=\"83.398438\"/>\n       <use xlink:href=\"#ArialMT-30\" x=\"139.013672\"/>\n      </g>\n     </g>\n    </g>\n    <g id=\"xtick_5\">\n     <g id=\"line2d_9\">\n      <path d=\"M 304.457807 306.18 \nL 304.457807 7.2 \n\" clip-path=\"url(#p94b523e17a)\" style=\"fill: none; stroke: #ffffff; stroke-linecap: round\"/>\n     </g>\n     <g id=\"line2d_10\"/>\n     <g id=\"text_5\">\n      <!-- 0.25 -->\n      <g style=\"fill: #262626\" transform=\"translate(294.727339 320.337812)scale(0.1 -0.1)\">\n       <use xlink:href=\"#ArialMT-30\"/>\n       <use xlink:href=\"#ArialMT-2e\" x=\"55.615234\"/>\n       <use xlink:href=\"#ArialMT-32\" x=\"83.398438\"/>\n       <use xlink:href=\"#ArialMT-35\" x=\"139.013672\"/>\n      </g>\n     </g>\n    </g>\n    <g id=\"xtick_6\">\n     <g id=\"line2d_11\">\n      <path d=\"M 357.82769 306.18 \nL 357.82769 7.2 \n\" clip-path=\"url(#p94b523e17a)\" style=\"fill: none; stroke: #ffffff; stroke-linecap: round\"/>\n     </g>\n     <g id=\"line2d_12\"/>\n     <g id=\"text_6\">\n      <!-- 0.50 -->\n      <g style=\"fill: #262626\" transform=\"translate(348.097221 320.337812)scale(0.1 -0.1)\">\n       <use xlink:href=\"#ArialMT-30\"/>\n       <use xlink:href=\"#ArialMT-2e\" x=\"55.615234\"/>\n       <use xlink:href=\"#ArialMT-35\" x=\"83.398438\"/>\n       <use xlink:href=\"#ArialMT-30\" x=\"139.013672\"/>\n      </g>\n     </g>\n    </g>\n    <g id=\"xtick_7\">\n     <g id=\"line2d_13\">\n      <path d=\"M 411.197572 306.18 \nL 411.197572 7.2 \n\" clip-path=\"url(#p94b523e17a)\" style=\"fill: none; stroke: #ffffff; stroke-linecap: round\"/>\n     </g>\n     <g id=\"line2d_14\"/>\n     <g id=\"text_7\">\n      <!-- 0.75 -->\n      <g style=\"fill: #262626\" transform=\"translate(401.467104 320.337812)scale(0.1 -0.1)\">\n       <use xlink:href=\"#ArialMT-30\"/>\n       <use xlink:href=\"#ArialMT-2e\" x=\"55.615234\"/>\n       <use xlink:href=\"#ArialMT-37\" x=\"83.398438\"/>\n       <use xlink:href=\"#ArialMT-35\" x=\"139.013672\"/>\n      </g>\n     </g>\n    </g>\n    <g id=\"xtick_8\">\n     <g id=\"line2d_15\">\n      <path d=\"M 464.567455 306.18 \nL 464.567455 7.2 \n\" clip-path=\"url(#p94b523e17a)\" style=\"fill: none; stroke: #ffffff; stroke-linecap: round\"/>\n     </g>\n     <g id=\"line2d_16\"/>\n     <g id=\"text_8\">\n      <!-- 1.00 -->\n      <g style=\"fill: #262626\" transform=\"translate(454.836986 320.337812)scale(0.1 -0.1)\">\n       <defs>\n        <path id=\"ArialMT-31\" d=\"M 2384 0 \nL 1822 0 \nL 1822 3584 \nQ 1619 3391 1289 3197 \nQ 959 3003 697 2906 \nL 697 3450 \nQ 1169 3672 1522 3987 \nQ 1875 4303 2022 4600 \nL 2384 4600 \nL 2384 0 \nz\n\" transform=\"scale(0.015625)\"/>\n       </defs>\n       <use xlink:href=\"#ArialMT-31\"/>\n       <use xlink:href=\"#ArialMT-2e\" x=\"55.615234\"/>\n       <use xlink:href=\"#ArialMT-30\" x=\"83.398438\"/>\n       <use xlink:href=\"#ArialMT-30\" x=\"139.013672\"/>\n      </g>\n     </g>\n    </g>\n    <g id=\"text_9\">\n     <!-- Microchip Test 1 -->\n     <g style=\"fill: #262626\" transform=\"translate(237.159687 334.231562)scale(0.11 -0.11)\">\n      <defs>\n       <path id=\"ArialMT-4d\" d=\"M 475 0 \nL 475 4581 \nL 1388 4581 \nL 2472 1338 \nQ 2622 884 2691 659 \nQ 2769 909 2934 1394 \nL 4031 4581 \nL 4847 4581 \nL 4847 0 \nL 4263 0 \nL 4263 3834 \nL 2931 0 \nL 2384 0 \nL 1059 3900 \nL 1059 0 \nL 475 0 \nz\n\" transform=\"scale(0.015625)\"/>\n       <path id=\"ArialMT-69\" d=\"M 425 3934 \nL 425 4581 \nL 988 4581 \nL 988 3934 \nL 425 3934 \nz\nM 425 0 \nL 425 3319 \nL 988 3319 \nL 988 0 \nL 425 0 \nz\n\" transform=\"scale(0.015625)\"/>\n       <path id=\"ArialMT-63\" d=\"M 2588 1216 \nL 3141 1144 \nQ 3050 572 2676 248 \nQ 2303 -75 1759 -75 \nQ 1078 -75 664 370 \nQ 250 816 250 1647 \nQ 250 2184 428 2587 \nQ 606 2991 970 3192 \nQ 1334 3394 1763 3394 \nQ 2303 3394 2647 3120 \nQ 2991 2847 3088 2344 \nL 2541 2259 \nQ 2463 2594 2264 2762 \nQ 2066 2931 1784 2931 \nQ 1359 2931 1093 2626 \nQ 828 2322 828 1663 \nQ 828 994 1084 691 \nQ 1341 388 1753 388 \nQ 2084 388 2306 591 \nQ 2528 794 2588 1216 \nz\n\" transform=\"scale(0.015625)\"/>\n       <path id=\"ArialMT-72\" d=\"M 416 0 \nL 416 3319 \nL 922 3319 \nL 922 2816 \nQ 1116 3169 1280 3281 \nQ 1444 3394 1641 3394 \nQ 1925 3394 2219 3213 \nL 2025 2691 \nQ 1819 2813 1613 2813 \nQ 1428 2813 1281 2702 \nQ 1134 2591 1072 2394 \nQ 978 2094 978 1738 \nL 978 0 \nL 416 0 \nz\n\" transform=\"scale(0.015625)\"/>\n       <path id=\"ArialMT-6f\" d=\"M 213 1659 \nQ 213 2581 725 3025 \nQ 1153 3394 1769 3394 \nQ 2453 3394 2887 2945 \nQ 3322 2497 3322 1706 \nQ 3322 1066 3130 698 \nQ 2938 331 2570 128 \nQ 2203 -75 1769 -75 \nQ 1072 -75 642 372 \nQ 213 819 213 1659 \nz\nM 791 1659 \nQ 791 1022 1069 705 \nQ 1347 388 1769 388 \nQ 2188 388 2466 706 \nQ 2744 1025 2744 1678 \nQ 2744 2294 2464 2611 \nQ 2184 2928 1769 2928 \nQ 1347 2928 1069 2612 \nQ 791 2297 791 1659 \nz\n\" transform=\"scale(0.015625)\"/>\n       <path id=\"ArialMT-68\" d=\"M 422 0 \nL 422 4581 \nL 984 4581 \nL 984 2938 \nQ 1378 3394 1978 3394 \nQ 2347 3394 2619 3248 \nQ 2891 3103 3008 2847 \nQ 3125 2591 3125 2103 \nL 3125 0 \nL 2563 0 \nL 2563 2103 \nQ 2563 2525 2380 2717 \nQ 2197 2909 1863 2909 \nQ 1613 2909 1392 2779 \nQ 1172 2650 1078 2428 \nQ 984 2206 984 1816 \nL 984 0 \nL 422 0 \nz\n\" transform=\"scale(0.015625)\"/>\n       <path id=\"ArialMT-70\" d=\"M 422 -1272 \nL 422 3319 \nL 934 3319 \nL 934 2888 \nQ 1116 3141 1344 3267 \nQ 1572 3394 1897 3394 \nQ 2322 3394 2647 3175 \nQ 2972 2956 3137 2557 \nQ 3303 2159 3303 1684 \nQ 3303 1175 3120 767 \nQ 2938 359 2589 142 \nQ 2241 -75 1856 -75 \nQ 1575 -75 1351 44 \nQ 1128 163 984 344 \nL 984 -1272 \nL 422 -1272 \nz\nM 931 1641 \nQ 931 1000 1190 694 \nQ 1450 388 1819 388 \nQ 2194 388 2461 705 \nQ 2728 1022 2728 1688 \nQ 2728 2322 2467 2637 \nQ 2206 2953 1844 2953 \nQ 1484 2953 1207 2617 \nQ 931 2281 931 1641 \nz\n\" transform=\"scale(0.015625)\"/>\n       <path id=\"ArialMT-20\" transform=\"scale(0.015625)\"/>\n       <path id=\"ArialMT-54\" d=\"M 1659 0 \nL 1659 4041 \nL 150 4041 \nL 150 4581 \nL 3781 4581 \nL 3781 4041 \nL 2266 4041 \nL 2266 0 \nL 1659 0 \nz\n\" transform=\"scale(0.015625)\"/>\n       <path id=\"ArialMT-65\" d=\"M 2694 1069 \nL 3275 997 \nQ 3138 488 2766 206 \nQ 2394 -75 1816 -75 \nQ 1088 -75 661 373 \nQ 234 822 234 1631 \nQ 234 2469 665 2931 \nQ 1097 3394 1784 3394 \nQ 2450 3394 2872 2941 \nQ 3294 2488 3294 1666 \nQ 3294 1616 3291 1516 \nL 816 1516 \nQ 847 969 1125 678 \nQ 1403 388 1819 388 \nQ 2128 388 2347 550 \nQ 2566 713 2694 1069 \nz\nM 847 1978 \nL 2700 1978 \nQ 2663 2397 2488 2606 \nQ 2219 2931 1791 2931 \nQ 1403 2931 1139 2672 \nQ 875 2413 847 1978 \nz\n\" transform=\"scale(0.015625)\"/>\n       <path id=\"ArialMT-73\" d=\"M 197 991 \nL 753 1078 \nQ 800 744 1014 566 \nQ 1228 388 1613 388 \nQ 2000 388 2187 545 \nQ 2375 703 2375 916 \nQ 2375 1106 2209 1216 \nQ 2094 1291 1634 1406 \nQ 1016 1563 777 1677 \nQ 538 1791 414 1992 \nQ 291 2194 291 2438 \nQ 291 2659 392 2848 \nQ 494 3038 669 3163 \nQ 800 3259 1026 3326 \nQ 1253 3394 1513 3394 \nQ 1903 3394 2198 3281 \nQ 2494 3169 2634 2976 \nQ 2775 2784 2828 2463 \nL 2278 2388 \nQ 2241 2644 2061 2787 \nQ 1881 2931 1553 2931 \nQ 1166 2931 1000 2803 \nQ 834 2675 834 2503 \nQ 834 2394 903 2306 \nQ 972 2216 1119 2156 \nQ 1203 2125 1616 2013 \nQ 2213 1853 2448 1751 \nQ 2684 1650 2818 1456 \nQ 2953 1263 2953 975 \nQ 2953 694 2789 445 \nQ 2625 197 2315 61 \nQ 2006 -75 1616 -75 \nQ 969 -75 630 194 \nQ 291 463 197 991 \nz\n\" transform=\"scale(0.015625)\"/>\n       <path id=\"ArialMT-74\" d=\"M 1650 503 \nL 1731 6 \nQ 1494 -44 1306 -44 \nQ 1000 -44 831 53 \nQ 663 150 594 308 \nQ 525 466 525 972 \nL 525 2881 \nL 113 2881 \nL 113 3319 \nL 525 3319 \nL 525 4141 \nL 1084 4478 \nL 1084 3319 \nL 1650 3319 \nL 1650 2881 \nL 1084 2881 \nL 1084 941 \nQ 1084 700 1114 631 \nQ 1144 563 1211 522 \nQ 1278 481 1403 481 \nQ 1497 481 1650 503 \nz\n\" transform=\"scale(0.015625)\"/>\n      </defs>\n      <use xlink:href=\"#ArialMT-4d\"/>\n      <use xlink:href=\"#ArialMT-69\" x=\"83.300781\"/>\n      <use xlink:href=\"#ArialMT-63\" x=\"105.517578\"/>\n      <use xlink:href=\"#ArialMT-72\" x=\"155.517578\"/>\n      <use xlink:href=\"#ArialMT-6f\" x=\"188.818359\"/>\n      <use xlink:href=\"#ArialMT-63\" x=\"244.433594\"/>\n      <use xlink:href=\"#ArialMT-68\" x=\"294.433594\"/>\n      <use xlink:href=\"#ArialMT-69\" x=\"350.048828\"/>\n      <use xlink:href=\"#ArialMT-70\" x=\"372.265625\"/>\n      <use xlink:href=\"#ArialMT-20\" x=\"427.880859\"/>\n      <use xlink:href=\"#ArialMT-54\" x=\"453.914062\"/>\n      <use xlink:href=\"#ArialMT-65\" x=\"503.873047\"/>\n      <use xlink:href=\"#ArialMT-73\" x=\"559.488281\"/>\n      <use xlink:href=\"#ArialMT-74\" x=\"609.488281\"/>\n      <use xlink:href=\"#ArialMT-20\" x=\"637.271484\"/>\n      <use xlink:href=\"#ArialMT-31\" x=\"665.054688\"/>\n     </g>\n    </g>\n   </g>\n   <g id=\"matplotlib.axis_2\">\n    <g id=\"ytick_1\">\n     <g id=\"line2d_17\">\n      <path d=\"M 53.594063 289.734034 \nL 499.994062 289.734034 \n\" clip-path=\"url(#p94b523e17a)\" style=\"fill: none; stroke: #ffffff; stroke-linecap: round\"/>\n     </g>\n     <g id=\"line2d_18\"/>\n     <g id=\"text_10\">\n      <!-- −0.75 -->\n      <g style=\"fill: #262626\" transform=\"translate(21.2925 293.31294)scale(0.1 -0.1)\">\n       <use xlink:href=\"#ArialMT-2212\"/>\n       <use xlink:href=\"#ArialMT-30\" x=\"58.398438\"/>\n       <use xlink:href=\"#ArialMT-2e\" x=\"114.013672\"/>\n       <use xlink:href=\"#ArialMT-37\" x=\"141.796875\"/>\n       <use xlink:href=\"#ArialMT-35\" x=\"197.412109\"/>\n      </g>\n     </g>\n    </g>\n    <g id=\"ytick_2\">\n     <g id=\"line2d_19\">\n      <path d=\"M 53.594063 253.564252 \nL 499.994062 253.564252 \n\" clip-path=\"url(#p94b523e17a)\" style=\"fill: none; stroke: #ffffff; stroke-linecap: round\"/>\n     </g>\n     <g id=\"line2d_20\"/>\n     <g id=\"text_11\">\n      <!-- −0.50 -->\n      <g style=\"fill: #262626\" transform=\"translate(21.2925 257.143158)scale(0.1 -0.1)\">\n       <use xlink:href=\"#ArialMT-2212\"/>\n       <use xlink:href=\"#ArialMT-30\" x=\"58.398438\"/>\n       <use xlink:href=\"#ArialMT-2e\" x=\"114.013672\"/>\n       <use xlink:href=\"#ArialMT-35\" x=\"141.796875\"/>\n       <use xlink:href=\"#ArialMT-30\" x=\"197.412109\"/>\n      </g>\n     </g>\n    </g>\n    <g id=\"ytick_3\">\n     <g id=\"line2d_21\">\n      <path d=\"M 53.594063 217.394469 \nL 499.994062 217.394469 \n\" clip-path=\"url(#p94b523e17a)\" style=\"fill: none; stroke: #ffffff; stroke-linecap: round\"/>\n     </g>\n     <g id=\"line2d_22\"/>\n     <g id=\"text_12\">\n      <!-- −0.25 -->\n      <g style=\"fill: #262626\" transform=\"translate(21.2925 220.973375)scale(0.1 -0.1)\">\n       <use xlink:href=\"#ArialMT-2212\"/>\n       <use xlink:href=\"#ArialMT-30\" x=\"58.398438\"/>\n       <use xlink:href=\"#ArialMT-2e\" x=\"114.013672\"/>\n       <use xlink:href=\"#ArialMT-32\" x=\"141.796875\"/>\n       <use xlink:href=\"#ArialMT-35\" x=\"197.412109\"/>\n      </g>\n     </g>\n    </g>\n    <g id=\"ytick_4\">\n     <g id=\"line2d_23\">\n      <path d=\"M 53.594063 181.224687 \nL 499.994062 181.224687 \n\" clip-path=\"url(#p94b523e17a)\" style=\"fill: none; stroke: #ffffff; stroke-linecap: round\"/>\n     </g>\n     <g id=\"line2d_24\"/>\n     <g id=\"text_13\">\n      <!-- 0.00 -->\n      <g style=\"fill: #262626\" transform=\"translate(27.133125 184.803593)scale(0.1 -0.1)\">\n       <use xlink:href=\"#ArialMT-30\"/>\n       <use xlink:href=\"#ArialMT-2e\" x=\"55.615234\"/>\n       <use xlink:href=\"#ArialMT-30\" x=\"83.398438\"/>\n       <use xlink:href=\"#ArialMT-30\" x=\"139.013672\"/>\n      </g>\n     </g>\n    </g>\n    <g id=\"ytick_5\">\n     <g id=\"line2d_25\">\n      <path d=\"M 53.594063 145.054904 \nL 499.994062 145.054904 \n\" clip-path=\"url(#p94b523e17a)\" style=\"fill: none; stroke: #ffffff; stroke-linecap: round\"/>\n     </g>\n     <g id=\"line2d_26\"/>\n     <g id=\"text_14\">\n      <!-- 0.25 -->\n      <g style=\"fill: #262626\" transform=\"translate(27.133125 148.633811)scale(0.1 -0.1)\">\n       <use xlink:href=\"#ArialMT-30\"/>\n       <use xlink:href=\"#ArialMT-2e\" x=\"55.615234\"/>\n       <use xlink:href=\"#ArialMT-32\" x=\"83.398438\"/>\n       <use xlink:href=\"#ArialMT-35\" x=\"139.013672\"/>\n      </g>\n     </g>\n    </g>\n    <g id=\"ytick_6\">\n     <g id=\"line2d_27\">\n      <path d=\"M 53.594063 108.885122 \nL 499.994062 108.885122 \n\" clip-path=\"url(#p94b523e17a)\" style=\"fill: none; stroke: #ffffff; stroke-linecap: round\"/>\n     </g>\n     <g id=\"line2d_28\"/>\n     <g id=\"text_15\">\n      <!-- 0.50 -->\n      <g style=\"fill: #262626\" transform=\"translate(27.133125 112.464028)scale(0.1 -0.1)\">\n       <use xlink:href=\"#ArialMT-30\"/>\n       <use xlink:href=\"#ArialMT-2e\" x=\"55.615234\"/>\n       <use xlink:href=\"#ArialMT-35\" x=\"83.398438\"/>\n       <use xlink:href=\"#ArialMT-30\" x=\"139.013672\"/>\n      </g>\n     </g>\n    </g>\n    <g id=\"ytick_7\">\n     <g id=\"line2d_29\">\n      <path d=\"M 53.594063 72.71534 \nL 499.994062 72.71534 \n\" clip-path=\"url(#p94b523e17a)\" style=\"fill: none; stroke: #ffffff; stroke-linecap: round\"/>\n     </g>\n     <g id=\"line2d_30\"/>\n     <g id=\"text_16\">\n      <!-- 0.75 -->\n      <g style=\"fill: #262626\" transform=\"translate(27.133125 76.294246)scale(0.1 -0.1)\">\n       <use xlink:href=\"#ArialMT-30\"/>\n       <use xlink:href=\"#ArialMT-2e\" x=\"55.615234\"/>\n       <use xlink:href=\"#ArialMT-37\" x=\"83.398438\"/>\n       <use xlink:href=\"#ArialMT-35\" x=\"139.013672\"/>\n      </g>\n     </g>\n    </g>\n    <g id=\"ytick_8\">\n     <g id=\"line2d_31\">\n      <path d=\"M 53.594063 36.545557 \nL 499.994062 36.545557 \n\" clip-path=\"url(#p94b523e17a)\" style=\"fill: none; stroke: #ffffff; stroke-linecap: round\"/>\n     </g>\n     <g id=\"line2d_32\"/>\n     <g id=\"text_17\">\n      <!-- 1.00 -->\n      <g style=\"fill: #262626\" transform=\"translate(27.133125 40.124463)scale(0.1 -0.1)\">\n       <use xlink:href=\"#ArialMT-31\"/>\n       <use xlink:href=\"#ArialMT-2e\" x=\"55.615234\"/>\n       <use xlink:href=\"#ArialMT-30\" x=\"83.398438\"/>\n       <use xlink:href=\"#ArialMT-30\" x=\"139.013672\"/>\n      </g>\n     </g>\n    </g>\n    <g id=\"text_18\">\n     <!-- Microchip Test 2 -->\n     <g style=\"fill: #262626\" transform=\"translate(15.10625 196.324375)rotate(-90)scale(0.11 -0.11)\">\n      <use xlink:href=\"#ArialMT-4d\"/>\n      <use xlink:href=\"#ArialMT-69\" x=\"83.300781\"/>\n      <use xlink:href=\"#ArialMT-63\" x=\"105.517578\"/>\n      <use xlink:href=\"#ArialMT-72\" x=\"155.517578\"/>\n      <use xlink:href=\"#ArialMT-6f\" x=\"188.818359\"/>\n      <use xlink:href=\"#ArialMT-63\" x=\"244.433594\"/>\n      <use xlink:href=\"#ArialMT-68\" x=\"294.433594\"/>\n      <use xlink:href=\"#ArialMT-69\" x=\"350.048828\"/>\n      <use xlink:href=\"#ArialMT-70\" x=\"372.265625\"/>\n      <use xlink:href=\"#ArialMT-20\" x=\"427.880859\"/>\n      <use xlink:href=\"#ArialMT-54\" x=\"453.914062\"/>\n      <use xlink:href=\"#ArialMT-65\" x=\"503.873047\"/>\n      <use xlink:href=\"#ArialMT-73\" x=\"559.488281\"/>\n      <use xlink:href=\"#ArialMT-74\" x=\"609.488281\"/>\n      <use xlink:href=\"#ArialMT-20\" x=\"637.271484\"/>\n      <use xlink:href=\"#ArialMT-32\" x=\"665.054688\"/>\n     </g>\n    </g>\n   </g>\n   <g id=\"line2d_33\">\n    <defs>\n     <path id=\"m2c9019b627\" d=\"M -3.5 0 \nL 3.5 0 \nM 0 3.5 \nL 0 -3.5 \n\"/>\n    </defs>\n    <g clip-path=\"url(#p94b523e17a)\">\n     <use xlink:href=\"#m2c9019b627\" x=\"262.03238\" y=\"80.012955\"/>\n     <use xlink:href=\"#m2c9019b627\" x=\"231.289406\" y=\"82.128164\"/>\n     <use xlink:href=\"#m2c9019b627\" x=\"205.465215\" y=\"81.070559\"/>\n     <use xlink:href=\"#m2c9019b627\" x=\"171.033101\" y=\"108.568275\"/>\n     <use xlink:href=\"#m2c9019b627\" x=\"141.519556\" y=\"113.856297\"/>\n     <use xlink:href=\"#m2c9019b627\" x=\"139.060272\" y=\"150.871005\"/>\n     <use xlink:href=\"#m2c9019b627\" x=\"166.114533\" y=\"176.253946\"/>\n     <use xlink:href=\"#m2c9019b627\" x=\"185.788806\" y=\"209.039249\"/>\n     <use xlink:href=\"#m2c9019b627\" x=\"254.6541\" y=\"239.709778\"/>\n     <use xlink:href=\"#m2c9019b627\" x=\"279.24801\" y=\"255.573845\"/>\n     <use xlink:href=\"#m2c9019b627\" x=\"333.356531\" y=\"262.977076\"/>\n     <use xlink:href=\"#m2c9019b627\" x=\"364.099718\" y=\"256.631449\"/>\n     <use xlink:href=\"#m2c9019b627\" x=\"387.462918\" y=\"216.442481\"/>\n     <use xlink:href=\"#m2c9019b627\" x=\"408.368969\" y=\"207.981645\"/>\n     <use xlink:href=\"#m2c9019b627\" x=\"367.788645\" y=\"110.683484\"/>\n     <use xlink:href=\"#m2c9019b627\" x=\"319.828334\" y=\"96.934626\"/>\n     <use xlink:href=\"#m2c9019b627\" x=\"286.625862\" y=\"103.280253\"/>\n     <use xlink:href=\"#m2c9019b627\" x=\"241.127184\" y=\"63.091284\"/>\n     <use xlink:href=\"#m2c9019b627\" x=\"214.072709\" y=\"80.012955\"/>\n     <use xlink:href=\"#m2c9019b627\" x=\"148.897409\" y=\"89.531395\"/>\n     <use xlink:href=\"#m2c9019b627\" x=\"121.845283\" y=\"94.819417\"/>\n     <use xlink:href=\"#m2c9019b627\" x=\"116.92458\" y=\"132.893177\"/>\n     <use xlink:href=\"#m2c9019b627\" x=\"124.304567\" y=\"180.484364\"/>\n     <use xlink:href=\"#m2c9019b627\" x=\"161.195964\" y=\"220.672898\"/>\n     <use xlink:href=\"#m2c9019b627\" x=\"226.371265\" y=\"238.652174\"/>\n     <use xlink:href=\"#m2c9019b627\" x=\"294.00585\" y=\"268.265098\"/>\n     <use xlink:href=\"#m2c9019b627\" x=\"350.571521\" y=\"258.746658\"/>\n     <use xlink:href=\"#m2c9019b627\" x=\"394.842906\" y=\"258.746658\"/>\n     <use xlink:href=\"#m2c9019b627\" x=\"221.452697\" y=\"102.222648\"/>\n     <use xlink:href=\"#m2c9019b627\" x=\"188.250225\" y=\"68.379306\"/>\n     <use xlink:href=\"#m2c9019b627\" x=\"194.398436\" y=\"41.939195\"/>\n     <use xlink:href=\"#m2c9019b627\" x=\"216.531993\" y=\"65.206493\"/>\n     <use xlink:href=\"#m2c9019b627\" x=\"214.072709\" y=\"87.416186\"/>\n     <use xlink:href=\"#m2c9019b627\" x=\"190.709509\" y=\"112.798692\"/>\n     <use xlink:href=\"#m2c9019b627\" x=\"173.492385\" y=\"136.06599\"/>\n     <use xlink:href=\"#m2c9019b627\" x=\"187.018448\" y=\"177.31155\"/>\n     <use xlink:href=\"#m2c9019b627\" x=\"200.546646\" y=\"212.212063\"/>\n     <use xlink:href=\"#m2c9019b627\" x=\"237.438044\" y=\"207.981645\"/>\n     <use xlink:href=\"#m2c9019b627\" x=\"264.491878\" y=\"204.808832\"/>\n     <use xlink:href=\"#m2c9019b627\" x=\"300.15406\" y=\"240.767383\"/>\n     <use xlink:href=\"#m2c9019b627\" x=\"313.680123\" y=\"214.327272\"/>\n     <use xlink:href=\"#m2c9019b627\" x=\"354.260447\" y=\"207.981645\"/>\n     <use xlink:href=\"#m2c9019b627\" x=\"388.694695\" y=\"201.636018\"/>\n     <use xlink:href=\"#m2c9019b627\" x=\"349.341879\" y=\"179.426759\"/>\n     <use xlink:href=\"#m2c9019b627\" x=\"385.003634\" y=\"158.274236\"/>\n     <use xlink:href=\"#m2c9019b627\" x=\"373.936855\" y=\"142.411617\"/>\n     <use xlink:href=\"#m2c9019b627\" x=\"405.909684\" y=\"117.02911\"/>\n     <use xlink:href=\"#m2c9019b627\" x=\"298.924418\" y=\"105.395461\"/>\n     <use xlink:href=\"#m2c9019b627\" x=\"345.652952\" y=\"84.243373\"/>\n     <use xlink:href=\"#m2c9019b627\" x=\"319.828334\" y=\"81.070559\"/>\n     <use xlink:href=\"#m2c9019b627\" x=\"280.477652\" y=\"97.99223\"/>\n     <use xlink:href=\"#m2c9019b627\" x=\"249.735233\" y=\"123.374737\"/>\n     <use xlink:href=\"#m2c9019b627\" x=\"231.289406\" y=\"101.165044\"/>\n     <use xlink:href=\"#m2c9019b627\" x=\"206.694857\" y=\"129.720363\"/>\n     <use xlink:href=\"#m2c9019b627\" x=\"206.694857\" y=\"156.159028\"/>\n     <use xlink:href=\"#m2c9019b627\" x=\"157.507038\" y=\"149.813401\"/>\n     <use xlink:href=\"#m2c9019b627\" x=\"204.235573\" y=\"183.657177\"/>\n     <use xlink:href=\"#m2c9019b627\" x=\"221.452697\" y=\"220.672898\"/>\n    </g>\n   </g>\n   <g id=\"line2d_34\">\n    <defs>\n     <path id=\"mb688511f61\" d=\"M 0 3.5 \nC 0.928211 3.5 1.81853 3.131218 2.474874 2.474874 \nC 3.131218 1.81853 3.5 0.928211 3.5 0 \nC 3.5 -0.928211 3.131218 -1.81853 2.474874 -2.474874 \nC 1.81853 -3.131218 0.928211 -3.5 0 -3.5 \nC -0.928211 -3.5 -1.81853 -3.131218 -2.474874 -2.474874 \nC -3.131218 -1.81853 -3.5 -0.928211 -3.5 0 \nC -3.5 0.928211 -3.131218 1.81853 -2.474874 2.474874 \nC -1.81853 3.131218 -0.928211 3.5 0 3.5 \nz\n\"/>\n    </defs>\n    <g clip-path=\"url(#p94b523e17a)\">\n     <use xlink:href=\"#mb688511f61\" x=\"290.316923\" y=\"46.169613\" style=\"fill: #bfbf00\"/>\n     <use xlink:href=\"#mb688511f61\" x=\"298.924418\" y=\"68.379306\" style=\"fill: #bfbf00\"/>\n     <use xlink:href=\"#mb688511f61\" x=\"314.909765\" y=\"91.646604\" style=\"fill: #bfbf00\"/>\n     <use xlink:href=\"#mb688511f61\" x=\"359.18115\" y=\"71.552119\" style=\"fill: #bfbf00\"/>\n     <use xlink:href=\"#mb688511f61\" x=\"382.54435\" y=\"75.782537\" style=\"fill: #bfbf00\"/>\n     <use xlink:href=\"#mb688511f61\" x=\"380.085066\" y=\"94.819417\" style=\"fill: #bfbf00\"/>\n     <use xlink:href=\"#mb688511f61\" x=\"414.517179\" y=\"108.568275\" style=\"fill: #bfbf00\"/>\n     <use xlink:href=\"#mb688511f61\" x=\"448.949292\" y=\"128.662759\" style=\"fill: #bfbf00\"/>\n     <use xlink:href=\"#mb688511f61\" x=\"426.815735\" y=\"141.354012\" style=\"fill: #bfbf00\"/>\n     <use xlink:href=\"#mb688511f61\" x=\"456.32928\" y=\"168.85086\" style=\"fill: #bfbf00\"/>\n     <use xlink:href=\"#mb688511f61\" x=\"451.408577\" y=\"179.426759\" style=\"fill: #bfbf00\"/>\n     <use xlink:href=\"#mb688511f61\" x=\"435.423229\" y=\"193.175472\" style=\"fill: #bfbf00\"/>\n     <use xlink:href=\"#mb688511f61\" x=\"442.801082\" y=\"211.154458\" style=\"fill: #bfbf00\"/>\n     <use xlink:href=\"#mb688511f61\" x=\"432.963945\" y=\"234.421756\" style=\"fill: #bfbf00\"/>\n     <use xlink:href=\"#mb688511f61\" x=\"428.045377\" y=\"256.631449\" style=\"fill: #bfbf00\"/>\n     <use xlink:href=\"#mb688511f61\" x=\"420.665389\" y=\"261.919471\" style=\"fill: #bfbf00\"/>\n     <use xlink:href=\"#mb688511f61\" x=\"377.625781\" y=\"288.359582\" style=\"fill: #bfbf00\"/>\n     <use xlink:href=\"#mb688511f61\" x=\"361.640434\" y=\"267.207494\" style=\"fill: #bfbf00\"/>\n     <use xlink:href=\"#mb688511f61\" x=\"350.571521\" y=\"241.824987\" style=\"fill: #bfbf00\"/>\n     <use xlink:href=\"#mb688511f61\" x=\"325.978679\" y=\"265.092285\" style=\"fill: #bfbf00\"/>\n     <use xlink:href=\"#mb688511f61\" x=\"312.450481\" y=\"292.59\" style=\"fill: #bfbf00\"/>\n     <use xlink:href=\"#mb688511f61\" x=\"269.410659\" y=\"290.474791\" style=\"fill: #bfbf00\"/>\n     <use xlink:href=\"#mb688511f61\" x=\"282.936936\" y=\"265.092285\" style=\"fill: #bfbf00\"/>\n     <use xlink:href=\"#mb688511f61\" x=\"222.682339\" y=\"246.055405\" style=\"fill: #bfbf00\"/>\n     <use xlink:href=\"#mb688511f61\" x=\"163.655249\" y=\"240.767383\" style=\"fill: #bfbf00\"/>\n     <use xlink:href=\"#mb688511f61\" x=\"167.344175\" y=\"218.557689\" style=\"fill: #bfbf00\"/>\n     <use xlink:href=\"#mb688511f61\" x=\"92.331738\" y=\"218.557689\" style=\"fill: #bfbf00\"/>\n     <use xlink:href=\"#mb688511f61\" x=\"102.168874\" y=\"175.196342\" style=\"fill: #bfbf00\"/>\n     <use xlink:href=\"#mb688511f61\" x=\"89.872454\" y=\"139.238803\" style=\"fill: #bfbf00\"/>\n     <use xlink:href=\"#mb688511f61\" x=\"102.168874\" y=\"82.128164\" style=\"fill: #bfbf00\"/>\n     <use xlink:href=\"#mb688511f61\" x=\"164.884891\" y=\"78.95535\" style=\"fill: #bfbf00\"/>\n     <use xlink:href=\"#mb688511f61\" x=\"169.803459\" y=\"48.284822\" style=\"fill: #bfbf00\"/>\n     <use xlink:href=\"#mb688511f61\" x=\"142.749198\" y=\"50.400031\" style=\"fill: #bfbf00\"/>\n     <use xlink:href=\"#mb688511f61\" x=\"134.141704\" y=\"78.95535\" style=\"fill: #bfbf00\"/>\n     <use xlink:href=\"#mb688511f61\" x=\"273.099799\" y=\"68.379306\" style=\"fill: #bfbf00\"/>\n     <use xlink:href=\"#mb688511f61\" x=\"263.262236\" y=\"48.284822\" style=\"fill: #bfbf00\"/>\n     <use xlink:href=\"#mb688511f61\" x=\"228.830549\" y=\"37.708777\" style=\"fill: #bfbf00\"/>\n     <use xlink:href=\"#mb688511f61\" x=\"233.748904\" y=\"20.79\" style=\"fill: #bfbf00\"/>\n     <use xlink:href=\"#mb688511f61\" x=\"312.450481\" y=\"23.958473\" style=\"fill: #bfbf00\"/>\n     <use xlink:href=\"#mb688511f61\" x=\"335.815816\" y=\"62.033679\" style=\"fill: #bfbf00\"/>\n     <use xlink:href=\"#mb688511f61\" x=\"387.462918\" y=\"52.51524\" style=\"fill: #bfbf00\"/>\n     <use xlink:href=\"#mb688511f61\" x=\"426.815735\" y=\"85.300977\" style=\"fill: #bfbf00\"/>\n     <use xlink:href=\"#mb688511f61\" x=\"394.842906\" y=\"88.47379\" style=\"fill: #bfbf00\"/>\n     <use xlink:href=\"#mb688511f61\" x=\"479.703153\" y=\"166.735072\" style=\"fill: #bfbf00\"/>\n     <use xlink:href=\"#mb688511f61\" x=\"241.127184\" y=\"265.092285\" style=\"fill: #bfbf00\"/>\n     <use xlink:href=\"#mb688511f61\" x=\"200.546646\" y=\"273.55312\" style=\"fill: #bfbf00\"/>\n     <use xlink:href=\"#mb688511f61\" x=\"218.991278\" y=\"234.421756\" style=\"fill: #bfbf00\"/>\n     <use xlink:href=\"#mb688511f61\" x=\"146.438125\" y=\"224.903316\" style=\"fill: #bfbf00\"/>\n     <use xlink:href=\"#mb688511f61\" x=\"151.356693\" y=\"200.578414\" style=\"fill: #bfbf00\"/>\n     <use xlink:href=\"#mb688511f61\" x=\"189.479867\" y=\"190.002804\" style=\"fill: #bfbf00\"/>\n     <use xlink:href=\"#mb688511f61\" x=\"120.613506\" y=\"191.060263\" style=\"fill: #bfbf00\"/>\n     <use xlink:href=\"#mb688511f61\" x=\"109.546727\" y=\"212.212063\" style=\"fill: #bfbf00\"/>\n     <use xlink:href=\"#mb688511f61\" x=\"123.074925\" y=\"241.824987\" style=\"fill: #bfbf00\"/>\n     <use xlink:href=\"#mb688511f61\" x=\"96.020664\" y=\"193.175472\" style=\"fill: #bfbf00\"/>\n     <use xlink:href=\"#mb688511f61\" x=\"73.884972\" y=\"136.06599\" style=\"fill: #bfbf00\"/>\n     <use xlink:href=\"#mb688511f61\" x=\"97.250306\" y=\"103.280253\" style=\"fill: #bfbf00\"/>\n     <use xlink:href=\"#mb688511f61\" x=\"124.304567\" y=\"109.625879\" style=\"fill: #bfbf00\"/>\n     <use xlink:href=\"#mb688511f61\" x=\"147.667767\" y=\"36.651173\" style=\"fill: #bfbf00\"/>\n     <use xlink:href=\"#mb688511f61\" x=\"249.735233\" y=\"36.651173\" style=\"fill: #bfbf00\"/>\n     <use xlink:href=\"#mb688511f61\" x=\"386.145749\" y=\"185.653604\" style=\"fill: #bfbf00\"/>\n    </g>\n   </g>\n   <g id=\"patch_3\">\n    <path d=\"M 53.594063 306.18 \nL 53.594063 7.2 \n\" style=\"fill: none\"/>\n   </g>\n   <g id=\"patch_4\">\n    <path d=\"M 499.994062 306.18 \nL 499.994062 7.2 \n\" style=\"fill: none\"/>\n   </g>\n   <g id=\"patch_5\">\n    <path d=\"M 53.594063 306.18 \nL 499.994063 306.18 \n\" style=\"fill: none\"/>\n   </g>\n   <g id=\"patch_6\">\n    <path d=\"M 53.594063 7.2 \nL 499.994063 7.2 \n\" style=\"fill: none\"/>\n   </g>\n   <g id=\"legend_1\">\n    <g id=\"line2d_35\">\n     <g>\n      <use xlink:href=\"#m2c9019b627\" x=\"431.301875\" y=\"19.857812\"/>\n     </g>\n    </g>\n    <g id=\"text_19\">\n     <!-- Accepted -->\n     <g style=\"fill: #262626\" transform=\"translate(449.301875 23.357812)scale(0.1 -0.1)\">\n      <defs>\n       <path id=\"ArialMT-41\" d=\"M -9 0 \nL 1750 4581 \nL 2403 4581 \nL 4278 0 \nL 3588 0 \nL 3053 1388 \nL 1138 1388 \nL 634 0 \nL -9 0 \nz\nM 1313 1881 \nL 2866 1881 \nL 2388 3150 \nQ 2169 3728 2063 4100 \nQ 1975 3659 1816 3225 \nL 1313 1881 \nz\n\" transform=\"scale(0.015625)\"/>\n       <path id=\"ArialMT-64\" d=\"M 2575 0 \nL 2575 419 \nQ 2259 -75 1647 -75 \nQ 1250 -75 917 144 \nQ 584 363 401 755 \nQ 219 1147 219 1656 \nQ 219 2153 384 2558 \nQ 550 2963 881 3178 \nQ 1213 3394 1622 3394 \nQ 1922 3394 2156 3267 \nQ 2391 3141 2538 2938 \nL 2538 4581 \nL 3097 4581 \nL 3097 0 \nL 2575 0 \nz\nM 797 1656 \nQ 797 1019 1065 703 \nQ 1334 388 1700 388 \nQ 2069 388 2326 689 \nQ 2584 991 2584 1609 \nQ 2584 2291 2321 2609 \nQ 2059 2928 1675 2928 \nQ 1300 2928 1048 2622 \nQ 797 2316 797 1656 \nz\n\" transform=\"scale(0.015625)\"/>\n      </defs>\n      <use xlink:href=\"#ArialMT-41\"/>\n      <use xlink:href=\"#ArialMT-63\" x=\"66.699219\"/>\n      <use xlink:href=\"#ArialMT-63\" x=\"116.699219\"/>\n      <use xlink:href=\"#ArialMT-65\" x=\"166.699219\"/>\n      <use xlink:href=\"#ArialMT-70\" x=\"222.314453\"/>\n      <use xlink:href=\"#ArialMT-74\" x=\"277.929688\"/>\n      <use xlink:href=\"#ArialMT-65\" x=\"305.712891\"/>\n      <use xlink:href=\"#ArialMT-64\" x=\"361.328125\"/>\n     </g>\n    </g>\n    <g id=\"line2d_36\">\n     <g>\n      <use xlink:href=\"#mb688511f61\" x=\"431.301875\" y=\"34.003125\" style=\"fill: #bfbf00\"/>\n     </g>\n    </g>\n    <g id=\"text_20\">\n     <!-- Rejected -->\n     <g style=\"fill: #262626\" transform=\"translate(449.301875 37.503125)scale(0.1 -0.1)\">\n      <defs>\n       <path id=\"ArialMT-52\" d=\"M 503 0 \nL 503 4581 \nL 2534 4581 \nQ 3147 4581 3465 4457 \nQ 3784 4334 3975 4021 \nQ 4166 3709 4166 3331 \nQ 4166 2844 3850 2509 \nQ 3534 2175 2875 2084 \nQ 3116 1969 3241 1856 \nQ 3506 1613 3744 1247 \nL 4541 0 \nL 3778 0 \nL 3172 953 \nQ 2906 1366 2734 1584 \nQ 2563 1803 2427 1890 \nQ 2291 1978 2150 2013 \nQ 2047 2034 1813 2034 \nL 1109 2034 \nL 1109 0 \nL 503 0 \nz\nM 1109 2559 \nL 2413 2559 \nQ 2828 2559 3062 2645 \nQ 3297 2731 3419 2920 \nQ 3541 3109 3541 3331 \nQ 3541 3656 3305 3865 \nQ 3069 4075 2559 4075 \nL 1109 4075 \nL 1109 2559 \nz\n\" transform=\"scale(0.015625)\"/>\n       <path id=\"ArialMT-6a\" d=\"M 419 3928 \nL 419 4581 \nL 981 4581 \nL 981 3928 \nL 419 3928 \nz\nM -294 -1288 \nL -188 -809 \nQ -19 -853 78 -853 \nQ 250 -853 334 -739 \nQ 419 -625 419 -169 \nL 419 3319 \nL 981 3319 \nL 981 -181 \nQ 981 -794 822 -1034 \nQ 619 -1347 147 -1347 \nQ -81 -1347 -294 -1288 \nz\n\" transform=\"scale(0.015625)\"/>\n      </defs>\n      <use xlink:href=\"#ArialMT-52\"/>\n      <use xlink:href=\"#ArialMT-65\" x=\"72.216797\"/>\n      <use xlink:href=\"#ArialMT-6a\" x=\"127.832031\"/>\n      <use xlink:href=\"#ArialMT-65\" x=\"150.048828\"/>\n      <use xlink:href=\"#ArialMT-63\" x=\"205.664062\"/>\n      <use xlink:href=\"#ArialMT-74\" x=\"255.664062\"/>\n      <use xlink:href=\"#ArialMT-65\" x=\"283.447266\"/>\n      <use xlink:href=\"#ArialMT-64\" x=\"339.0625\"/>\n     </g>\n    </g>\n   </g>\n  </g>\n </g>\n <defs>\n  <clipPath id=\"p94b523e17a\">\n   <rect x=\"53.594063\" y=\"7.2\" width=\"446.4\" height=\"298.98\"/>\n  </clipPath>\n </defs>\n</svg>\n",
      "text/plain": [
       "<Figure size 576x396 with 1 Axes>"
      ]
     },
     "metadata": {},
     "output_type": "display_data"
    }
   ],
   "source": [
    "# Plot examples\n",
    "plot_data(X_train, y_train[:], pos_label=\"Accepted\", neg_label=\"Rejected\")\n",
    "\n",
    "# Set the y-axis label\n",
    "plt.ylabel('Microchip Test 2') \n",
    "# Set the x-axis label\n",
    "plt.xlabel('Microchip Test 1') \n",
    "plt.legend(loc=\"upper right\")\n",
    "plt.show()"
   ]
  },
  {
   "cell_type": "markdown",
   "metadata": {},
   "source": [
    "Figure 3 shows that our dataset cannot be separated into positive and negative examples by a straight-line through the plot. Therefore, a straight forward application of logistic regression will not perform well on this dataset since logistic regression will only be able to find a linear decision boundary.\n"
   ]
  },
  {
   "cell_type": "markdown",
   "metadata": {},
   "source": [
    "<a name=\"3.3\"></a>\n",
    "### 3.3 Feature mapping\n",
    "\n",
    "One way to fit the data better is to create more features from each data point. In the provided function `map_feature`, we will map the features into all polynomial terms of $x_1$ and $x_2$ up to the sixth power.\n",
    "\n",
    "$$\\mathrm{map\\_feature}(x) = \n",
    "\\left[\\begin{array}{c}\n",
    "x_1\\\\\n",
    "x_2\\\\\n",
    "x_1^2\\\\\n",
    "x_1 x_2\\\\\n",
    "x_2^2\\\\\n",
    "x_1^3\\\\\n",
    "\\vdots\\\\\n",
    "x_1 x_2^5\\\\\n",
    "x_2^6\\end{array}\\right]$$\n",
    "\n",
    "As a result of this mapping, our vector of two features (the scores on two QA tests) has been transformed into a 27-dimensional vector. \n",
    "\n",
    "- A logistic regression classifier trained on this higher-dimension feature vector will have a more complex decision boundary and will be nonlinear when drawn in our 2-dimensional plot. \n",
    "- We have provided the `map_feature` function for you in utils.py. "
   ]
  },
  {
   "cell_type": "code",
   "execution_count": 26,
   "metadata": {},
   "outputs": [
    {
     "name": "stdout",
     "output_type": "stream",
     "text": [
      "Original shape of data: (118, 2)\n",
      "Shape after feature mapping: (118, 27)\n"
     ]
    }
   ],
   "source": [
    "print(\"Original shape of data:\", X_train.shape)\n",
    "\n",
    "mapped_X =  map_feature(X_train[:, 0], X_train[:, 1])\n",
    "print(\"Shape after feature mapping:\", mapped_X.shape)"
   ]
  },
  {
   "cell_type": "markdown",
   "metadata": {},
   "source": [
    "Let's also print the first elements of `X_train` and `mapped_X` to see the tranformation."
   ]
  },
  {
   "cell_type": "code",
   "execution_count": 27,
   "metadata": {},
   "outputs": [
    {
     "name": "stdout",
     "output_type": "stream",
     "text": [
      "X_train[0]: [0.051267 0.69956 ]\n",
      "mapped X_train[0]: [5.12670000e-02 6.99560000e-01 2.62830529e-03 3.58643425e-02\n",
      " 4.89384194e-01 1.34745327e-04 1.83865725e-03 2.50892595e-02\n",
      " 3.42353606e-01 6.90798869e-06 9.42624411e-05 1.28625106e-03\n",
      " 1.75514423e-02 2.39496889e-01 3.54151856e-07 4.83255257e-06\n",
      " 6.59422333e-05 8.99809795e-04 1.22782870e-02 1.67542444e-01\n",
      " 1.81563032e-08 2.47750473e-07 3.38066048e-06 4.61305487e-05\n",
      " 6.29470940e-04 8.58939846e-03 1.17205992e-01]\n"
     ]
    }
   ],
   "source": [
    "print(\"X_train[0]:\", X_train[0])\n",
    "print(\"mapped X_train[0]:\", mapped_X[0])"
   ]
  },
  {
   "cell_type": "markdown",
   "metadata": {},
   "source": [
    "While the feature mapping allows us to build a more expressive classifier, it is also more susceptible to overfitting. In the next parts of the exercise, you will implement regularized logistic regression to fit the data and also see for yourself how regularization can help combat the overfitting problem.\n",
    "\n",
    "<a name=\"3.4\"></a>\n",
    "### 3.4 Cost function for regularized logistic regression\n",
    "\n",
    "In this part, you will implement the cost function for regularized logistic regression.\n",
    "\n",
    "Recall that for regularized logistic regression, the cost function is of the form\n",
    "$$J(\\mathbf{w},b) = \\frac{1}{m}  \\sum_{i=0}^{m-1} \\left[ -y^{(i)} \\log\\left(f_{\\mathbf{w},b}\\left( \\mathbf{x}^{(i)} \\right) \\right) - \\left( 1 - y^{(i)}\\right) \\log \\left( 1 - f_{\\mathbf{w},b}\\left( \\mathbf{x}^{(i)} \\right) \\right) \\right] + \\frac{\\lambda}{2m}  \\sum_{j=0}^{n-1} w_j^2$$\n",
    "\n",
    "Compare this to the cost function without regularization (which you implemented above), which is of the form \n",
    "\n",
    "$$ J(\\mathbf{w}.b) = \\frac{1}{m}\\sum_{i=0}^{m-1} \\left[ (-y^{(i)} \\log\\left(f_{\\mathbf{w},b}\\left( \\mathbf{x}^{(i)} \\right) \\right) - \\left( 1 - y^{(i)}\\right) \\log \\left( 1 - f_{\\mathbf{w},b}\\left( \\mathbf{x}^{(i)} \\right) \\right)\\right]$$\n",
    "\n",
    "The difference is the regularization term, which is $$\\frac{\\lambda}{2m}  \\sum_{j=0}^{n-1} w_j^2$$ \n",
    "Note that the $b$ parameter is not regularized."
   ]
  },
  {
   "cell_type": "markdown",
   "metadata": {},
   "source": [
    "<a name='ex-05'></a>\n",
    "### Exercise 5\n",
    "\n",
    "Please complete the `compute_cost_reg` function below to calculate the following term for each element in $w$ \n",
    "$$\\frac{\\lambda}{2m}  \\sum_{j=0}^{n-1} w_j^2$$\n",
    "\n",
    "The starter code then adds this to the cost without regularization (which you computed above in `compute_cost`) to calculate the cost with regulatization.\n",
    "\n",
    "If you get stuck, you can check out the hints presented after the cell below to help you with the implementation."
   ]
  },
  {
   "cell_type": "code",
   "execution_count": 28,
   "metadata": {},
   "outputs": [],
   "source": [
    "# UNQ_C5\n",
    "def compute_cost_reg(X, y, w, b, lambda_ = 1):\n",
    "    \"\"\"\n",
    "    Computes the cost over all examples\n",
    "    Args:\n",
    "      X : (array_like Shape (m,n)) data, m examples by n features\n",
    "      y : (array_like Shape (m,)) target value \n",
    "      w : (array_like Shape (n,)) Values of parameters of the model      \n",
    "      b : (array_like Shape (n,)) Values of bias parameter of the model\n",
    "      lambda_ : (scalar, float)    Controls amount of regularization\n",
    "    Returns:\n",
    "      total_cost: (scalar)         cost \n",
    "    \"\"\"\n",
    "\n",
    "    m, n = X.shape\n",
    "    \n",
    "    # Calls the compute_cost function that you implemented above\n",
    "    cost_without_reg = compute_cost(X, y, w, b) \n",
    "    \n",
    "    # You need to calculate this value\n",
    "    reg_cost = 0.\n",
    "    \n",
    "    ### START CODE HERE ###\n",
    "\n",
    "    ### END CODE HERE ### \n",
    "    \n",
    "    # Add the regularization cost to get the total cost\n",
    "    total_cost = cost_without_reg + (lambda_/(2 * m)) * reg_cost\n",
    "\n",
    "    return total_cost"
   ]
  },
  {
   "cell_type": "markdown",
   "metadata": {},
   "source": [
    "<details>\n",
    "<summary> <font size=\"5\" color=\"#00EEFF\">My code</font> </summary>\n",
    "<pre>\n",
    "    reg_cost += sum(w[j]**2 for j in range(n))\n",
    "</pre>\n",
    "</details>"
   ]
  },
  {
   "cell_type": "markdown",
   "metadata": {},
   "source": [
    "<details>\n",
    "  <summary><font size=\"3\" color=\"darkgreen\"><b>Click for hints</b></font></summary>\n",
    "    \n",
    "    \n",
    "* Here's how you can structure the overall implementation for this function\n",
    "    ```python \n",
    "       def compute_cost_reg(X, y, w, b, lambda_ = 1):\n",
    "   \n",
    "           m, n = X.shape\n",
    "    \n",
    "            # Calls the compute_cost function that you implemented above\n",
    "            cost_without_reg = compute_cost(X, y, w, b) \n",
    "    \n",
    "            # You need to calculate this value\n",
    "            reg_cost = 0.\n",
    "    \n",
    "            ### START CODE HERE ###\n",
    "            for j in range(n):\n",
    "                reg_cost_j = # Your code here to calculate the cost from w[j]\n",
    "                reg_cost = reg_cost + reg_cost_j\n",
    "\n",
    "            ### END CODE HERE ### \n",
    "    \n",
    "            # Add the regularization cost to get the total cost\n",
    "            total_cost = cost_without_reg + (lambda_/(2 * m)) * reg_cost\n",
    "\n",
    "        return total_cost\n",
    "    ```\n",
    "  \n",
    "    If you're still stuck, you can check the hints presented below to figure out how to calculate `reg_cost_j` \n",
    "    \n",
    "    <details>\n",
    "          <summary><font size=\"2\" color=\"darkblue\"><b>Hint to calculate reg_cost_j</b></font></summary>\n",
    "           &emsp; &emsp; You can use calculate reg_cost_j as <code>reg_cost_j = w[j]**2 </code> \n",
    "    </details>\n",
    "        \n",
    "    </details>\n",
    "\n",
    "</details>\n",
    "\n",
    "    "
   ]
  },
  {
   "cell_type": "markdown",
   "metadata": {},
   "source": [
    "Run the cell below to check your implementation of the `compute_cost_reg` function."
   ]
  },
  {
   "cell_type": "code",
   "execution_count": 29,
   "metadata": {},
   "outputs": [
    {
     "name": "stdout",
     "output_type": "stream",
     "text": [
      "Regularized cost : 0.6618252552483948\n",
      "\u001b[92mAll tests passed!\n"
     ]
    }
   ],
   "source": [
    "X_mapped = map_feature(X_train[:, 0], X_train[:, 1])\n",
    "np.random.seed(1)\n",
    "initial_w = np.random.rand(X_mapped.shape[1]) - 0.5\n",
    "initial_b = 0.5\n",
    "lambda_ = 0.5\n",
    "cost = compute_cost_reg(X_mapped, y_train, initial_w, initial_b, lambda_)\n",
    "\n",
    "print(\"Regularized cost :\", cost)\n",
    "\n",
    "# UNIT TEST    \n",
    "compute_cost_reg_test(compute_cost_reg)\n"
   ]
  },
  {
   "cell_type": "markdown",
   "metadata": {},
   "source": [
    "**Expected Output**:\n",
    "<table>\n",
    "  <tr>\n",
    "    <td> <b>Regularized cost : <b></td>\n",
    "    <td> 0.6618252552483948 </td> \n",
    "  </tr>\n",
    "</table>"
   ]
  },
  {
   "cell_type": "markdown",
   "metadata": {},
   "source": [
    "<a name=\"3.5\"></a>\n",
    "### 3.5 Gradient for regularized logistic regression\n",
    "\n",
    "In this section, you will implement the gradient for regularized logistic regression.\n",
    "\n",
    "\n",
    "The gradient of the regularized cost function has two components. The first, $\\frac{\\partial J(\\mathbf{w},b)}{\\partial b}$ is a scalar, the other is a vector with the same shape as the parameters $\\mathbf{w}$, where the $j^\\mathrm{th}$ element is defined as follows:\n",
    "\n",
    "$$\\frac{\\partial J(\\mathbf{w},b)}{\\partial b} = \\frac{1}{m}  \\sum_{i=0}^{m-1} (f_{\\mathbf{w},b}(\\mathbf{x}^{(i)}) - y^{(i)})  $$\n",
    "\n",
    "$$\\frac{\\partial J(\\mathbf{w},b)}{\\partial w_j} = \\left( \\frac{1}{m}  \\sum_{i=0}^{m-1} (f_{\\mathbf{w},b}(\\mathbf{x}^{(i)}) - y^{(i)}) x_j^{(i)} \\right) + \\frac{\\lambda}{m} w_j  \\quad\\, \\mbox{for $j=0...(n-1)$}$$\n",
    "\n",
    "Compare this to the gradient of the cost function without regularization (which you implemented above), which is of the form \n",
    "$$\n",
    "\\frac{\\partial J(\\mathbf{w},b)}{\\partial b}  = \\frac{1}{m} \\sum\\limits_{i = 0}^{m-1} (f_{\\mathbf{w},b}(\\mathbf{x}^{(i)}) - \\mathbf{y}^{(i)}) \\tag{2}\n",
    "$$\n",
    "$$\n",
    "\\frac{\\partial J(\\mathbf{w},b)}{\\partial w_j}  = \\frac{1}{m} \\sum\\limits_{i = 0}^{m-1} (f_{\\mathbf{w},b}(\\mathbf{x}^{(i)}) - \\mathbf{y}^{(i)})x_{j}^{(i)} \\tag{3}\n",
    "$$\n",
    "\n",
    "\n",
    "As you can see,$\\frac{\\partial J(\\mathbf{w},b)}{\\partial b}$ is the same, the difference is the following term in $\\frac{\\partial J(\\mathbf{w},b)}{\\partial w}$, which is $$\\frac{\\lambda}{m} w_j  \\quad\\, \\mbox{for $j=0...(n-1)$}$$ \n",
    "\n",
    "\n",
    "\n"
   ]
  },
  {
   "cell_type": "markdown",
   "metadata": {},
   "source": [
    "<a name='ex-06'></a>\n",
    "### Exercise 6\n",
    "\n",
    "Please complete the `compute_gradient_reg` function below to modify the code below to calculate the following term\n",
    "\n",
    "$$\\frac{\\lambda}{m} w_j  \\quad\\, \\mbox{for $j=0...(n-1)$}$$\n",
    "\n",
    "The starter code will add this term to the $\\frac{\\partial J(\\mathbf{w},b)}{\\partial w}$ returned from `compute_gradient` above to get the gradient for the regularized cost function.\n",
    "\n",
    "\n",
    "If you get stuck, you can check out the hints presented after the cell below to help you with the implementation."
   ]
  },
  {
   "cell_type": "code",
   "execution_count": 30,
   "metadata": {},
   "outputs": [],
   "source": [
    "# UNQ_C6\n",
    "def compute_gradient_reg(X, y, w, b, lambda_ = 1): \n",
    "    \"\"\"\n",
    "    Computes the gradient for linear regression \n",
    " \n",
    "    Args:\n",
    "      X : (ndarray Shape (m,n))   variable such as house size \n",
    "      y : (ndarray Shape (m,))    actual value \n",
    "      w : (ndarray Shape (n,))    values of parameters of the model      \n",
    "      b : (scalar)                value of parameter of the model  \n",
    "      lambda_ : (scalar,float)    regularization constant\n",
    "    Returns\n",
    "      dj_db: (scalar)             The gradient of the cost w.r.t. the parameter b. \n",
    "      dj_dw: (ndarray Shape (n,)) The gradient of the cost w.r.t. the parameters w. \n",
    "\n",
    "    \"\"\"\n",
    "    m, n = X.shape\n",
    "    \n",
    "    dj_db, dj_dw = compute_gradient(X, y, w, b)\n",
    "\n",
    "    ### START CODE HERE ###     \n",
    "\n",
    "    ### END CODE HERE ###         \n",
    "        \n",
    "    return dj_db, dj_dw"
   ]
  },
  {
   "cell_type": "markdown",
   "metadata": {},
   "source": [
    "<details>\n",
    "<summary> <font size=\"5\" color=\"#00EEFF\">My code</font> </summary>\n",
    "<pre>\n",
    "    for j in range(n):\n",
    "        dj_dw_reg = (lambda_ / m) * w[j]\n",
    "        dj_dw[j] += dj_dw_reg\n",
    "</pre>\n",
    "</details>"
   ]
  },
  {
   "cell_type": "markdown",
   "metadata": {},
   "source": [
    "<details>\n",
    "  <summary><font size=\"3\" color=\"darkgreen\"><b>Click for hints</b></font></summary>\n",
    "    \n",
    "    \n",
    "* Here's how you can structure the overall implementation for this function\n",
    "    ```python \n",
    "    def compute_gradient_reg(X, y, w, b, lambda_ = 1): \n",
    "        m, n = X.shape\n",
    "    \n",
    "        dj_db, dj_dw = compute_gradient(X, y, w, b)\n",
    "\n",
    "        ### START CODE HERE ###     \n",
    "        # Loop over the elements of w\n",
    "        for j in range(n): \n",
    "            \n",
    "            dj_dw_j_reg = # Your code here to calculate the regularization term for dj_dw[j]\n",
    "            \n",
    "            # Add the regularization term  to the correspoding element of dj_dw\n",
    "            dj_dw[j] = dj_dw[j] + dj_dw_j_reg\n",
    "        \n",
    "        ### END CODE HERE ###         \n",
    "        \n",
    "        return dj_db, dj_dw\n",
    "    ```\n",
    "  \n",
    "    If you're still stuck, you can check the hints presented below to figure out how to calculate `dj_dw_j_reg` \n",
    "    \n",
    "    <details>\n",
    "          <summary><font size=\"2\" color=\"darkblue\"><b>Hint to calculate dj_dw_j_reg</b></font></summary>\n",
    "           &emsp; &emsp; You can use calculate dj_dw_j_reg as <code>dj_dw_j_reg = (lambda_ / m) * w[j] </code> \n",
    "    </details>\n",
    "        \n",
    "    </details>\n",
    "\n",
    "</details>\n",
    "\n",
    "    \n"
   ]
  },
  {
   "cell_type": "markdown",
   "metadata": {},
   "source": [
    "Run the cell below to check your implementation of the `compute_gradient_reg` function."
   ]
  },
  {
   "cell_type": "code",
   "execution_count": 31,
   "metadata": {},
   "outputs": [
    {
     "name": "stdout",
     "output_type": "stream",
     "text": [
      "dj_db: 0.07138288792343662\n",
      "First few elements of regularized dj_dw:\n",
      " [-0.010386028450548701, 0.011409852883280122, 0.0536273463274574, 0.003140278267313462]\n",
      "\u001b[92mAll tests passed!\n"
     ]
    }
   ],
   "source": [
    "X_mapped = map_feature(X_train[:, 0], X_train[:, 1])\n",
    "np.random.seed(1) \n",
    "initial_w  = np.random.rand(X_mapped.shape[1]) - 0.5 \n",
    "initial_b = 0.5\n",
    " \n",
    "lambda_ = 0.5\n",
    "dj_db, dj_dw = compute_gradient_reg(X_mapped, y_train, initial_w, initial_b, lambda_)\n",
    "\n",
    "print(f\"dj_db: {dj_db}\", )\n",
    "print(f\"First few elements of regularized dj_dw:\\n {dj_dw[:4].tolist()}\", )\n",
    "\n",
    "# UNIT TESTS    \n",
    "compute_gradient_reg_test(compute_gradient_reg)\n"
   ]
  },
  {
   "cell_type": "markdown",
   "metadata": {},
   "source": [
    "**Expected Output**:\n",
    "<table>\n",
    "  <tr>\n",
    "    <td> <b>dj_db:</b>0.07138288792343656</td> </tr>\n",
    "  <tr>\n",
    "      <td> <b> First few elements of regularized dj_dw:</b> </td> </tr>\n",
    "   <tr>\n",
    "   <td> [[-0.010386028450548701], [0.01140985288328012], [0.0536273463274574], [0.003140278267313462]] </td> \n",
    "  </tr>\n",
    "</table>"
   ]
  },
  {
   "cell_type": "markdown",
   "metadata": {},
   "source": [
    "<a name=\"3.6\"></a>\n",
    "### 3.6 Learning parameters using gradient descent\n",
    "\n",
    "Similar to the previous parts, you will use your gradient descent function implemented above to learn the optimal parameters $w$,$b$. \n",
    "- If you have completed the cost and gradient for regularized logistic regression correctly, you should be able to step through the next cell to learn the parameters $w$. \n",
    "- After training our parameters, we will use it to plot the decision boundary. \n",
    "\n",
    "**Note**\n",
    "\n",
    "The code block below takes quite a while to run, especially with a non-vectorized version. You can reduce the `iterations` to test your implementation and iterate faster. If you have time, run for 100,000 iterations to see better results."
   ]
  },
  {
   "cell_type": "code",
   "execution_count": 32,
   "metadata": {},
   "outputs": [
    {
     "name": "stdout",
     "output_type": "stream",
     "text": [
      "Iteration    0: Cost     0.72   \n",
      "Iteration 1000: Cost     0.59   \n",
      "Iteration 2000: Cost     0.56   \n",
      "Iteration 3000: Cost     0.53   \n",
      "Iteration 4000: Cost     0.51   \n",
      "Iteration 5000: Cost     0.50   \n",
      "Iteration 6000: Cost     0.48   \n",
      "Iteration 7000: Cost     0.47   \n",
      "Iteration 8000: Cost     0.46   \n",
      "Iteration 9000: Cost     0.45   \n",
      "Iteration 9999: Cost     0.45   \n"
     ]
    }
   ],
   "source": [
    "# Initialize fitting parameters\n",
    "np.random.seed(1)\n",
    "initial_w = np.random.rand(X_mapped.shape[1])-0.5\n",
    "initial_b = 1.\n",
    "\n",
    "# Set regularization parameter lambda_ to 1 (you can try varying this)\n",
    "lambda_ = 0.01;                                          \n",
    "# Some gradient descent settings\n",
    "iterations = 10000\n",
    "alpha = 0.01\n",
    "\n",
    "w,b, J_history,_ = gradient_descent(X_mapped, y_train, initial_w, initial_b, \n",
    "                                    compute_cost_reg, compute_gradient_reg, \n",
    "                                    alpha, iterations, lambda_)"
   ]
  },
  {
   "cell_type": "markdown",
   "metadata": {},
   "source": [
    "<details>\n",
    "<summary>\n",
    "    <b>Expected Output: Cost < 0.5  (Click for details)</b>\n",
    "</summary>\n",
    "\n",
    "```\n",
    "# Using the following settings\n",
    "#np.random.seed(1)\n",
    "#initial_w = np.random.rand(X_mapped.shape[1])-0.5\n",
    "#initial_b = 1.\n",
    "#lambda_ = 0.01;                                          \n",
    "#iterations = 10000\n",
    "#alpha = 0.01\n",
    "Iteration    0: Cost     0.72   \n",
    "Iteration 1000: Cost     0.59   \n",
    "Iteration 2000: Cost     0.56   \n",
    "Iteration 3000: Cost     0.53   \n",
    "Iteration 4000: Cost     0.51   \n",
    "Iteration 5000: Cost     0.50   \n",
    "Iteration 6000: Cost     0.48   \n",
    "Iteration 7000: Cost     0.47   \n",
    "Iteration 8000: Cost     0.46   \n",
    "Iteration 9000: Cost     0.45   \n",
    "Iteration 9999: Cost     0.45       \n",
    "    \n",
    "```"
   ]
  },
  {
   "cell_type": "markdown",
   "metadata": {},
   "source": [
    "<a name=\"3.7\"></a>\n",
    "### 3.7 Plotting the decision boundary\n",
    "To help you visualize the model learned by this classifier, we will use our `plot_decision_boundary` function which plots the (non-linear) decision boundary that separates the positive and negative examples. \n",
    "\n",
    "- In the function, we plotted the non-linear decision boundary by computing the classifier’s predictions on an evenly spaced grid and then drew a contour plot of where the predictions change from y = 0 to y = 1.\n",
    "\n",
    "- After learning the parameters $w$,$b$, the next step is to plot a decision boundary similar to Figure 4.\n",
    "\n",
    "<img src=\"./figure 4.png\"  width=\"450\" height=\"450\">"
   ]
  },
  {
   "cell_type": "code",
   "execution_count": 33,
   "metadata": {},
   "outputs": [
    {
     "data": {
      "image/png": "[encoded data removed]",
      "image/svg+xml": "<?xml version=\"1.0\" encoding=\"utf-8\" standalone=\"no\"?>\n<!DOCTYPE svg PUBLIC \"-//W3C//DTD SVG 1.1//EN\"\n  \"http://www.w3.org/Graphics/SVG/1.1/DTD/svg11.dtd\">\n<svg xmlns:xlink=\"http://www.w3.org/1999/xlink\" width=\"494.490625pt\" height=\"333.104219pt\" viewBox=\"0 0 494.490625 333.104219\" xmlns=\"http://www.w3.org/2000/svg\" version=\"1.1\">\n <metadata>\n  <rdf:RDF xmlns:dc=\"http://purl.org/dc/elements/1.1/\" xmlns:cc=\"http://creativecommons.org/ns#\" xmlns:rdf=\"http://www.w3.org/1999/02/22-rdf-syntax-ns#\">\n   <cc:Work>\n    <dc:type rdf:resource=\"http://purl.org/dc/dcmitype/StillImage\"/>\n    <dc:date>2022-08-01T08:42:39.823914</dc:date>\n    <dc:format>image/svg+xml</dc:format>\n    <dc:creator>\n     <cc:Agent>\n      <dc:title>Matplotlib v3.5.2, https://matplotlib.org/</dc:title>\n     </cc:Agent>\n    </dc:creator>\n   </cc:Work>\n  </rdf:RDF>\n </metadata>\n <defs>\n  <style type=\"text/css\">*{stroke-linejoin: round; stroke-linecap: butt}</style>\n </defs>\n <g id=\"figure_1\">\n  <g id=\"patch_1\">\n   <path d=\"M 0 333.104219 \nL 494.490625 333.104219 \nL 494.490625 0 \nL 0 0 \nz\n\" style=\"fill: #ffffff\"/>\n  </g>\n  <g id=\"axes_1\">\n   <g id=\"patch_2\">\n    <path d=\"M 33.940625 309.758906 \nL 480.340625 309.758906 \nL 480.340625 10.778906 \nL 33.940625 10.778906 \nz\n\" style=\"fill: #eaeaf2\"/>\n   </g>\n   <g id=\"matplotlib.axis_1\">\n    <g id=\"xtick_1\">\n     <g id=\"line2d_1\">\n      <path d=\"M 33.940625 309.758906 \nL 33.940625 10.778906 \n\" clip-path=\"url(#p7c65c7df5f)\" style=\"fill: none; stroke: #ffffff; stroke-linecap: round\"/>\n     </g>\n     <g id=\"line2d_2\"/>\n     <g id=\"text_1\">\n      <!-- −1.0 -->\n      <g style=\"fill: #262626\" transform=\"translate(24.070313 323.916719)scale(0.1 -0.1)\">\n       <defs>\n        <path id=\"ArialMT-2212\" d=\"M 3381 1997 \nL 356 1997 \nL 356 2522 \nL 3381 2522 \nL 3381 1997 \nz\n\" transform=\"scale(0.015625)\"/>\n        <path id=\"ArialMT-31\" d=\"M 2384 0 \nL 1822 0 \nL 1822 3584 \nQ 1619 3391 1289 3197 \nQ 959 3003 697 2906 \nL 697 3450 \nQ 1169 3672 1522 3987 \nQ 1875 4303 2022 4600 \nL 2384 4600 \nL 2384 0 \nz\n\" transform=\"scale(0.015625)\"/>\n        <path id=\"ArialMT-2e\" d=\"M 581 0 \nL 581 641 \nL 1222 641 \nL 1222 0 \nL 581 0 \nz\n\" transform=\"scale(0.015625)\"/>\n        <path id=\"ArialMT-30\" d=\"M 266 2259 \nQ 266 3072 433 3567 \nQ 600 4063 929 4331 \nQ 1259 4600 1759 4600 \nQ 2128 4600 2406 4451 \nQ 2684 4303 2865 4023 \nQ 3047 3744 3150 3342 \nQ 3253 2941 3253 2259 \nQ 3253 1453 3087 958 \nQ 2922 463 2592 192 \nQ 2263 -78 1759 -78 \nQ 1097 -78 719 397 \nQ 266 969 266 2259 \nz\nM 844 2259 \nQ 844 1131 1108 757 \nQ 1372 384 1759 384 \nQ 2147 384 2411 759 \nQ 2675 1134 2675 2259 \nQ 2675 3391 2411 3762 \nQ 2147 4134 1753 4134 \nQ 1366 4134 1134 3806 \nQ 844 3388 844 2259 \nz\n\" transform=\"scale(0.015625)\"/>\n       </defs>\n       <use xlink:href=\"#ArialMT-2212\"/>\n       <use xlink:href=\"#ArialMT-31\" x=\"58.398438\"/>\n       <use xlink:href=\"#ArialMT-2e\" x=\"114.013672\"/>\n       <use xlink:href=\"#ArialMT-30\" x=\"141.796875\"/>\n      </g>\n     </g>\n    </g>\n    <g id=\"xtick_2\">\n     <g id=\"line2d_3\">\n      <path d=\"M 123.220625 309.758906 \nL 123.220625 10.778906 \n\" clip-path=\"url(#p7c65c7df5f)\" style=\"fill: none; stroke: #ffffff; stroke-linecap: round\"/>\n     </g>\n     <g id=\"line2d_4\"/>\n     <g id=\"text_2\">\n      <!-- −0.5 -->\n      <g style=\"fill: #262626\" transform=\"translate(113.350313 323.916719)scale(0.1 -0.1)\">\n       <defs>\n        <path id=\"ArialMT-35\" d=\"M 266 1200 \nL 856 1250 \nQ 922 819 1161 601 \nQ 1400 384 1738 384 \nQ 2144 384 2425 690 \nQ 2706 997 2706 1503 \nQ 2706 1984 2436 2262 \nQ 2166 2541 1728 2541 \nQ 1456 2541 1237 2417 \nQ 1019 2294 894 2097 \nL 366 2166 \nL 809 4519 \nL 3088 4519 \nL 3088 3981 \nL 1259 3981 \nL 1013 2750 \nQ 1425 3038 1878 3038 \nQ 2478 3038 2890 2622 \nQ 3303 2206 3303 1553 \nQ 3303 931 2941 478 \nQ 2500 -78 1738 -78 \nQ 1113 -78 717 272 \nQ 322 622 266 1200 \nz\n\" transform=\"scale(0.015625)\"/>\n       </defs>\n       <use xlink:href=\"#ArialMT-2212\"/>\n       <use xlink:href=\"#ArialMT-30\" x=\"58.398438\"/>\n       <use xlink:href=\"#ArialMT-2e\" x=\"114.013672\"/>\n       <use xlink:href=\"#ArialMT-35\" x=\"141.796875\"/>\n      </g>\n     </g>\n    </g>\n    <g id=\"xtick_3\">\n     <g id=\"line2d_5\">\n      <path d=\"M 212.500625 309.758906 \nL 212.500625 10.778906 \n\" clip-path=\"url(#p7c65c7df5f)\" style=\"fill: none; stroke: #ffffff; stroke-linecap: round\"/>\n     </g>\n     <g id=\"line2d_6\"/>\n     <g id=\"text_3\">\n      <!-- 0.0 -->\n      <g style=\"fill: #262626\" transform=\"translate(205.550625 323.916719)scale(0.1 -0.1)\">\n       <use xlink:href=\"#ArialMT-30\"/>\n       <use xlink:href=\"#ArialMT-2e\" x=\"55.615234\"/>\n       <use xlink:href=\"#ArialMT-30\" x=\"83.398438\"/>\n      </g>\n     </g>\n    </g>\n    <g id=\"xtick_4\">\n     <g id=\"line2d_7\">\n      <path d=\"M 301.780625 309.758906 \nL 301.780625 10.778906 \n\" clip-path=\"url(#p7c65c7df5f)\" style=\"fill: none; stroke: #ffffff; stroke-linecap: round\"/>\n     </g>\n     <g id=\"line2d_8\"/>\n     <g id=\"text_4\">\n      <!-- 0.5 -->\n      <g style=\"fill: #262626\" transform=\"translate(294.830625 323.916719)scale(0.1 -0.1)\">\n       <use xlink:href=\"#ArialMT-30\"/>\n       <use xlink:href=\"#ArialMT-2e\" x=\"55.615234\"/>\n       <use xlink:href=\"#ArialMT-35\" x=\"83.398438\"/>\n      </g>\n     </g>\n    </g>\n    <g id=\"xtick_5\">\n     <g id=\"line2d_9\">\n      <path d=\"M 391.060625 309.758906 \nL 391.060625 10.778906 \n\" clip-path=\"url(#p7c65c7df5f)\" style=\"fill: none; stroke: #ffffff; stroke-linecap: round\"/>\n     </g>\n     <g id=\"line2d_10\"/>\n     <g id=\"text_5\">\n      <!-- 1.0 -->\n      <g style=\"fill: #262626\" transform=\"translate(384.110625 323.916719)scale(0.1 -0.1)\">\n       <use xlink:href=\"#ArialMT-31\"/>\n       <use xlink:href=\"#ArialMT-2e\" x=\"55.615234\"/>\n       <use xlink:href=\"#ArialMT-30\" x=\"83.398438\"/>\n      </g>\n     </g>\n    </g>\n    <g id=\"xtick_6\">\n     <g id=\"line2d_11\">\n      <path d=\"M 480.340625 309.758906 \nL 480.340625 10.778906 \n\" clip-path=\"url(#p7c65c7df5f)\" style=\"fill: none; stroke: #ffffff; stroke-linecap: round\"/>\n     </g>\n     <g id=\"line2d_12\"/>\n     <g id=\"text_6\">\n      <!-- 1.5 -->\n      <g style=\"fill: #262626\" transform=\"translate(473.390625 323.916719)scale(0.1 -0.1)\">\n       <use xlink:href=\"#ArialMT-31\"/>\n       <use xlink:href=\"#ArialMT-2e\" x=\"55.615234\"/>\n       <use xlink:href=\"#ArialMT-35\" x=\"83.398438\"/>\n      </g>\n     </g>\n    </g>\n   </g>\n   <g id=\"matplotlib.axis_2\">\n    <g id=\"ytick_1\">\n     <g id=\"line2d_13\">\n      <path d=\"M 33.940625 309.758906 \nL 480.340625 309.758906 \n\" clip-path=\"url(#p7c65c7df5f)\" style=\"fill: none; stroke: #ffffff; stroke-linecap: round\"/>\n     </g>\n     <g id=\"line2d_14\"/>\n     <g id=\"text_7\">\n      <!-- −1.0 -->\n      <g style=\"fill: #262626\" transform=\"translate(7.2 313.337812)scale(0.1 -0.1)\">\n       <use xlink:href=\"#ArialMT-2212\"/>\n       <use xlink:href=\"#ArialMT-31\" x=\"58.398438\"/>\n       <use xlink:href=\"#ArialMT-2e\" x=\"114.013672\"/>\n       <use xlink:href=\"#ArialMT-30\" x=\"141.796875\"/>\n      </g>\n     </g>\n    </g>\n    <g id=\"ytick_2\">\n     <g id=\"line2d_15\">\n      <path d=\"M 33.940625 249.962906 \nL 480.340625 249.962906 \n\" clip-path=\"url(#p7c65c7df5f)\" style=\"fill: none; stroke: #ffffff; stroke-linecap: round\"/>\n     </g>\n     <g id=\"line2d_16\"/>\n     <g id=\"text_8\">\n      <!-- −0.5 -->\n      <g style=\"fill: #262626\" transform=\"translate(7.2 253.541812)scale(0.1 -0.1)\">\n       <use xlink:href=\"#ArialMT-2212\"/>\n       <use xlink:href=\"#ArialMT-30\" x=\"58.398438\"/>\n       <use xlink:href=\"#ArialMT-2e\" x=\"114.013672\"/>\n       <use xlink:href=\"#ArialMT-35\" x=\"141.796875\"/>\n      </g>\n     </g>\n    </g>\n    <g id=\"ytick_3\">\n     <g id=\"line2d_17\">\n      <path d=\"M 33.940625 190.166906 \nL 480.340625 190.166906 \n\" clip-path=\"url(#p7c65c7df5f)\" style=\"fill: none; stroke: #ffffff; stroke-linecap: round\"/>\n     </g>\n     <g id=\"line2d_18\"/>\n     <g id=\"text_9\">\n      <!-- 0.0 -->\n      <g style=\"fill: #262626\" transform=\"translate(13.040625 193.745812)scale(0.1 -0.1)\">\n       <use xlink:href=\"#ArialMT-30\"/>\n       <use xlink:href=\"#ArialMT-2e\" x=\"55.615234\"/>\n       <use xlink:href=\"#ArialMT-30\" x=\"83.398438\"/>\n      </g>\n     </g>\n    </g>\n    <g id=\"ytick_4\">\n     <g id=\"line2d_19\">\n      <path d=\"M 33.940625 130.370906 \nL 480.340625 130.370906 \n\" clip-path=\"url(#p7c65c7df5f)\" style=\"fill: none; stroke: #ffffff; stroke-linecap: round\"/>\n     </g>\n     <g id=\"line2d_20\"/>\n     <g id=\"text_10\">\n      <!-- 0.5 -->\n      <g style=\"fill: #262626\" transform=\"translate(13.040625 133.949812)scale(0.1 -0.1)\">\n       <use xlink:href=\"#ArialMT-30\"/>\n       <use xlink:href=\"#ArialMT-2e\" x=\"55.615234\"/>\n       <use xlink:href=\"#ArialMT-35\" x=\"83.398438\"/>\n      </g>\n     </g>\n    </g>\n    <g id=\"ytick_5\">\n     <g id=\"line2d_21\">\n      <path d=\"M 33.940625 70.574906 \nL 480.340625 70.574906 \n\" clip-path=\"url(#p7c65c7df5f)\" style=\"fill: none; stroke: #ffffff; stroke-linecap: round\"/>\n     </g>\n     <g id=\"line2d_22\"/>\n     <g id=\"text_11\">\n      <!-- 1.0 -->\n      <g style=\"fill: #262626\" transform=\"translate(13.040625 74.153812)scale(0.1 -0.1)\">\n       <use xlink:href=\"#ArialMT-31\"/>\n       <use xlink:href=\"#ArialMT-2e\" x=\"55.615234\"/>\n       <use xlink:href=\"#ArialMT-30\" x=\"83.398438\"/>\n      </g>\n     </g>\n    </g>\n    <g id=\"ytick_6\">\n     <g id=\"line2d_23\">\n      <path d=\"M 33.940625 10.778906 \nL 480.340625 10.778906 \n\" clip-path=\"url(#p7c65c7df5f)\" style=\"fill: none; stroke: #ffffff; stroke-linecap: round\"/>\n     </g>\n     <g id=\"line2d_24\"/>\n     <g id=\"text_12\">\n      <!-- 1.5 -->\n      <g style=\"fill: #262626\" transform=\"translate(13.040625 14.357812)scale(0.1 -0.1)\">\n       <use xlink:href=\"#ArialMT-31\"/>\n       <use xlink:href=\"#ArialMT-2e\" x=\"55.615234\"/>\n       <use xlink:href=\"#ArialMT-35\" x=\"83.398438\"/>\n      </g>\n     </g>\n    </g>\n   </g>\n   <g id=\"line2d_25\">\n    <defs>\n     <path id=\"mf52c004453\" d=\"M -3.5 0 \nL 3.5 0 \nM 0 3.5 \nL 0 -3.5 \n\"/>\n    </defs>\n    <g clip-path=\"url(#p7c65c7df5f)\">\n     <use xlink:href=\"#mf52c004453\" x=\"221.654861\" y=\"106.505127\"/>\n     <use xlink:href=\"#mf52c004453\" x=\"195.940613\" y=\"108.253562\"/>\n     <use xlink:href=\"#mf52c004453\" x=\"174.340567\" y=\"107.379344\"/>\n     <use xlink:href=\"#mf52c004453\" x=\"145.540625\" y=\"130.109\"/>\n     <use xlink:href=\"#mf52c004453\" x=\"120.854705\" y=\"134.480087\"/>\n     <use xlink:href=\"#mf52c004453\" x=\"118.797694\" y=\"165.076505\"/>\n     <use xlink:href=\"#mf52c004453\" x=\"141.426603\" y=\"186.058084\"/>\n     <use xlink:href=\"#mf52c004453\" x=\"157.882692\" y=\"213.158468\"/>\n     <use xlink:href=\"#mf52c004453\" x=\"215.48347\" y=\"238.510776\"/>\n     <use xlink:href=\"#mf52c004453\" x=\"236.054475\" y=\"251.624039\"/>\n     <use xlink:href=\"#mf52c004453\" x=\"281.312292\" y=\"257.743562\"/>\n     <use xlink:href=\"#mf52c004453\" x=\"307.026718\" y=\"252.498257\"/>\n     <use xlink:href=\"#mf52c004453\" x=\"326.568324\" y=\"219.277991\"/>\n     <use xlink:href=\"#mf52c004453\" x=\"344.054705\" y=\"212.284251\"/>\n     <use xlink:href=\"#mf52c004453\" x=\"310.112235\" y=\"131.857435\"/>\n     <use xlink:href=\"#mf52c004453\" x=\"269.996945\" y=\"120.492607\"/>\n     <use xlink:href=\"#mf52c004453\" x=\"242.225508\" y=\"125.737912\"/>\n     <use xlink:href=\"#mf52c004453\" x=\"204.169194\" y=\"92.517646\"/>\n     <use xlink:href=\"#mf52c004453\" x=\"181.540107\" y=\"106.505127\"/>\n     <use xlink:href=\"#mf52c004453\" x=\"127.025739\" y=\"114.373084\"/>\n     <use xlink:href=\"#mf52c004453\" x=\"104.398615\" y=\"118.744172\"/>\n     <use xlink:href=\"#mf52c004453\" x=\"100.282807\" y=\"150.216003\"/>\n     <use xlink:href=\"#mf52c004453\" x=\"106.455627\" y=\"189.554954\"/>\n     <use xlink:href=\"#mf52c004453\" x=\"137.31258\" y=\"222.774861\"/>\n     <use xlink:href=\"#mf52c004453\" x=\"191.826948\" y=\"237.636559\"/>\n     <use xlink:href=\"#mf52c004453\" x=\"248.398327\" y=\"262.114649\"/>\n     <use xlink:href=\"#mf52c004453\" x=\"295.711371\" y=\"254.246692\"/>\n     <use xlink:href=\"#mf52c004453\" x=\"332.741143\" y=\"254.246692\"/>\n     <use xlink:href=\"#mf52c004453\" x=\"187.712926\" y=\"124.863695\"/>\n     <use xlink:href=\"#mf52c004453\" x=\"159.941489\" y=\"96.888734\"/>\n     <use xlink:href=\"#mf52c004453\" x=\"165.084017\" y=\"75.033296\"/>\n     <use xlink:href=\"#mf52c004453\" x=\"183.597118\" y=\"94.266081\"/>\n     <use xlink:href=\"#mf52c004453\" x=\"181.540107\" y=\"112.624649\"/>\n     <use xlink:href=\"#mf52c004453\" x=\"161.9985\" y=\"133.60587\"/>\n     <use xlink:href=\"#mf52c004453\" x=\"147.597636\" y=\"152.838655\"/>\n     <use xlink:href=\"#mf52c004453\" x=\"158.911198\" y=\"186.932301\"/>\n     <use xlink:href=\"#mf52c004453\" x=\"170.226545\" y=\"215.781121\"/>\n     <use xlink:href=\"#mf52c004453\" x=\"201.083499\" y=\"212.284251\"/>\n     <use xlink:href=\"#mf52c004453\" x=\"223.71205\" y=\"209.661598\"/>\n     <use xlink:href=\"#mf52c004453\" x=\"253.540855\" y=\"239.384994\"/>\n     <use xlink:href=\"#mf52c004453\" x=\"264.854417\" y=\"217.529556\"/>\n     <use xlink:href=\"#mf52c004453\" x=\"298.796887\" y=\"212.284251\"/>\n     <use xlink:href=\"#mf52c004453\" x=\"327.598615\" y=\"207.038946\"/>\n     <use xlink:href=\"#mf52c004453\" x=\"294.682865\" y=\"188.680736\"/>\n     <use xlink:href=\"#mf52c004453\" x=\"324.511313\" y=\"171.196027\"/>\n     <use xlink:href=\"#mf52c004453\" x=\"315.254763\" y=\"158.08396\"/>\n     <use xlink:href=\"#mf52c004453\" x=\"341.997694\" y=\"137.10274\"/>\n     <use xlink:href=\"#mf52c004453\" x=\"252.51235\" y=\"127.486347\"/>\n     <use xlink:href=\"#mf52c004453\" x=\"291.597348\" y=\"110.001997\"/>\n     <use xlink:href=\"#mf52c004453\" x=\"269.996945\" y=\"107.379344\"/>\n     <use xlink:href=\"#mf52c004453\" x=\"237.08298\" y=\"121.366825\"/>\n     <use xlink:href=\"#mf52c004453\" x=\"211.369197\" y=\"142.348045\"/>\n     <use xlink:href=\"#mf52c004453\" x=\"195.940613\" y=\"123.989477\"/>\n     <use xlink:href=\"#mf52c004453\" x=\"175.369073\" y=\"147.59335\"/>\n     <use xlink:href=\"#mf52c004453\" x=\"175.369073\" y=\"169.447592\"/>\n     <use xlink:href=\"#mf52c004453\" x=\"134.227063\" y=\"164.202287\"/>\n     <use xlink:href=\"#mf52c004453\" x=\"173.312062\" y=\"192.177607\"/>\n     <use xlink:href=\"#mf52c004453\" x=\"187.712926\" y=\"222.774861\"/>\n    </g>\n   </g>\n   <g id=\"line2d_26\">\n    <defs>\n     <path id=\"m2cf8014ba3\" d=\"M 0 3.5 \nC 0.928211 3.5 1.81853 3.131218 2.474874 2.474874 \nC 3.131218 1.81853 3.5 0.928211 3.5 0 \nC 3.5 -0.928211 3.131218 -1.81853 2.474874 -2.474874 \nC 1.81853 -3.131218 0.928211 -3.5 0 -3.5 \nC -0.928211 -3.5 -1.81853 -3.131218 -2.474874 -2.474874 \nC -3.131218 -1.81853 -3.5 -0.928211 -3.5 0 \nC -3.5 0.928211 -3.131218 1.81853 -2.474874 2.474874 \nC -1.81853 3.131218 -0.928211 3.5 0 3.5 \nz\n\"/>\n    </defs>\n    <g clip-path=\"url(#p7c65c7df5f)\">\n     <use xlink:href=\"#m2cf8014ba3\" x=\"245.312811\" y=\"78.530166\" style=\"fill: #bfbf00\"/>\n     <use xlink:href=\"#m2cf8014ba3\" x=\"252.51235\" y=\"96.888734\" style=\"fill: #bfbf00\"/>\n     <use xlink:href=\"#m2cf8014ba3\" x=\"265.882923\" y=\"116.121519\" style=\"fill: #bfbf00\"/>\n     <use xlink:href=\"#m2cf8014ba3\" x=\"302.912695\" y=\"99.511387\" style=\"fill: #bfbf00\"/>\n     <use xlink:href=\"#m2cf8014ba3\" x=\"322.454302\" y=\"103.008257\" style=\"fill: #bfbf00\"/>\n     <use xlink:href=\"#m2cf8014ba3\" x=\"320.397291\" y=\"118.744172\" style=\"fill: #bfbf00\"/>\n     <use xlink:href=\"#m2cf8014ba3\" x=\"349.197233\" y=\"130.109\" style=\"fill: #bfbf00\"/>\n     <use xlink:href=\"#m2cf8014ba3\" x=\"377.997175\" y=\"146.719133\" style=\"fill: #bfbf00\"/>\n     <use xlink:href=\"#m2cf8014ba3\" x=\"359.484075\" y=\"157.209743\" style=\"fill: #bfbf00\"/>\n     <use xlink:href=\"#m2cf8014ba3\" x=\"384.169995\" y=\"179.938681\" style=\"fill: #bfbf00\"/>\n     <use xlink:href=\"#m2cf8014ba3\" x=\"380.054187\" y=\"188.680736\" style=\"fill: #bfbf00\"/>\n     <use xlink:href=\"#m2cf8014ba3\" x=\"366.683614\" y=\"200.045445\" style=\"fill: #bfbf00\"/>\n     <use xlink:href=\"#m2cf8014ba3\" x=\"372.854647\" y=\"214.906903\" style=\"fill: #bfbf00\"/>\n     <use xlink:href=\"#m2cf8014ba3\" x=\"364.626603\" y=\"234.139689\" style=\"fill: #bfbf00\"/>\n     <use xlink:href=\"#m2cf8014ba3\" x=\"360.51258\" y=\"252.498257\" style=\"fill: #bfbf00\"/>\n     <use xlink:href=\"#m2cf8014ba3\" x=\"354.339761\" y=\"256.869344\" style=\"fill: #bfbf00\"/>\n     <use xlink:href=\"#m2cf8014ba3\" x=\"318.340279\" y=\"278.724782\" style=\"fill: #bfbf00\"/>\n     <use xlink:href=\"#m2cf8014ba3\" x=\"304.969707\" y=\"261.240432\" style=\"fill: #bfbf00\"/>\n     <use xlink:href=\"#m2cf8014ba3\" x=\"295.711371\" y=\"240.259211\" style=\"fill: #bfbf00\"/>\n     <use xlink:href=\"#m2cf8014ba3\" x=\"275.141259\" y=\"259.491997\" style=\"fill: #bfbf00\"/>\n     <use xlink:href=\"#m2cf8014ba3\" x=\"263.825911\" y=\"282.221652\" style=\"fill: #bfbf00\"/>\n     <use xlink:href=\"#m2cf8014ba3\" x=\"227.826251\" y=\"280.473217\" style=\"fill: #bfbf00\"/>\n     <use xlink:href=\"#m2cf8014ba3\" x=\"239.139991\" y=\"259.491997\" style=\"fill: #bfbf00\"/>\n     <use xlink:href=\"#m2cf8014ba3\" x=\"188.741431\" y=\"243.756081\" style=\"fill: #bfbf00\"/>\n     <use xlink:href=\"#m2cf8014ba3\" x=\"139.369591\" y=\"239.384994\" style=\"fill: #bfbf00\"/>\n     <use xlink:href=\"#m2cf8014ba3\" x=\"142.455108\" y=\"221.026426\" style=\"fill: #bfbf00\"/>\n     <use xlink:href=\"#m2cf8014ba3\" x=\"79.712695\" y=\"221.026426\" style=\"fill: #bfbf00\"/>\n     <use xlink:href=\"#m2cf8014ba3\" x=\"87.94074\" y=\"185.183866\" style=\"fill: #bfbf00\"/>\n     <use xlink:href=\"#m2cf8014ba3\" x=\"77.655684\" y=\"155.461308\" style=\"fill: #bfbf00\"/>\n     <use xlink:href=\"#m2cf8014ba3\" x=\"87.94074\" y=\"108.253562\" style=\"fill: #bfbf00\"/>\n     <use xlink:href=\"#m2cf8014ba3\" x=\"140.398097\" y=\"105.630909\" style=\"fill: #bfbf00\"/>\n     <use xlink:href=\"#m2cf8014ba3\" x=\"144.512119\" y=\"80.278601\" style=\"fill: #bfbf00\"/>\n     <use xlink:href=\"#m2cf8014ba3\" x=\"121.883211\" y=\"82.027036\" style=\"fill: #bfbf00\"/>\n     <use xlink:href=\"#m2cf8014ba3\" x=\"114.683671\" y=\"105.630909\" style=\"fill: #bfbf00\"/>\n     <use xlink:href=\"#m2cf8014ba3\" x=\"230.911947\" y=\"96.888734\" style=\"fill: #bfbf00\"/>\n     <use xlink:href=\"#m2cf8014ba3\" x=\"222.683545\" y=\"80.278601\" style=\"fill: #bfbf00\"/>\n     <use xlink:href=\"#m2cf8014ba3\" x=\"193.883959\" y=\"71.536426\" style=\"fill: #bfbf00\"/>\n     <use xlink:href=\"#m2cf8014ba3\" x=\"197.997803\" y=\"57.551337\" style=\"fill: #bfbf00\"/>\n     <use xlink:href=\"#m2cf8014ba3\" x=\"263.825911\" y=\"60.170402\" style=\"fill: #bfbf00\"/>\n     <use xlink:href=\"#m2cf8014ba3\" x=\"283.369303\" y=\"91.643429\" style=\"fill: #bfbf00\"/>\n     <use xlink:href=\"#m2cf8014ba3\" x=\"326.568324\" y=\"83.775471\" style=\"fill: #bfbf00\"/>\n     <use xlink:href=\"#m2cf8014ba3\" x=\"359.484075\" y=\"110.876214\" style=\"fill: #bfbf00\"/>\n     <use xlink:href=\"#m2cf8014ba3\" x=\"332.741143\" y=\"113.498867\" style=\"fill: #bfbf00\"/>\n     <use xlink:href=\"#m2cf8014ba3\" x=\"403.720529\" y=\"178.189767\" style=\"fill: #bfbf00\"/>\n     <use xlink:href=\"#m2cf8014ba3\" x=\"204.169194\" y=\"259.491997\" style=\"fill: #bfbf00\"/>\n     <use xlink:href=\"#m2cf8014ba3\" x=\"170.226545\" y=\"266.485737\" style=\"fill: #bfbf00\"/>\n     <use xlink:href=\"#m2cf8014ba3\" x=\"185.654129\" y=\"234.139689\" style=\"fill: #bfbf00\"/>\n     <use xlink:href=\"#m2cf8014ba3\" x=\"124.968727\" y=\"226.271731\" style=\"fill: #bfbf00\"/>\n     <use xlink:href=\"#m2cf8014ba3\" x=\"129.08275\" y=\"206.164728\" style=\"fill: #bfbf00\"/>\n     <use xlink:href=\"#m2cf8014ba3\" x=\"160.969995\" y=\"197.422912\" style=\"fill: #bfbf00\"/>\n     <use xlink:href=\"#m2cf8014ba3\" x=\"103.368324\" y=\"198.29701\" style=\"fill: #bfbf00\"/>\n     <use xlink:href=\"#m2cf8014ba3\" x=\"94.111774\" y=\"215.781121\" style=\"fill: #bfbf00\"/>\n     <use xlink:href=\"#m2cf8014ba3\" x=\"105.427121\" y=\"240.259211\" style=\"fill: #bfbf00\"/>\n     <use xlink:href=\"#m2cf8014ba3\" x=\"82.798212\" y=\"200.045445\" style=\"fill: #bfbf00\"/>\n     <use xlink:href=\"#m2cf8014ba3\" x=\"64.283326\" y=\"152.838655\" style=\"fill: #bfbf00\"/>\n     <use xlink:href=\"#m2cf8014ba3\" x=\"83.826718\" y=\"125.737912\" style=\"fill: #bfbf00\"/>\n     <use xlink:href=\"#m2cf8014ba3\" x=\"106.455627\" y=\"130.983217\" style=\"fill: #bfbf00\"/>\n     <use xlink:href=\"#m2cf8014ba3\" x=\"125.997233\" y=\"70.662208\" style=\"fill: #bfbf00\"/>\n     <use xlink:href=\"#m2cf8014ba3\" x=\"211.369197\" y=\"70.662208\" style=\"fill: #bfbf00\"/>\n     <use xlink:href=\"#m2cf8014ba3\" x=\"325.466609\" y=\"193.827857\" style=\"fill: #bfbf00\"/>\n    </g>\n   </g>\n   <g id=\"PathCollection_1\">\n    <path d=\"M 234.365115 261.85939 \nL 243.475319 262.823892 \nL 252.585523 263.400431 \nL 261.695727 263.541657 \nL 270.805931 263.182457 \nL 279.916135 262.238021 \nL 287.108677 260.945845 \nL 289.026339 260.554845 \nL 298.136543 257.776864 \nL 305.010325 254.844212 \nL 307.246747 253.761245 \nL 315.008832 248.74258 \nL 316.356952 247.754072 \nL 321.736571 242.640947 \nL 325.467156 238.610528 \nL 326.982846 236.539314 \nL 330.887489 230.437682 \nL 334.283469 224.336049 \nL 334.57736 223.726893 \nL 336.704951 218.234416 \nL 338.687345 212.132784 \nL 340.308675 206.031151 \nL 341.579048 199.929518 \nL 342.500482 193.827886 \nL 343.070191 187.726253 \nL 343.28281 181.624621 \nL 343.131676 175.522988 \nL 342.609164 169.421355 \nL 341.705926 163.319723 \nL 340.40868 157.21809 \nL 338.695749 151.116457 \nL 336.528755 145.014825 \nL 334.57736 140.607708 \nL 333.710884 138.913192 \nL 329.939332 132.811559 \nL 325.481236 126.709927 \nL 325.467156 126.694077 \nL 319.380162 120.608294 \nL 316.356952 118.050307 \nL 311.645308 114.506661 \nL 307.246747 111.71697 \nL 301.412809 108.405029 \nL 298.136543 106.841617 \nL 289.026339 102.96133 \nL 287.30711 102.303396 \nL 279.916135 99.960436 \nL 270.805931 97.38073 \nL 266.164477 96.201763 \nL 261.695727 95.260311 \nL 252.585523 93.610852 \nL 243.475319 92.180961 \nL 234.365115 90.95422 \nL 226.714088 90.100131 \nL 225.254911 89.965456 \nL 216.144707 89.332885 \nL 207.034503 88.900096 \nL 197.924298 88.672401 \nL 188.814094 88.661624 \nL 179.70389 88.885098 \nL 170.593686 89.366008 \nL 161.893627 90.100131 \nL 161.483482 90.144889 \nL 152.373278 91.518133 \nL 143.263074 93.319835 \nL 134.15287 95.615944 \nL 132.273435 96.201763 \nL 125.042666 99.159797 \nL 118.666722 102.303396 \nL 115.932462 104.122989 \nL 110.475387 108.405029 \nL 106.822258 112.378617 \nL 105.134536 114.506661 \nL 101.794061 120.608294 \nL 99.635825 126.709927 \nL 98.426722 132.811559 \nL 97.992142 138.913192 \nL 98.194373 145.014825 \nL 98.924948 151.116457 \nL 100.101217 157.21809 \nL 101.6638 163.319723 \nL 103.574159 169.421355 \nL 105.812448 175.522988 \nL 106.822258 177.937155 \nL 108.55806 181.624621 \nL 111.737701 187.726253 \nL 115.231787 193.827886 \nL 115.932462 194.947891 \nL 119.407843 199.929518 \nL 123.982031 206.031151 \nL 125.042666 207.346058 \nL 129.329908 212.132784 \nL 134.15287 217.194113 \nL 135.25416 218.234416 \nL 142.09988 224.336049 \nL 143.263074 225.312579 \nL 150.014308 230.437682 \nL 152.373278 232.127525 \nL 159.187453 236.539314 \nL 161.483482 237.939385 \nL 170.02806 242.640947 \nL 170.593686 242.932938 \nL 179.70389 247.15147 \nL 183.534364 248.74258 \nL 188.814094 250.780912 \nL 197.924298 253.901325 \nL 201.053808 254.844212 \nL 207.034503 256.500331 \nL 216.144707 258.669077 \nL 225.254911 260.493752 \nL 228.073964 260.945845 \nL 234.365115 261.85939 \nz\n\" clip-path=\"url(#p7c65c7df5f)\" style=\"fill: none; stroke: #008000; stroke-width: 1.75\"/>\n   </g>\n   <g id=\"patch_3\">\n    <path d=\"M 33.940625 309.758906 \nL 33.940625 10.778906 \n\" style=\"fill: none\"/>\n   </g>\n   <g id=\"patch_4\">\n    <path d=\"M 480.340625 309.758906 \nL 480.340625 10.778906 \n\" style=\"fill: none\"/>\n   </g>\n   <g id=\"patch_5\">\n    <path d=\"M 33.940625 309.758906 \nL 480.340625 309.758906 \n\" style=\"fill: none\"/>\n   </g>\n   <g id=\"patch_6\">\n    <path d=\"M 33.940625 10.778906 \nL 480.340625 10.778906 \n\" style=\"fill: none\"/>\n   </g>\n  </g>\n </g>\n <defs>\n  <clipPath id=\"p7c65c7df5f\">\n   <rect x=\"33.940625\" y=\"10.778906\" width=\"446.4\" height=\"298.98\"/>\n  </clipPath>\n </defs>\n</svg>\n",
      "text/plain": [
       "<Figure size 576x396 with 1 Axes>"
      ]
     },
     "metadata": {},
     "output_type": "display_data"
    }
   ],
   "source": [
    "plot_decision_boundary(w, b, X_mapped, y_train)"
   ]
  },
  {
   "cell_type": "markdown",
   "metadata": {},
   "source": [
    "<a name=\"3.8\"></a>\n",
    "### 3.8 Evaluating regularized logistic regression model\n",
    "\n",
    "You will use the `predict` function that you implemented above to calculate the accuracy of the regulaized logistic regression model on the training set"
   ]
  },
  {
   "cell_type": "code",
   "execution_count": 34,
   "metadata": {},
   "outputs": [
    {
     "name": "stdout",
     "output_type": "stream",
     "text": [
      "Train Accuracy: 82.203390\n"
     ]
    }
   ],
   "source": [
    "#Compute accuracy on the training set\n",
    "p = predict(X_mapped, w, b)\n",
    "\n",
    "print('Train Accuracy: %f'%(np.mean(p == y_train) * 100))"
   ]
  },
  {
   "cell_type": "markdown",
   "metadata": {},
   "source": [
    "**Expected Output**:\n",
    "<table>\n",
    "  <tr>\n",
    "    <td> <b>Train Accuracy:</b>~ 80%</td> </tr>\n",
    "</table>"
   ]
  }
 ],
 "metadata": {
  "kernelspec": {
   "display_name": "Python 3.10.2 ('env': venv)",
   "language": "python",
   "name": "python3"
  },
  "language_info": {
   "codemirror_mode": {
    "name": "ipython",
    "version": 3
   },
   "file_extension": ".py",
   "mimetype": "text/x-python",
   "name": "python",
   "nbconvert_exporter": "python",
   "pygments_lexer": "ipython3",
   "version": "3.10.2"
  },
  "vscode": {
   "interpreter": {
    "hash": "2f4de26601523beafefbb4475058f1a58381d7ae08cf9b746bf8d0e1d0016b16"
   }
  }
 },
 "nbformat": 4,
 "nbformat_minor": 4
}
